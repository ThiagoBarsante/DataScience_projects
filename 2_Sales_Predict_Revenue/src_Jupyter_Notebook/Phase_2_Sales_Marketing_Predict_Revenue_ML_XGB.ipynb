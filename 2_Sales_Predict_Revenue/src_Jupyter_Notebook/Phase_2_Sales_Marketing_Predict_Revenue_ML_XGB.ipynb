{
 "cells": [
  {
   "cell_type": "markdown",
   "metadata": {},
   "source": [
    "## Phase 2 - EDA + Machine Learning with XGB\n",
    "- More information - Phase 0 (Business Requirement) and Phase 1 (EDA using Python)\n",
    "\n",
    "- In this Notebook we will do more exploratory data analysis and execute machine learning algorithms\n",
    "\n",
    "- At the end is going to be provided a summary analysis and expected to answer the business questions (phase 0)\n",
    "\n",
    "\n",
    "###  Prediction of Revenue in 2008\n"
   ]
  },
  {
   "cell_type": "markdown",
   "metadata": {},
   "source": [
    "#### Packages used in this Notebook\n",
    "- tidyverse\n",
    "- xgboost\n",
    "- Ckmeans.1d.dp\n",
    "- caret\n",
    "- MLmetrics\n",
    "\n",
    "- to install a package just run the command for example: \n",
    "install.packages('MLmetrics')"
   ]
  },
  {
   "cell_type": "code",
   "execution_count": 2,
   "metadata": {},
   "outputs": [],
   "source": [
    "library(tidyverse)\n",
    "library(xgboost)"
   ]
  },
  {
   "cell_type": "markdown",
   "metadata": {},
   "source": [
    "## Info - dataset\n",
    "\n",
    "- the public dataset used in this process can be accessed trought IBM website below\n",
    "\n",
    "https://www.ibm.com/communities/analytics/watson-analytics-blog/guide-to-sample-datasets/"
   ]
  },
  {
   "cell_type": "code",
   "execution_count": 3,
   "metadata": {},
   "outputs": [
    {
     "name": "stderr",
     "output_type": "stream",
     "text": [
      "Parsed with column specification:\n",
      "cols(\n",
      "  Year = col_integer(),\n",
      "  `Product line` = col_character(),\n",
      "  `Product type` = col_character(),\n",
      "  Product = col_character(),\n",
      "  `Order method type` = col_character(),\n",
      "  `Retailer country` = col_character(),\n",
      "  Revenue = col_double(),\n",
      "  `Planned revenue` = col_double(),\n",
      "  `Product cost` = col_double(),\n",
      "  Quantity = col_integer(),\n",
      "  `Unit cost` = col_double(),\n",
      "  `Unit price` = col_double(),\n",
      "  `Gross profit` = col_double(),\n",
      "  `Unit sale price` = col_double()\n",
      ")\n"
     ]
    },
    {
     "data": {
      "text/html": [
       "<table>\n",
       "<thead><tr><th scope=col>Year</th><th scope=col>Product line</th><th scope=col>Product type</th><th scope=col>Product</th><th scope=col>Order method type</th><th scope=col>Retailer country</th><th scope=col>Revenue</th></tr></thead>\n",
       "<tbody>\n",
       "\t<tr><td>2004               </td><td>Camping Equipment  </td><td>Cooking Gear       </td><td>TrailChef Water Bag</td><td>Telephone          </td><td>United States      </td><td>315044.33          </td></tr>\n",
       "\t<tr><td>2004               </td><td>Camping Equipment  </td><td>Cooking Gear       </td><td>TrailChef Water Bag</td><td>Telephone          </td><td>Canada             </td><td> 13444.68          </td></tr>\n",
       "\t<tr><td>2004               </td><td>Camping Equipment  </td><td>Cooking Gear       </td><td>TrailChef Water Bag</td><td>Telephone          </td><td>Japan              </td><td>181120.24          </td></tr>\n",
       "\t<tr><td>2004               </td><td>Camping Equipment  </td><td>Cooking Gear       </td><td>TrailChef Water Bag</td><td>Telephone          </td><td>China              </td><td> 69608.15          </td></tr>\n",
       "\t<tr><td>2004               </td><td>Camping Equipment  </td><td>Cooking Gear       </td><td>TrailChef Water Bag</td><td>Telephone          </td><td>Singapore          </td><td> 30940.35          </td></tr>\n",
       "</tbody>\n",
       "</table>\n"
      ],
      "text/latex": [
       "\\begin{tabular}{r|lllllll}\n",
       " Year & Product line & Product type & Product & Order method type & Retailer country & Revenue\\\\\n",
       "\\hline\n",
       "\t 2004                & Camping Equipment   & Cooking Gear        & TrailChef Water Bag & Telephone           & United States       & 315044.33          \\\\\n",
       "\t 2004                & Camping Equipment   & Cooking Gear        & TrailChef Water Bag & Telephone           & Canada              &  13444.68          \\\\\n",
       "\t 2004                & Camping Equipment   & Cooking Gear        & TrailChef Water Bag & Telephone           & Japan               & 181120.24          \\\\\n",
       "\t 2004                & Camping Equipment   & Cooking Gear        & TrailChef Water Bag & Telephone           & China               &  69608.15          \\\\\n",
       "\t 2004                & Camping Equipment   & Cooking Gear        & TrailChef Water Bag & Telephone           & Singapore           &  30940.35          \\\\\n",
       "\\end{tabular}\n"
      ],
      "text/markdown": [
       "\n",
       "Year | Product line | Product type | Product | Order method type | Retailer country | Revenue | \n",
       "|---|---|---|---|---|\n",
       "| 2004                | Camping Equipment   | Cooking Gear        | TrailChef Water Bag | Telephone           | United States       | 315044.33           | \n",
       "| 2004                | Camping Equipment   | Cooking Gear        | TrailChef Water Bag | Telephone           | Canada              |  13444.68           | \n",
       "| 2004                | Camping Equipment   | Cooking Gear        | TrailChef Water Bag | Telephone           | Japan               | 181120.24           | \n",
       "| 2004                | Camping Equipment   | Cooking Gear        | TrailChef Water Bag | Telephone           | China               |  69608.15           | \n",
       "| 2004                | Camping Equipment   | Cooking Gear        | TrailChef Water Bag | Telephone           | Singapore           |  30940.35           | \n",
       "\n",
       "\n"
      ],
      "text/plain": [
       "  Year Product line      Product type Product             Order method type\n",
       "1 2004 Camping Equipment Cooking Gear TrailChef Water Bag Telephone        \n",
       "2 2004 Camping Equipment Cooking Gear TrailChef Water Bag Telephone        \n",
       "3 2004 Camping Equipment Cooking Gear TrailChef Water Bag Telephone        \n",
       "4 2004 Camping Equipment Cooking Gear TrailChef Water Bag Telephone        \n",
       "5 2004 Camping Equipment Cooking Gear TrailChef Water Bag Telephone        \n",
       "  Retailer country Revenue  \n",
       "1 United States    315044.33\n",
       "2 Canada            13444.68\n",
       "3 Japan            181120.24\n",
       "4 China             69608.15\n",
       "5 Singapore         30940.35"
      ]
     },
     "metadata": {},
     "output_type": "display_data"
    }
   ],
   "source": [
    "df <- read_csv('../data/WA_Retail-SalesMarketing_-ProfitCost.csv')\n",
    "\n",
    "## remove records without revenue\n",
    "df <- na.omit(df)\n",
    "\n",
    "## Columns used for prediction\n",
    "col_revenue <- c(\n",
    "  'Year'\n",
    "  , 'Product line'\n",
    "  , 'Product type'\n",
    "  , 'Product'\n",
    "  , 'Order method type'\n",
    "  , 'Retailer country'\n",
    "  , 'Revenue')\n",
    "\n",
    "\n",
    "df <- df[col_revenue]\n",
    "\n",
    "df %>% head(5) "
   ]
  },
  {
   "cell_type": "markdown",
   "metadata": {},
   "source": [
    "### Basic information / distribution of the data"
   ]
  },
  {
   "cell_type": "code",
   "execution_count": 4,
   "metadata": {},
   "outputs": [
    {
     "data": {
      "image/png": "[encoded data removed]",
      "text/plain": [
       "plot without title"
      ]
     },
     "metadata": {},
     "output_type": "display_data"
    }
   ],
   "source": [
    "df <- df %>% mutate_if(is.character, as.factor)\n",
    "\n",
    "options(repr.plot.width = 9, repr.plot.height = 3)\n",
    "gg1 <- qplot(data=df, x=`Order method type`, y=Revenue, geom='col', fill=Year, main = 'Revenue by Order method' ) +\n",
    "  scale_y_continuous(name=\"Revenue\", labels = scales::comma) + coord_flip()  +\n",
    "  theme(axis.title.x=element_blank(),\n",
    "        axis.text.x=element_blank(),\n",
    "        axis.ticks.x=element_blank())\n",
    "\n",
    "gg2 <- qplot(data=df, x=`Retailer country`, y=Revenue, geom='col', fill=Year, main = 'Revenue by Country'  ) +\n",
    "  scale_y_continuous(name=\"Revenue\", labels = scales::comma) + coord_flip()  +\n",
    "  theme(axis.title.x=element_blank(),\n",
    "        axis.text.x=element_blank(),\n",
    "        axis.ticks.x=element_blank())\n",
    "\n",
    "gridExtra::grid.arrange(gg1, gg2, nrow = 1)"
   ]
  },
  {
   "cell_type": "markdown",
   "metadata": {},
   "source": [
    "### Analyze Revenue by Product line with Year distribution"
   ]
  },
  {
   "cell_type": "code",
   "execution_count": 5,
   "metadata": {},
   "outputs": [
    {
     "data": {},
     "metadata": {},
     "output_type": "display_data"
    },
    {
     "data": {
      "image/png": "[encoded data removed]",
      "text/plain": [
       "plot without title"
      ]
     },
     "metadata": {},
     "output_type": "display_data"
    }
   ],
   "source": [
    "options(repr.plot.width = 8, repr.plot.height = 2)\n",
    "\n",
    "## revenue by product line by year\n",
    "qplot(data=df, x=`Product line`, y=Revenue, geom='col', fill=Year) +\n",
    "  scale_y_continuous(name=\"Revenue\", labels = scales::comma) + coord_flip()\n"
   ]
  },
  {
   "cell_type": "markdown",
   "metadata": {},
   "source": [
    "#### 1st Note\n",
    "- Personal Accessories and Camping Equipment tend to have higher revenue that other Product lines\n",
    "\n",
    "- Web method provide the biggest revenues\n",
    "\n",
    "- United States country also provide the biggest revenue"
   ]
  },
  {
   "cell_type": "markdown",
   "metadata": {},
   "source": [
    "### Distribution of the Revenue and evaluation of possible outliers"
   ]
  },
  {
   "cell_type": "code",
   "execution_count": 6,
   "metadata": {},
   "outputs": [
    {
     "data": {},
     "metadata": {},
     "output_type": "display_data"
    },
    {
     "data": {
      "image/png": "[encoded data removed]",
      "text/plain": [
       "plot without title"
      ]
     },
     "metadata": {},
     "output_type": "display_data"
    }
   ],
   "source": [
    "options(repr.plot.width = 10, repr.plot.height = 4)\n",
    "qplot(data=df, x=`Product line`, y=Revenue, geom='boxplot', color=`Product line`, facets = ' Year ~ .') +\n",
    "  scale_y_continuous(name=\"Revenue\", labels = scales::comma)  + ## mediana = 163000\n",
    "  theme(axis.text.x = element_text(angle = 45, hjust = 1))"
   ]
  },
  {
   "cell_type": "markdown",
   "metadata": {},
   "source": [
    "### 2nd Note\n",
    "\n",
    "- Personal Accessories and Camping Equipment have more outliers with higher value in Year 2006\n",
    "\n",
    "- Let's confirm the Total Revenue by Year (2006) and it's impact related to others\n",
    "\n",
    "\n",
    "### Info\n",
    "\n",
    "- this type of scenario (higher revenue for specific items on specific year) must be better understanding with Line of Business Managers and also evaluate if it was just a sazonal discrepancie or some marketing campaign or business decision have bigger influence on these numbers\n",
    "\n",
    "\n",
    "- Another important point to understand are related on how it can influence the prediction of the revenue for year 2008\n",
    "\n",
    "\n",
    "## Total Revenue by Year"
   ]
  },
  {
   "cell_type": "code",
   "execution_count": 7,
   "metadata": {},
   "outputs": [
    {
     "data": {},
     "metadata": {},
     "output_type": "display_data"
    },
    {
     "data": {
      "image/png": "[encoded data removed]",
      "text/plain": [
       "plot without title"
      ]
     },
     "metadata": {},
     "output_type": "display_data"
    }
   ],
   "source": [
    "## revenue by year -> fazer a simulacao/modelo somente com estes dados\n",
    "options(repr.plot.width = 8, repr.plot.height = 2)\n",
    "qplot(data=df, x=Year, y=Revenue, geom='col', fill=Year)+\n",
    "  scale_y_continuous(name=\"Revenue\", labels = scales::comma) + coord_flip()\n"
   ]
  },
  {
   "cell_type": "markdown",
   "metadata": {},
   "source": [
    "## Start the Prediction of Revenue for year - 2008\n",
    "\n",
    "- Will be used XGBoost to predict the revenue in 2008\n",
    "- Use Caret to partition the train and test data\n",
    "- Compare the results achieved with XGB vs Random Forest in Phase 1\n",
    "\n",
    "#### Aditional info\n",
    "- Were not provided one dataset by the business users related to year 2008\n",
    "\n",
    "#### XGBoost documentation and samples: \n",
    "\n",
    "https://xgboost.readthedocs.io/en/latest/ \n",
    "\n",
    "https://github.com/dmlc/xgboost"
   ]
  },
  {
   "cell_type": "code",
   "execution_count": 8,
   "metadata": {},
   "outputs": [],
   "source": [
    "## define the target and prepare the data to run XGB\n",
    "target <- 'Revenue'\n",
    "idx_target <- which(col_revenue == target)\n",
    "\n",
    "dfxgb <- df %>% mutate_if(is.character, as.factor)\n",
    "dfxgb <- dfxgb %>% mutate_if(is.factor, as.integer)\n",
    "\n",
    "set.seed(12345)\n",
    "idx <- caret::createDataPartition(dfxgb$Revenue, p=0.80, list=FALSE)\n",
    "train <- dfxgb[idx, ]\n",
    "test <- dfxgb[-idx, ]\n",
    "\n",
    "dtrain <- xgb.DMatrix(data = as.matrix(train[, -idx_target]), label= train[[target]])\n",
    "dtest <- xgb.DMatrix(data = as.matrix(test[, -idx_target]))"
   ]
  },
  {
   "cell_type": "code",
   "execution_count": 9,
   "metadata": {},
   "outputs": [
    {
     "name": "stdout",
     "output_type": "stream",
     "text": [
      "[1]\ttrain-rmse:368519.000000 \n",
      "[26]\ttrain-rmse:161832.156250 \n",
      "[51]\ttrain-rmse:131686.859375 \n",
      "[76]\ttrain-rmse:110794.734375 \n",
      "[101]\ttrain-rmse:101309.117188 \n",
      "[126]\ttrain-rmse:92665.507812 \n",
      "[151]\ttrain-rmse:87156.484375 \n",
      "[176]\ttrain-rmse:83507.718750 \n",
      "[201]\ttrain-rmse:79411.625000 \n",
      "[226]\ttrain-rmse:75475.070312 \n",
      "[251]\ttrain-rmse:72690.914062 \n",
      "[276]\ttrain-rmse:70538.992188 \n",
      "[301]\ttrain-rmse:68313.281250 \n",
      "[326]\ttrain-rmse:66531.570312 \n",
      "[350]\ttrain-rmse:64893.933594 \n"
     ]
    }
   ],
   "source": [
    "## execution of XGB\n",
    "set.seed(12345)\n",
    "fit.xgb <- xgboost(data = dtrain, \n",
    "                   objective = \"reg:linear\",\n",
    "                   booster = \"gbtree\",\n",
    "                   print_every_n = 25, ## print every 25\n",
    "                   nrounds = 350) \n"
   ]
  },
  {
   "cell_type": "markdown",
   "metadata": {},
   "source": [
    "### 3rd Note\n",
    "\n",
    "- XGB have a lot of parameters to tune the algorithm as can be seen in the XGB documentation link provided above\n",
    "\n",
    "\n",
    "- The printed result above shows the improvement of the trainning process at every 25 steps as detailed in print_every_n = 25, and use rmse evaluation metric\n",
    "\n",
    "### Info\n",
    "- The Random Forest Regressor/Phase_1 (Python - sklearn) use R^2 to evaluate the prediction and will be used also below to compare both metrics. Our target is to achieve R^2 near to 1\n",
    "\n",
    "\n",
    "\n",
    "#### RMSE : Root Mean Squared Error\n",
    "\n",
    "https://en.wikipedia.org/wiki/Root-mean-square_deviation\n",
    "\n",
    "#### R^2 : Coeficient of determination\n",
    "\n",
    "https://en.wikipedia.org/wiki/Coefficient_of_determination\n",
    "\n",
    "\n",
    "    **  In regression, the R2 coefficient of determination is a statistical measure of how well the regression predictions approximate the real data points. An R2 of 1 indicates that the regression predictions perfectly fit the data\n"
   ]
  },
  {
   "cell_type": "markdown",
   "metadata": {},
   "source": [
    "## Feature importance\n",
    "\n",
    "#### Note\n",
    "- the 3 most important features still the same (Product, Retailer country and Order method type) however with XGB the most import feature is Product\n"
   ]
  },
  {
   "cell_type": "code",
   "execution_count": 10,
   "metadata": {},
   "outputs": [
    {
     "name": "stdout",
     "output_type": "stream",
     "text": [
      "             Feature       Gain      Cover  Frequency\n",
      "1:           Product 0.30438392 0.49273598 0.25324370\n",
      "2:  Retailer country 0.23113830 0.22153642 0.30001880\n",
      "3: Order method type 0.21003098 0.08815150 0.17826250\n",
      "4:      Product type 0.10035484 0.09174638 0.06788266\n",
      "5:              Year 0.07737424 0.07443256 0.15739000\n",
      "6:      Product line 0.07671772 0.03139716 0.04320233\n"
     ]
    },
    {
     "data": {},
     "metadata": {},
     "output_type": "display_data"
    },
    {
     "data": {
      "image/png": "[encoded data removed]",
      "text/plain": [
       "plot without title"
      ]
     },
     "metadata": {},
     "output_type": "display_data"
    }
   ],
   "source": [
    "### feature importance\n",
    "## importance variable of the xgb model\n",
    "imp_features <- xgb.importance(model = fit.xgb)\n",
    "\n",
    "print(imp_features)\n",
    "\n",
    "## Plot Feature importance\n",
    "xgb.ggplot.importance(imp_features, rel_to_first = TRUE)\n"
   ]
  },
  {
   "cell_type": "markdown",
   "metadata": {},
   "source": [
    "#### Compare the prediction between XGB and Random Forest (Phase_1)"
   ]
  },
  {
   "cell_type": "code",
   "execution_count": 11,
   "metadata": {},
   "outputs": [
    {
     "name": "stdout",
     "output_type": "stream",
     "text": [
      "[1] \"---------------------------- R^2 evaluation\"\n",
      "[1] 0.9016625\n"
     ]
    }
   ],
   "source": [
    "## Evaluate the prediction with test data\n",
    "predict_xgb <- predict(fit.xgb, dtest)\n",
    "predict_xgb <- ifelse(predict_xgb < 1, 0, predict_xgb)\n",
    "\n",
    "\n",
    "## R^2 0.9016625 -> 90% -> 6% better than random forest python (84%)\n",
    "print('---------------------------- R^2 evaluation')\n",
    "print(MLmetrics::R2_Score(predict_xgb, test$Revenue))\n"
   ]
  },
  {
   "cell_type": "markdown",
   "metadata": {},
   "source": [
    "### Important note\n",
    "- The prediction provided by XGB achieve an R^2 of 0.9016625 and is 6% higher than Random Forest in Phase 1 (0.8442048767542322) and is a good improvement, so we can keep the prediction with XGB\n",
    "\n",
    "- Let's move on and predict and evaluate the revenue for the year 2008"
   ]
  },
  {
   "cell_type": "code",
   "execution_count": 12,
   "metadata": {},
   "outputs": [
    {
     "name": "stdout",
     "output_type": "stream",
     "text": [
      "[1] \"-------------------------------------- INITIAL dataset: 2008 YEAR\"\n",
      "      Year       Product line    Product type      Product      \n",
      " Min.   :2008   Min.   :1.000   Min.   : 1.00   Min.   :  1.00  \n",
      " 1st Qu.:2008   1st Qu.:1.000   1st Qu.: 4.00   1st Qu.: 36.00  \n",
      " Median :2008   Median :3.000   Median :10.00   Median : 68.00  \n",
      " Mean   :2008   Mean   :2.937   Mean   :10.64   Mean   : 70.36  \n",
      " 3rd Qu.:2008   3rd Qu.:5.000   3rd Qu.:16.00   3rd Qu.:106.00  \n",
      " Max.   :2008   Max.   :5.000   Max.   :21.00   Max.   :144.00  \n",
      " Order method type Retailer country    Revenue \n",
      " Min.   :1.000     Min.   : 1.00    Min.   :0  \n",
      " 1st Qu.:4.000     1st Qu.: 6.00    1st Qu.:0  \n",
      " Median :7.000     Median :12.00    Median :0  \n",
      " Mean   :5.773     Mean   :11.57    Mean   :0  \n",
      " 3rd Qu.:7.000     3rd Qu.:17.00    3rd Qu.:0  \n",
      " Max.   :7.000     Max.   :21.00    Max.   :0  \n",
      "[1] \"-------------------------------------- PREDICTION: 2008 YEAR\"\n"
     ]
    },
    {
     "data": {
      "text/plain": [
       "      Year       Product line    Product type      Product      \n",
       " Min.   :2004   Min.   :1.000   Min.   : 1.00   Min.   :  1.00  \n",
       " 1st Qu.:2005   1st Qu.:1.000   1st Qu.: 4.00   1st Qu.: 35.00  \n",
       " Median :2006   Median :3.000   Median :10.00   Median : 71.00  \n",
       " Mean   :2006   Mean   :2.951   Mean   :10.52   Mean   : 71.63  \n",
       " 3rd Qu.:2007   3rd Qu.:5.000   3rd Qu.:16.00   3rd Qu.:109.00  \n",
       " Max.   :2008   Max.   :5.000   Max.   :21.00   Max.   :144.00  \n",
       " Order method type Retailer country    Revenue        \n",
       " Min.   :1.000     Min.   : 1.00    Min.   :       0  \n",
       " 1st Qu.:4.000     1st Qu.: 6.00    1st Qu.:   19549  \n",
       " Median :6.000     Median :11.00    Median :   65002  \n",
       " Mean   :5.309     Mean   :11.46    Mean   :  197870  \n",
       " 3rd Qu.:7.000     3rd Qu.:17.00    3rd Qu.:  207914  \n",
       " Max.   :7.000     Max.   :21.00    Max.   :10054289  "
      ]
     },
     "metadata": {},
     "output_type": "display_data"
    }
   ],
   "source": [
    "## The Business Requirement request to predict the revenue for 2008 but do not provide data for 2008\n",
    "\n",
    "## the trick here => we will use the same products sold on 2007 to predict the Revenue for 2008 and evaluate the results\n",
    "#### the model used have R^2 of 0.9016 so we expect to achieve a confident result\n",
    "\n",
    "df_2008 <- dfxgb %>% filter(Year==2007)\n",
    "\n",
    "## update Year to 2008 and setup the Revenue to 0 -> Revenue will be updated with the prediction later\n",
    "df_2008$Year <- 2008\n",
    "df_2008$Revenue <- 0\n",
    "\n",
    "print('-------------------------------------- INITIAL dataset: 2008 YEAR')\n",
    "print(summary(df_2008))\n",
    "\n",
    "## gernerate the data to use with XGB model (fit.xgb)\n",
    "xgb_2008 <- xgb.DMatrix(data = as.matrix(df_2008[, -idx_target]), label= df_2008[[target]])\n",
    "\n",
    "predict_revenue_2018 <- predict(fit.xgb, xgb_2008)\n",
    "predict_revenue_2018 <- ifelse(predict_revenue_2018 < 1, 0, predict_revenue_2018)\n",
    "\n",
    "## update the Revenue predition for year 2008 and compare with other Years\n",
    "df_2008$Revenue <- predict_revenue_2018\n",
    "\n",
    "## generate one dataset to compare the revenue form all Years\n",
    "df_all <- rbind(dfxgb, df_2008)\n",
    "\n",
    "print('-------------------------------------- PREDICTION: 2008 YEAR')\n",
    "summary(df_all)"
   ]
  },
  {
   "cell_type": "markdown",
   "metadata": {},
   "source": [
    "### Evalute the Revenue Prediction for 2008\n",
    "\n",
    "- Info: The Revenue for 2008 Year are predictions and from 2004 to 2007 are real Revenue"
   ]
  },
  {
   "cell_type": "code",
   "execution_count": 13,
   "metadata": {},
   "outputs": [
    {
     "data": {},
     "metadata": {},
     "output_type": "display_data"
    },
    {
     "data": {
      "image/png": "[encoded data removed]",
      "text/plain": [
       "plot without title"
      ]
     },
     "metadata": {},
     "output_type": "display_data"
    }
   ],
   "source": [
    "## info: 2008 is the Revenue Prediction\n",
    "qplot(data=df_all, x=Year, y=Revenue, geom='col', fill=Year, main='Predicted Revenue for 2008')+\n",
    "  scale_y_continuous(name=\"Revenue\", labels = scales::comma) + coord_flip()\n"
   ]
  },
  {
   "cell_type": "code",
   "execution_count": 14,
   "metadata": {},
   "outputs": [
    {
     "name": "stdout",
     "output_type": "stream",
     "text": [
      "# A tibble: 5 x 2\n",
      "   Year Total_Revenue\n",
      "  <dbl>         <dbl>\n",
      "1  2004    914352804.\n",
      "2  2005   1159195590.\n",
      "3  2006   1495891101.\n",
      "4  2007   1117336274.\n",
      "5  2008   1132382363.\n"
     ]
    }
   ],
   "source": [
    "## Revenue by Year\n",
    "revenue_by_year <- df_all %>% group_by(Year) %>% summarise(Total_Revenue = sum(Revenue))\n",
    "\n",
    "print(revenue_by_year)"
   ]
  },
  {
   "cell_type": "markdown",
   "metadata": {},
   "source": [
    "## Insights\n",
    "\n",
    "- The revenue prediction for the year 2008 is bigger than 2007 and smaller than the year 2005\n",
    "\n",
    "\n",
    "- The higher revenue of year 2006 seems to not impact the prediction of the revenue for 2008\n",
    "        => the higher outliers exposed in the boxplot chart seems to not impact in the revenue prediction\n",
    "\n",
    "\n",
    "- The confidence of this prediction is quite high so let's answer the final business questions\n",
    "    -  what are the divergence expected on revenue in 2008 ?"
   ]
  },
  {
   "cell_type": "markdown",
   "metadata": {},
   "source": [
    "### Analysis - Revenue Prediction of 2008 vs (2005 and 2007)"
   ]
  },
  {
   "cell_type": "code",
   "execution_count": 15,
   "metadata": {},
   "outputs": [
    {
     "name": "stdout",
     "output_type": "stream",
     "text": [
      "[1] \" -------------- Revenue 2008 vs 2005 \"\n"
     ]
    },
    {
     "data": {
      "text/html": [
       "<table>\n",
       "<thead><tr><th scope=col>Percent Revenue_2008_vs_2005</th></tr></thead>\n",
       "<tbody>\n",
       "\t<tr><td>97.69</td></tr>\n",
       "</tbody>\n",
       "</table>\n"
      ],
      "text/latex": [
       "\\begin{tabular}{r|l}\n",
       " Percent Revenue\\_2008\\_vs\\_2005\\\\\n",
       "\\hline\n",
       "\t 97.69\\\\\n",
       "\\end{tabular}\n"
      ],
      "text/markdown": [
       "\n",
       "Percent Revenue_2008_vs_2005 | \n",
       "|---|\n",
       "| 97.69 | \n",
       "\n",
       "\n"
      ],
      "text/plain": [
       "  Percent Revenue_2008_vs_2005\n",
       "1 97.69                       "
      ]
     },
     "metadata": {},
     "output_type": "display_data"
    },
    {
     "name": "stdout",
     "output_type": "stream",
     "text": [
      "[1] \" -------------- Revenue 2008 vs 2007 \"\n"
     ]
    },
    {
     "data": {
      "text/html": [
       "<table>\n",
       "<thead><tr><th scope=col>Percent Revenue_2008_vs_2007</th></tr></thead>\n",
       "<tbody>\n",
       "\t<tr><td>101.35</td></tr>\n",
       "</tbody>\n",
       "</table>\n"
      ],
      "text/latex": [
       "\\begin{tabular}{r|l}\n",
       " Percent Revenue\\_2008\\_vs\\_2007\\\\\n",
       "\\hline\n",
       "\t 101.35\\\\\n",
       "\\end{tabular}\n"
      ],
      "text/markdown": [
       "\n",
       "Percent Revenue_2008_vs_2007 | \n",
       "|---|\n",
       "| 101.35 | \n",
       "\n",
       "\n"
      ],
      "text/plain": [
       "  Percent Revenue_2008_vs_2007\n",
       "1 101.35                      "
      ]
     },
     "metadata": {},
     "output_type": "display_data"
    }
   ],
   "source": [
    "rev_2008_vs_2005 <- round( (revenue_by_year[revenue_by_year$Year==2008, 'Total_Revenue'] / \n",
    "                            revenue_by_year[revenue_by_year$Year==2005, 'Total_Revenue']) * 100  , 2)\n",
    "\n",
    "rev_2008_vs_2007 <- round( (revenue_by_year[revenue_by_year$Year==2008, 'Total_Revenue'] / \n",
    "                            revenue_by_year[revenue_by_year$Year==2007, 'Total_Revenue']) * 100  , 2)\n",
    "\n",
    "print(' -------------- Revenue 2008 vs 2005 ')\n",
    "colnames(rev_2008_vs_2005) <- 'Percent Revenue_2008_vs_2005'\n",
    "rev_2008_vs_2005\n",
    "\n",
    "print(' -------------- Revenue 2008 vs 2007 ')\n",
    "colnames(rev_2008_vs_2007) <- 'Percent Revenue_2008_vs_2007'\n",
    "rev_2008_vs_2007"
   ]
  },
  {
   "cell_type": "markdown",
   "metadata": {},
   "source": [
    "## Summary\n",
    "\n",
    "- Answers for the Business Requirement\n",
    "\n",
    "\n",
    "### The revenue prediction for year 2008 can be done and the 3 most important features to predict revenue are\n",
    "- Product\n",
    "- Retailer country and\n",
    "- Order method type\n",
    "\n",
    "\n",
    "### The prediction confidence is high\n",
    "- Achieved an R^2 of 0.9016 and we can fill confident with the prediction numbers\n",
    "\n",
    "\n",
    "### The divergence related to the revenue prediction are\n",
    "\n",
    "** Based on the assumption to sell the same products of the year 2007\n",
    "\n",
    "- Revenue prediction for 2008 are expected to be 2.5% smaller than the year 2005 and\n",
    "\n",
    "- Revenue prediction for 2008 are expected to be 1.5% higher than the last year (year 2007)"
   ]
  },
  {
   "cell_type": "code",
   "execution_count": 16,
   "metadata": {},
   "outputs": [
    {
     "name": "stdout",
     "output_type": "stream",
     "text": [
      "[1] \"----------------  THE END\"\n"
     ]
    }
   ],
   "source": [
    "print('----------------  THE END')"
   ]
  }
 ],
 "metadata": {
  "kernelspec": {
   "display_name": "R",
   "language": "R",
   "name": "ir"
  },
  "language_info": {
   "codemirror_mode": "r",
   "file_extension": ".r",
   "mimetype": "text/x-r-source",
   "name": "R",
   "pygments_lexer": "r",
   "version": "3.5.1"
  }
 },
 "nbformat": 4,
 "nbformat_minor": 2
}
