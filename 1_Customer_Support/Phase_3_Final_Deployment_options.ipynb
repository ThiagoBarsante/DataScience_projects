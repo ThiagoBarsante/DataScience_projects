{
 "cells": [
  {
   "cell_type": "markdown",
   "metadata": {},
   "source": [
    "# Phase 3 - Next steps and some deployment options\n",
    "\n",
    "- Detailed information including Business Requirements can be seen in Phases 0, 1 and 2\n"
   ]
  },
  {
   "cell_type": "markdown",
   "metadata": {},
   "source": [
    "### Dataset\n",
    "the dataset used in this process can be accessed trought IBM website below\n",
    "\n",
    "https://www.ibm.com/communities/analytics/watson-analytics-blog/guide-to-sample-datasets/"
   ]
  },
  {
   "cell_type": "code",
   "execution_count": 1,
   "metadata": {},
   "outputs": [
    {
     "name": "stderr",
     "output_type": "stream",
     "text": [
      "-- Attaching packages --------------------------------------- tidyverse 1.2.1 --\n",
      "v ggplot2 3.0.0     v purrr   0.2.5\n",
      "v tibble  1.4.2     v dplyr   0.7.6\n",
      "v tidyr   0.8.1     v stringr 1.3.1\n",
      "v readr   1.1.1     v forcats 0.3.0\n",
      "-- Conflicts ------------------------------------------ tidyverse_conflicts() --\n",
      "x dplyr::filter() masks stats::filter()\n",
      "x dplyr::lag()    masks stats::lag()\n"
     ]
    }
   ],
   "source": [
    "library(tidyverse)"
   ]
  },
  {
   "cell_type": "code",
   "execution_count": 7,
   "metadata": {},
   "outputs": [
    {
     "name": "stderr",
     "output_type": "stream",
     "text": [
      "Parsed with column specification:\n",
      "cols(\n",
      "  .default = col_character(),\n",
      "  SeniorCitizen = col_integer(),\n",
      "  tenure = col_integer(),\n",
      "  MonthlyCharges = col_double(),\n",
      "  TotalCharges = col_double()\n",
      ")\n",
      "See spec(...) for full column specifications.\n"
     ]
    },
    {
     "data": {
      "text/html": [
       "<table>\n",
       "<thead><tr><th scope=col>customerID</th><th scope=col>gender</th><th scope=col>SeniorCitizen</th><th scope=col>Partner</th><th scope=col>Dependents</th><th scope=col>tenure</th><th scope=col>PhoneService</th><th scope=col>MultipleLines</th><th scope=col>InternetService</th><th scope=col>OnlineSecurity</th><th scope=col>...</th><th scope=col>DeviceProtection</th><th scope=col>TechSupport</th><th scope=col>StreamingTV</th><th scope=col>StreamingMovies</th><th scope=col>Contract</th><th scope=col>PaperlessBilling</th><th scope=col>PaymentMethod</th><th scope=col>MonthlyCharges</th><th scope=col>TotalCharges</th><th scope=col>Churn</th></tr></thead>\n",
       "<tbody>\n",
       "\t<tr><td>7590-VHVEG      </td><td>Female          </td><td>0               </td><td>Yes             </td><td>No              </td><td> 1              </td><td>No              </td><td>No phone service</td><td>DSL             </td><td>No              </td><td>...             </td><td>No              </td><td>No              </td><td>No              </td><td>No              </td><td>Month-to-month  </td><td>Yes             </td><td>Electronic check</td><td>29.85           </td><td>  29.85         </td><td>No              </td></tr>\n",
       "\t<tr><td>5575-GNVDE      </td><td>Male            </td><td>0               </td><td>No              </td><td>No              </td><td>34              </td><td>Yes             </td><td>No              </td><td>DSL             </td><td>Yes             </td><td>...             </td><td>Yes             </td><td>No              </td><td>No              </td><td>No              </td><td>One year        </td><td>No              </td><td>Mailed check    </td><td>56.95           </td><td>1889.50         </td><td>No              </td></tr>\n",
       "\t<tr><td>3668-QPYBK      </td><td>Male            </td><td>0               </td><td>No              </td><td>No              </td><td> 2              </td><td>Yes             </td><td>No              </td><td>DSL             </td><td>Yes             </td><td>...             </td><td>No              </td><td>No              </td><td>No              </td><td>No              </td><td>Month-to-month  </td><td>Yes             </td><td>Mailed check    </td><td>53.85           </td><td> 108.15         </td><td>Yes             </td></tr>\n",
       "</tbody>\n",
       "</table>\n"
      ],
      "text/latex": [
       "\\begin{tabular}{r|lllllllllllllllllllll}\n",
       " customerID & gender & SeniorCitizen & Partner & Dependents & tenure & PhoneService & MultipleLines & InternetService & OnlineSecurity & ... & DeviceProtection & TechSupport & StreamingTV & StreamingMovies & Contract & PaperlessBilling & PaymentMethod & MonthlyCharges & TotalCharges & Churn\\\\\n",
       "\\hline\n",
       "\t 7590-VHVEG       & Female           & 0                & Yes              & No               &  1               & No               & No phone service & DSL              & No               & ...              & No               & No               & No               & No               & Month-to-month   & Yes              & Electronic check & 29.85            &   29.85          & No              \\\\\n",
       "\t 5575-GNVDE       & Male             & 0                & No               & No               & 34               & Yes              & No               & DSL              & Yes              & ...              & Yes              & No               & No               & No               & One year         & No               & Mailed check     & 56.95            & 1889.50          & No              \\\\\n",
       "\t 3668-QPYBK       & Male             & 0                & No               & No               &  2               & Yes              & No               & DSL              & Yes              & ...              & No               & No               & No               & No               & Month-to-month   & Yes              & Mailed check     & 53.85            &  108.15          & Yes             \\\\\n",
       "\\end{tabular}\n"
      ],
      "text/markdown": [
       "\n",
       "customerID | gender | SeniorCitizen | Partner | Dependents | tenure | PhoneService | MultipleLines | InternetService | OnlineSecurity | ... | DeviceProtection | TechSupport | StreamingTV | StreamingMovies | Contract | PaperlessBilling | PaymentMethod | MonthlyCharges | TotalCharges | Churn | \n",
       "|---|---|---|\n",
       "| 7590-VHVEG       | Female           | 0                | Yes              | No               |  1               | No               | No phone service | DSL              | No               | ...              | No               | No               | No               | No               | Month-to-month   | Yes              | Electronic check | 29.85            |   29.85          | No               | \n",
       "| 5575-GNVDE       | Male             | 0                | No               | No               | 34               | Yes              | No               | DSL              | Yes              | ...              | Yes              | No               | No               | No               | One year         | No               | Mailed check     | 56.95            | 1889.50          | No               | \n",
       "| 3668-QPYBK       | Male             | 0                | No               | No               |  2               | Yes              | No               | DSL              | Yes              | ...              | No               | No               | No               | No               | Month-to-month   | Yes              | Mailed check     | 53.85            |  108.15          | Yes              | \n",
       "\n",
       "\n"
      ],
      "text/plain": [
       "  customerID gender SeniorCitizen Partner Dependents tenure PhoneService\n",
       "1 7590-VHVEG Female 0             Yes     No          1     No          \n",
       "2 5575-GNVDE Male   0             No      No         34     Yes         \n",
       "3 3668-QPYBK Male   0             No      No          2     Yes         \n",
       "  MultipleLines    InternetService OnlineSecurity ... DeviceProtection\n",
       "1 No phone service DSL             No             ... No              \n",
       "2 No               DSL             Yes            ... Yes             \n",
       "3 No               DSL             Yes            ... No              \n",
       "  TechSupport StreamingTV StreamingMovies Contract       PaperlessBilling\n",
       "1 No          No          No              Month-to-month Yes             \n",
       "2 No          No          No              One year       No              \n",
       "3 No          No          No              Month-to-month Yes             \n",
       "  PaymentMethod    MonthlyCharges TotalCharges Churn\n",
       "1 Electronic check 29.85            29.85      No   \n",
       "2 Mailed check     56.95          1889.50      No   \n",
       "3 Mailed check     53.85           108.15      Yes  "
      ]
     },
     "metadata": {},
     "output_type": "display_data"
    }
   ],
   "source": [
    "# Load the Dataset - Customer Churn\n",
    "df <- readr::read_csv('../data/WA_Fn-UseC_-Telco-Customer-Churn.csv')\n",
    "df %>% head(3)\n"
   ]
  },
  {
   "cell_type": "markdown",
   "metadata": {},
   "source": [
    "#### The revenue associated with customers that finish the contract is quite high associated with normal customers\n",
    "\n",
    "#### Note\n",
    "- Next periods will not have revenue associated with customer churners, so the impact in the revenue will be higher month after month"
   ]
  },
  {
   "cell_type": "code",
   "execution_count": 8,
   "metadata": {},
   "outputs": [
    {
     "data": {},
     "metadata": {},
     "output_type": "display_data"
    },
    {
     "data": {
      "image/png": "[encoded data removed]",
      "text/plain": [
       "plot without title"
      ]
     },
     "metadata": {},
     "output_type": "display_data"
    }
   ],
   "source": [
    "options(repr.plot.width = 8, repr.plot.height = 3)\n",
    "## Exclude Customer_ID and apply 0 to Total Charges -> First Bill\n",
    "df[is.na(df$TotalCharges) & df$tenure==0 , ]['TotalCharges'] <- 0\n",
    "# df$customerID <- NULL\n",
    "\n",
    "df %>% filter(Contract=='Month-to-month') %>%   \n",
    "  group_by(Churn, tenure, Contract) %>% \n",
    "  summarise( MonthlyCharges=sum(MonthlyCharges), \n",
    "             TotalCharges=sum(TotalCharges))  %>% \n",
    "  qplot(data=. ,x=tenure, y=TotalCharges, \n",
    "        geom='area', alpha=0.5, fill=(Churn),\n",
    "        main='    Contract type: Month-to-month') \n",
    "\n"
   ]
  },
  {
   "cell_type": "markdown",
   "metadata": {},
   "source": [
    "## The main target to fix and associated with graphic above is\n",
    "\n",
    "- Decrease the green area (revenue associated with customer churners) and increase the red area (current customers)"
   ]
  },
  {
   "cell_type": "code",
   "execution_count": 10,
   "metadata": {},
   "outputs": [],
   "source": [
    "\n",
    "### JUST TO REMEMBER, THE MACHINE LEARNING MODEL WAS SAVED FOR FUTURE USE IN PHASE 2\n",
    "\n",
    "## Save the model -> 80% of accuracy\n",
    "## xgb.save(fit.xgb, '../data/xgb_model_acc_80p.model')\n",
    "\n",
    "## obs. to load the model later just run the command below\n",
    "## model_xgb <- xgb.load('./data/xgb_model_acc_80p.model')"
   ]
  },
  {
   "cell_type": "markdown",
   "metadata": {},
   "source": [
    "## Deployment options\n",
    "\n",
    "The deployment of the model could be done in many ways, such as\n",
    "\n",
    "- Apply the model to a new customer base, identify possible churners and start one marketing campaighn to suggest other contract options for the customer\n",
    "\n",
    "\n",
    "- Integrate the model with the CRM and Call Center systems for a better interaction with the customer when the next call of these possible churners occurs\n",
    "\n",
    "\n",
    "- One 3rd option could be an application to provide small discounts for specific services and integrated with billing systems to try to maintain customer loyalty\n",
    "\n",
    "\n",
    "- Setup one major project to implement all actions above ... and so on....\n"
   ]
  },
  {
   "cell_type": "markdown",
   "metadata": {},
   "source": [
    "# Summary and final comments\n",
    "\n",
    "- These 3 phases could be deployed in just one Notebook, but the idea was to show a common data science project pipeline\n"
   ]
  }
 ],
 "metadata": {
  "kernelspec": {
   "display_name": "R",
   "language": "R",
   "name": "ir"
  },
  "language_info": {
   "codemirror_mode": "r",
   "file_extension": ".r",
   "mimetype": "text/x-r-source",
   "name": "R",
   "pygments_lexer": "r",
   "version": "3.5.1"
  }
 },
 "nbformat": 4,
 "nbformat_minor": 2
}
