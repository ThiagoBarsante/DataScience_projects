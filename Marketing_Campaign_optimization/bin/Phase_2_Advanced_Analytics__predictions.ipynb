{
 "cells": [
  {
   "cell_type": "markdown",
   "metadata": {},
   "source": [
    "## Phase 2 - Advanced analytics + EDA\n",
    "\n",
    "### Smart Exploration Problem - Marketing campaign optimization\n",
    "\n",
    "##### This Notebook complement phase 1 - initial EDA with aditional information detailed below\n",
    "\n",
    "- 1. EDA (Exploratory Data Analysis) in more detail\n",
    "- 2. Build 3 machine learning models and compare the results achieved\n",
    "- 3. Choose the best model and save it for backup and future use\n",
    "- 4. Make predictions to give guidences for Ad's priority\n",
    "- 5. Present the first option for prediction using R and H2O\n",
    "- 6. Summary and quick review\n",
    "\n",
    "###### This Jupyter Notebook is going to be developed using R and H2O (cluster running in CentOS)"
   ]
  },
  {
   "cell_type": "code",
   "execution_count": 2,
   "metadata": {},
   "outputs": [],
   "source": [
    "## Load libraries used in this Notebook\n",
    "library(data.table)\n",
    "library(tidyverse)\n",
    "library(h2o)"
   ]
  },
  {
   "cell_type": "markdown",
   "metadata": {},
   "source": [
    "### Connect Notebook to H2O cluster"
   ]
  },
  {
   "cell_type": "code",
   "execution_count": 3,
   "metadata": {},
   "outputs": [
    {
     "name": "stdout",
     "output_type": "stream",
     "text": [
      " Connection successful!\n",
      "\n",
      "R is connected to the H2O cluster: \n",
      "    H2O cluster uptime:         36 minutes 4 seconds \n",
      "    H2O cluster timezone:       America/Sao_Paulo \n",
      "    H2O data parsing timezone:  UTC \n",
      "    H2O cluster version:        3.26.0.3 \n",
      "    H2O cluster version age:    3 months and 24 days !!! \n",
      "    H2O cluster name:           userds1 \n",
      "    H2O cluster total nodes:    1 \n",
      "    H2O cluster total memory:   5.75 GB \n",
      "    H2O cluster total cores:    1 \n",
      "    H2O cluster allowed cores:  1 \n",
      "    H2O cluster healthy:        TRUE \n",
      "    H2O Connection ip:          centos \n",
      "    H2O Connection port:        54321 \n",
      "    H2O Connection proxy:       NA \n",
      "    H2O Internal Security:      FALSE \n",
      "    H2O API Extensions:         Amazon S3, XGBoost, Algos, AutoML, Core V3, Core V4 \n",
      "    R Version:                  R version 3.6.1 (2019-07-05) \n"
     ]
    },
    {
     "name": "stderr",
     "output_type": "stream",
     "text": [
      "Warning message in h2o.clusterInfo():\n",
      "\"\n",
      "Your H2O cluster version is too old (3 months and 24 days)!\n",
      "Please download and install the latest version from http://h2o.ai/download/\""
     ]
    },
    {
     "name": "stdout",
     "output_type": "stream",
     "text": [
      "\n"
     ]
    }
   ],
   "source": [
    "## connect to h2o cluster\n",
    "h2o.connect('centos')"
   ]
  },
  {
   "cell_type": "markdown",
   "metadata": {},
   "source": [
    "## Remove all objects from H2O cluster\n",
    "- Clean memory"
   ]
  },
  {
   "cell_type": "code",
   "execution_count": 4,
   "metadata": {},
   "outputs": [],
   "source": [
    "h2o.removeAll()"
   ]
  },
  {
   "cell_type": "markdown",
   "metadata": {},
   "source": [
    "### Load the dataset - historical data"
   ]
  },
  {
   "cell_type": "code",
   "execution_count": 5,
   "metadata": {},
   "outputs": [
    {
     "data": {
      "text/html": [
       "<table>\n",
       "<thead><tr><th></th><th scope=col>xyz_campaign_id</th><th scope=col>channel</th><th scope=col>channel_ad_id</th><th scope=col>gender</th><th scope=col>age</th><th scope=col>interest</th><th scope=col>CPE</th></tr></thead>\n",
       "<tbody>\n",
       "\t<tr><th scope=row>1</th><td>916          </td><td>1            </td><td>2            </td><td>M            </td><td>45-65+       </td><td>Interest - 15</td><td>0.01         </td></tr>\n",
       "\t<tr><th scope=row>2</th><td>916          </td><td>11           </td><td>2            </td><td>M            </td><td>45-65+       </td><td>Interest - 16</td><td>0.01         </td></tr>\n",
       "\t<tr><th scope=row>4</th><td>916          </td><td>11           </td><td>1            </td><td>M            </td><td>45-65+       </td><td>Interest - 28</td><td>0.01         </td></tr>\n",
       "\t<tr><th scope=row>5</th><td>916          </td><td>1            </td><td>1            </td><td>M            </td><td>45-65+       </td><td>Interest - 28</td><td>0.01         </td></tr>\n",
       "\t<tr><th scope=row>7</th><td>916          </td><td>11           </td><td>1            </td><td>M            </td><td>45-65+       </td><td>Interest - 15</td><td>0.04         </td></tr>\n",
       "\t<tr><th scope=row>8</th><td>916          </td><td>1            </td><td>1            </td><td>M            </td><td>45-65+       </td><td>Interest - 16</td><td>0.01         </td></tr>\n",
       "</tbody>\n",
       "</table>\n"
      ],
      "text/latex": [
       "\\begin{tabular}{r|lllllll}\n",
       "  & xyz\\_campaign\\_id & channel & channel\\_ad\\_id & gender & age & interest & CPE\\\\\n",
       "\\hline\n",
       "\t1 & 916           & 1             & 2             & M             & 45-65+        & Interest - 15 & 0.01         \\\\\n",
       "\t2 & 916           & 11            & 2             & M             & 45-65+        & Interest - 16 & 0.01         \\\\\n",
       "\t4 & 916           & 11            & 1             & M             & 45-65+        & Interest - 28 & 0.01         \\\\\n",
       "\t5 & 916           & 1             & 1             & M             & 45-65+        & Interest - 28 & 0.01         \\\\\n",
       "\t7 & 916           & 11            & 1             & M             & 45-65+        & Interest - 15 & 0.04         \\\\\n",
       "\t8 & 916           & 1             & 1             & M             & 45-65+        & Interest - 16 & 0.01         \\\\\n",
       "\\end{tabular}\n"
      ],
      "text/markdown": [
       "\n",
       "| <!--/--> | xyz_campaign_id | channel | channel_ad_id | gender | age | interest | CPE |\n",
       "|---|---|---|---|---|---|---|---|\n",
       "| 1 | 916           | 1             | 2             | M             | 45-65+        | Interest - 15 | 0.01          |\n",
       "| 2 | 916           | 11            | 2             | M             | 45-65+        | Interest - 16 | 0.01          |\n",
       "| 4 | 916           | 11            | 1             | M             | 45-65+        | Interest - 28 | 0.01          |\n",
       "| 5 | 916           | 1             | 1             | M             | 45-65+        | Interest - 28 | 0.01          |\n",
       "| 7 | 916           | 11            | 1             | M             | 45-65+        | Interest - 15 | 0.04          |\n",
       "| 8 | 916           | 1             | 1             | M             | 45-65+        | Interest - 16 | 0.01          |\n",
       "\n"
      ],
      "text/plain": [
       "  xyz_campaign_id channel channel_ad_id gender age    interest      CPE \n",
       "1 916             1       2             M      45-65+ Interest - 15 0.01\n",
       "2 916             11      2             M      45-65+ Interest - 16 0.01\n",
       "4 916             11      1             M      45-65+ Interest - 28 0.01\n",
       "5 916             1       1             M      45-65+ Interest - 28 0.01\n",
       "7 916             11      1             M      45-65+ Interest - 15 0.04\n",
       "8 916             1       1             M      45-65+ Interest - 16 0.01"
      ]
     },
     "metadata": {},
     "output_type": "display_data"
    }
   ],
   "source": [
    "df <- fread('./data/Historical_Data_Smart_Exploration_Demo_Simulation__CPE.csv')\n",
    "\n",
    "## Remove columns that is not going to be used and define the target feature\n",
    "remove_columns <- c('LineItemsID', 'URL', 'spend', 'engagement', 'clicks')\n",
    "target <- 'CPE'\n",
    "\n",
    "features <- setdiff(colnames(df), remove_columns)\n",
    "df <- df[, ..features]\n",
    "\n",
    "df$xyz_campaign_id <- as.factor(df$xyz_campaign_id)\n",
    "df$channel <- as.factor(df$channel)\n",
    "df$channel_ad_id <- as.factor(df$channel_ad_id)\n",
    "df <- df %>% mutate_if(., is.character, as.factor)\n",
    "\n",
    "## Filter Spend - CPE > 0\n",
    "df <- df[df$CPE > 0, ]\n",
    "\n",
    "## Head the data.frame\n",
    "head(df)"
   ]
  },
  {
   "cell_type": "markdown",
   "metadata": {},
   "source": [
    "## EDA - Exploratory Data Analysis\n",
    "\n",
    "#### CPE by campaign\n",
    "\n",
    "- Campaign 1178 was launched many time and have the worse CPE  average of \\$0.72\n",
    "- Campaign 936 have around 45% ocurrencies compared to campaign 1178 and its CPE average is just \\$ 0.08 (10% of campaign 1178)\n",
    "- Campaign 916 do not have many line items launched and have even lower CPE average of $0.03"
   ]
  },
  {
   "cell_type": "code",
   "execution_count": 6,
   "metadata": {},
   "outputs": [
    {
     "data": {
      "text/html": [
       "<table>\n",
       "<thead><tr><th scope=col>xyz_campaign_id</th><th scope=col>n</th><th scope=col>total_CPE</th><th scope=col>avg_CPE</th></tr></thead>\n",
       "<tbody>\n",
       "\t<tr><td>916       </td><td> 34       </td><td>  1.17    </td><td>0.03441176</td></tr>\n",
       "\t<tr><td>936       </td><td>280       </td><td> 23.03    </td><td>0.08225000</td></tr>\n",
       "\t<tr><td>1178      </td><td>613       </td><td>445.36    </td><td>0.72652529</td></tr>\n",
       "</tbody>\n",
       "</table>\n"
      ],
      "text/latex": [
       "\\begin{tabular}{r|llll}\n",
       " xyz\\_campaign\\_id & n & total\\_CPE & avg\\_CPE\\\\\n",
       "\\hline\n",
       "\t 916        &  34        &   1.17     & 0.03441176\\\\\n",
       "\t 936        & 280        &  23.03     & 0.08225000\\\\\n",
       "\t 1178       & 613        & 445.36     & 0.72652529\\\\\n",
       "\\end{tabular}\n"
      ],
      "text/markdown": [
       "\n",
       "| xyz_campaign_id | n | total_CPE | avg_CPE |\n",
       "|---|---|---|---|\n",
       "| 916        |  34        |   1.17     | 0.03441176 |\n",
       "| 936        | 280        |  23.03     | 0.08225000 |\n",
       "| 1178       | 613        | 445.36     | 0.72652529 |\n",
       "\n"
      ],
      "text/plain": [
       "  xyz_campaign_id n   total_CPE avg_CPE   \n",
       "1 916              34   1.17    0.03441176\n",
       "2 936             280  23.03    0.08225000\n",
       "3 1178            613 445.36    0.72652529"
      ]
     },
     "metadata": {},
     "output_type": "display_data"
    },
    {
     "data": {
      "image/png": "[encoded data removed]",
      "text/plain": [
       "plot without title"
      ]
     },
     "metadata": {},
     "output_type": "display_data"
    }
   ],
   "source": [
    "## CPE BY CAMPAIGN\n",
    "options(repr.plot.width = 11, repr.plot.height = 3)\n",
    "\n",
    "## EDA - CPE by Campaign\n",
    "df_group <- df %>% group_by(xyz_campaign_id) %>% summarise(n = n(), total_CPE = sum(CPE), avg_CPE = mean(CPE))\n",
    "\n",
    "## Average\n",
    "gg1 <- qplot(data=df_group, x=xyz_campaign_id, y=avg_CPE, geom='col', fill=xyz_campaign_id, main='    CPE average in $') + \n",
    "coord_flip()\n",
    "\n",
    "## Count\n",
    "gg2 <- qplot(data=df_group, x=xyz_campaign_id, y=n, geom='col', fill=xyz_campaign_id, main='    count LineItem') + \n",
    "coord_flip()\n",
    "\n",
    "gridExtra::grid.arrange(gg2, gg1, nrow = 1)\n",
    "\n",
    "df_group %>% head()\n"
   ]
  },
  {
   "cell_type": "markdown",
   "metadata": {},
   "source": [
    "## Evaluation of top 3 features with higher impact on CPE\n",
    "\n",
    "#### CPE by Interest and campaign\n",
    "\n",
    "- TOP 10 lower CPE average\n",
    "- Campaign 918 have much less ocurrence in the data and not all interest are presented\n",
    "- Interests seems similar between campaigns when presented with lower values to interest 31 and 36"
   ]
  },
  {
   "cell_type": "code",
   "execution_count": 7,
   "metadata": {},
   "outputs": [
    {
     "data": {
      "text/html": [
       "<table>\n",
       "<thead><tr><th scope=col>interest</th><th scope=col>n</th><th scope=col>CPE_mean</th></tr></thead>\n",
       "<tbody>\n",
       "\t<tr><td>Interest - 36 </td><td>15            </td><td>0.1093333     </td></tr>\n",
       "\t<tr><td>Interest - 31 </td><td>17            </td><td>0.1405882     </td></tr>\n",
       "\t<tr><td>Interest - 66 </td><td>10            </td><td>0.1840000     </td></tr>\n",
       "\t<tr><td>Interest - 2  </td><td>18            </td><td>0.2233333     </td></tr>\n",
       "\t<tr><td>Interest - 24 </td><td>22            </td><td>0.2436364     </td></tr>\n",
       "\t<tr><td>Interest - 102</td><td> 7            </td><td>0.2457143     </td></tr>\n",
       "\t<tr><td>Interest - 21 </td><td>25            </td><td>0.2644000     </td></tr>\n",
       "\t<tr><td>Interest - 23 </td><td>18            </td><td>0.2650000     </td></tr>\n",
       "\t<tr><td>Interest - 30 </td><td>18            </td><td>0.2738889     </td></tr>\n",
       "\t<tr><td>Interest - 22 </td><td>30            </td><td>0.2773333     </td></tr>\n",
       "</tbody>\n",
       "</table>\n"
      ],
      "text/latex": [
       "\\begin{tabular}{r|lll}\n",
       " interest & n & CPE\\_mean\\\\\n",
       "\\hline\n",
       "\t Interest - 36  & 15             & 0.1093333     \\\\\n",
       "\t Interest - 31  & 17             & 0.1405882     \\\\\n",
       "\t Interest - 66  & 10             & 0.1840000     \\\\\n",
       "\t Interest - 2   & 18             & 0.2233333     \\\\\n",
       "\t Interest - 24  & 22             & 0.2436364     \\\\\n",
       "\t Interest - 102 &  7             & 0.2457143     \\\\\n",
       "\t Interest - 21  & 25             & 0.2644000     \\\\\n",
       "\t Interest - 23  & 18             & 0.2650000     \\\\\n",
       "\t Interest - 30  & 18             & 0.2738889     \\\\\n",
       "\t Interest - 22  & 30             & 0.2773333     \\\\\n",
       "\\end{tabular}\n"
      ],
      "text/markdown": [
       "\n",
       "| interest | n | CPE_mean |\n",
       "|---|---|---|\n",
       "| Interest - 36  | 15             | 0.1093333      |\n",
       "| Interest - 31  | 17             | 0.1405882      |\n",
       "| Interest - 66  | 10             | 0.1840000      |\n",
       "| Interest - 2   | 18             | 0.2233333      |\n",
       "| Interest - 24  | 22             | 0.2436364      |\n",
       "| Interest - 102 |  7             | 0.2457143      |\n",
       "| Interest - 21  | 25             | 0.2644000      |\n",
       "| Interest - 23  | 18             | 0.2650000      |\n",
       "| Interest - 30  | 18             | 0.2738889      |\n",
       "| Interest - 22  | 30             | 0.2773333      |\n",
       "\n"
      ],
      "text/plain": [
       "   interest       n  CPE_mean \n",
       "1  Interest - 36  15 0.1093333\n",
       "2  Interest - 31  17 0.1405882\n",
       "3  Interest - 66  10 0.1840000\n",
       "4  Interest - 2   18 0.2233333\n",
       "5  Interest - 24  22 0.2436364\n",
       "6  Interest - 102  7 0.2457143\n",
       "7  Interest - 21  25 0.2644000\n",
       "8  Interest - 23  18 0.2650000\n",
       "9  Interest - 30  18 0.2738889\n",
       "10 Interest - 22  30 0.2773333"
      ]
     },
     "metadata": {},
     "output_type": "display_data"
    },
    {
     "data": {
      "image/png": "[encoded data removed]",
      "text/plain": [
       "plot without title"
      ]
     },
     "metadata": {},
     "output_type": "display_data"
    }
   ],
   "source": [
    "df_top10_interest <- df %>% group_by(interest) %>% summarise(n = n(), CPE_mean = mean(CPE)) %>% arrange(CPE_mean ) %>% head(10)\n",
    "df_top10_interest_plot <- merge(df_top10_interest, df, by = 'interest') \n",
    "df_top10_interest_plot %>% group_by(interest, xyz_campaign_id) %>% summarise(CPE_mean = mean(CPE_mean)) %>% \n",
    "  qplot(data=., x=interest, y= CPE_mean, fill=xyz_campaign_id, facets = ' xyz_campaign_id ~ .', geom='col') +\n",
    "  scale_y_continuous(name=\"CPE average\", labels = scales::comma)  + \n",
    "  theme(axis.text.x = element_text(angle = 45, hjust = 1))\n",
    "\n",
    "\n",
    "df_top10_interest"
   ]
  },
  {
   "cell_type": "markdown",
   "metadata": {},
   "source": [
    "#### CPE by Age\n",
    "\n",
    "- All age distribution have CPE average higher than \\$0.40 \n",
    "- Age between 25-34 have the highest CPE average of \\$0.72 \n",
    "- Age between 18-24 and 45-65+ have the lowes CPE average and will probably get better margin (in terms of CPE) in current campaign "
   ]
  },
  {
   "cell_type": "code",
   "execution_count": 8,
   "metadata": {},
   "outputs": [
    {
     "data": {
      "text/html": [
       "<table>\n",
       "<thead><tr><th scope=col>age</th><th scope=col>n</th><th scope=col>total_CPE</th><th scope=col>avg_CPE</th></tr></thead>\n",
       "<tbody>\n",
       "\t<tr><td>45-65+   </td><td>302      </td><td>121.98   </td><td>0.4039073</td></tr>\n",
       "\t<tr><td>18-24    </td><td>209      </td><td> 88.86   </td><td>0.4251675</td></tr>\n",
       "\t<tr><td>35-44    </td><td>187      </td><td> 92.69   </td><td>0.4956684</td></tr>\n",
       "\t<tr><td>25-34    </td><td>229      </td><td>166.03   </td><td>0.7250218</td></tr>\n",
       "</tbody>\n",
       "</table>\n"
      ],
      "text/latex": [
       "\\begin{tabular}{r|llll}\n",
       " age & n & total\\_CPE & avg\\_CPE\\\\\n",
       "\\hline\n",
       "\t 45-65+    & 302       & 121.98    & 0.4039073\\\\\n",
       "\t 18-24     & 209       &  88.86    & 0.4251675\\\\\n",
       "\t 35-44     & 187       &  92.69    & 0.4956684\\\\\n",
       "\t 25-34     & 229       & 166.03    & 0.7250218\\\\\n",
       "\\end{tabular}\n"
      ],
      "text/markdown": [
       "\n",
       "| age | n | total_CPE | avg_CPE |\n",
       "|---|---|---|---|\n",
       "| 45-65+    | 302       | 121.98    | 0.4039073 |\n",
       "| 18-24     | 209       |  88.86    | 0.4251675 |\n",
       "| 35-44     | 187       |  92.69    | 0.4956684 |\n",
       "| 25-34     | 229       | 166.03    | 0.7250218 |\n",
       "\n"
      ],
      "text/plain": [
       "  age    n   total_CPE avg_CPE  \n",
       "1 45-65+ 302 121.98    0.4039073\n",
       "2 18-24  209  88.86    0.4251675\n",
       "3 35-44  187  92.69    0.4956684\n",
       "4 25-34  229 166.03    0.7250218"
      ]
     },
     "metadata": {},
     "output_type": "display_data"
    },
    {
     "data": {
      "image/png": "[encoded data removed]",
      "text/plain": [
       "plot without title"
      ]
     },
     "metadata": {},
     "output_type": "display_data"
    }
   ],
   "source": [
    "## CPE BY Age\n",
    "options(repr.plot.width = 11, repr.plot.height = 3)\n",
    "\n",
    "## EDA - CPE by Campaign\n",
    "df_group <- df %>% group_by(age) %>% summarise(n = n(), total_CPE = sum(CPE), avg_CPE = mean(CPE)) %>% arrange(avg_CPE)\n",
    "\n",
    "## Average\n",
    "gg1 <- qplot(data=df_group, x=age, y=avg_CPE, geom='col', fill=age\n",
    "             , main='    CPE average in $', xlab='avg_CPE') + coord_flip()\n",
    "\n",
    "## Count\n",
    "gg2 <- qplot(data=df_group, x=age, y=n, geom='col', fill=age, main='    count LineItem') + \n",
    "coord_flip()\n",
    "\n",
    "gridExtra::grid.arrange(gg2, gg1, nrow = 1)\n",
    "\n",
    "df_group %>% head()"
   ]
  },
  {
   "cell_type": "markdown",
   "metadata": {},
   "source": [
    "#### CPE by Age and gender\n",
    "- age 25-34 (higher distribution) and age 45-65+ (lower distribution) influence the CPE more than others and all have outliers\n",
    "- Age from 25-34 and gender Female have higher CPE distribution than others and seems to impact even more higher CPE tan Man\n",
    "- Age 45-65+ contribute for lower CPE for both (man and women)"
   ]
  },
  {
   "cell_type": "code",
   "execution_count": 9,
   "metadata": {},
   "outputs": [
    {
     "data": {
      "image/png": "[encoded data removed]",
      "text/plain": [
       "plot without title"
      ]
     },
     "metadata": {},
     "output_type": "display_data"
    }
   ],
   "source": [
    "options(repr.plot.width = 10, repr.plot.height = 4)\n",
    "qplot(data=df, x=age, y=CPE, geom='boxplot', color=age, facets = ' gender ~ .') +\n",
    "  scale_y_continuous(name=\"CPE\", labels = scales::comma)  + \n",
    "  theme(axis.text.x = element_text(angle = 45, hjust = 1))"
   ]
  },
  {
   "cell_type": "markdown",
   "metadata": {},
   "source": [
    "#### CPE by channel_ad_id\n",
    "\n",
    "- Channel ad id 2 have the lowest CPE average followed by channel_ad_id 2\n",
    "- Channel ad id 0 have fewer ocurrencies however also have lower CPE average of \\$0.37\n",
    "- All other channel  ad id have an CPE average higher than \\$0.40"
   ]
  },
  {
   "cell_type": "code",
   "execution_count": 10,
   "metadata": {},
   "outputs": [
    {
     "data": {
      "text/html": [
       "<table>\n",
       "<thead><tr><th scope=col>channel_ad_id</th><th scope=col>n</th><th scope=col>total_CPE</th><th scope=col>avg_CPE</th></tr></thead>\n",
       "<tbody>\n",
       "\t<tr><td>1        </td><td>462      </td><td>64.93    </td><td>0.1405411</td></tr>\n",
       "\t<tr><td>2        </td><td>153      </td><td>51.99    </td><td>0.3398039</td></tr>\n",
       "\t<tr><td>0        </td><td>  5      </td><td> 1.87    </td><td>0.3740000</td></tr>\n",
       "\t<tr><td>3        </td><td> 78      </td><td>49.45    </td><td>0.6339744</td></tr>\n",
       "\t<tr><td>4        </td><td> 61      </td><td>47.85    </td><td>0.7844262</td></tr>\n",
       "\t<tr><td>5        </td><td> 41      </td><td>35.10    </td><td>0.8560976</td></tr>\n",
       "\t<tr><td>21       </td><td>  1      </td><td> 0.89    </td><td>0.8900000</td></tr>\n",
       "\t<tr><td>6        </td><td> 22      </td><td>24.93    </td><td>1.1331818</td></tr>\n",
       "\t<tr><td>8        </td><td> 13      </td><td>16.98    </td><td>1.3061538</td></tr>\n",
       "\t<tr><td>7        </td><td> 16      </td><td>20.97    </td><td>1.3106250</td></tr>\n",
       "</tbody>\n",
       "</table>\n"
      ],
      "text/latex": [
       "\\begin{tabular}{r|llll}\n",
       " channel\\_ad\\_id & n & total\\_CPE & avg\\_CPE\\\\\n",
       "\\hline\n",
       "\t 1         & 462       & 64.93     & 0.1405411\\\\\n",
       "\t 2         & 153       & 51.99     & 0.3398039\\\\\n",
       "\t 0         &   5       &  1.87     & 0.3740000\\\\\n",
       "\t 3         &  78       & 49.45     & 0.6339744\\\\\n",
       "\t 4         &  61       & 47.85     & 0.7844262\\\\\n",
       "\t 5         &  41       & 35.10     & 0.8560976\\\\\n",
       "\t 21        &   1       &  0.89     & 0.8900000\\\\\n",
       "\t 6         &  22       & 24.93     & 1.1331818\\\\\n",
       "\t 8         &  13       & 16.98     & 1.3061538\\\\\n",
       "\t 7         &  16       & 20.97     & 1.3106250\\\\\n",
       "\\end{tabular}\n"
      ],
      "text/markdown": [
       "\n",
       "| channel_ad_id | n | total_CPE | avg_CPE |\n",
       "|---|---|---|---|\n",
       "| 1         | 462       | 64.93     | 0.1405411 |\n",
       "| 2         | 153       | 51.99     | 0.3398039 |\n",
       "| 0         |   5       |  1.87     | 0.3740000 |\n",
       "| 3         |  78       | 49.45     | 0.6339744 |\n",
       "| 4         |  61       | 47.85     | 0.7844262 |\n",
       "| 5         |  41       | 35.10     | 0.8560976 |\n",
       "| 21        |   1       |  0.89     | 0.8900000 |\n",
       "| 6         |  22       | 24.93     | 1.1331818 |\n",
       "| 8         |  13       | 16.98     | 1.3061538 |\n",
       "| 7         |  16       | 20.97     | 1.3106250 |\n",
       "\n"
      ],
      "text/plain": [
       "   channel_ad_id n   total_CPE avg_CPE  \n",
       "1  1             462 64.93     0.1405411\n",
       "2  2             153 51.99     0.3398039\n",
       "3  0               5  1.87     0.3740000\n",
       "4  3              78 49.45     0.6339744\n",
       "5  4              61 47.85     0.7844262\n",
       "6  5              41 35.10     0.8560976\n",
       "7  21              1  0.89     0.8900000\n",
       "8  6              22 24.93     1.1331818\n",
       "9  8              13 16.98     1.3061538\n",
       "10 7              16 20.97     1.3106250"
      ]
     },
     "metadata": {},
     "output_type": "display_data"
    },
    {
     "data": {
      "image/png": "[encoded data removed]",
      "text/plain": [
       "plot without title"
      ]
     },
     "metadata": {},
     "output_type": "display_data"
    }
   ],
   "source": [
    "df_group <- df %>% group_by(channel_ad_id) %>% summarise(n = n(), total_CPE = sum(CPE), avg_CPE = mean(CPE)) %>% \n",
    "    arrange(avg_CPE) %>% head(20)\n",
    "\n",
    "## Average\n",
    "gg1 <- qplot(data=df_group[1:15, ], x=reorder(channel_ad_id,-avg_CPE), y=avg_CPE, geom='col', fill=avg_CPE, \n",
    "             main='    CPE average in $', xlab='channel_ad_id') + coord_flip()\n",
    "\n",
    "## Count\n",
    "gg2 <- qplot(data=df_group[1:15, ], x=reorder(channel_ad_id,n), y=n, geom='col', fill=n, \n",
    "             main='    count LineItem' , xlab='channel_ad_id') + \n",
    "  coord_flip()\n",
    "\n",
    "gridExtra::grid.arrange(gg2, gg1, nrow = 1)\n",
    "\n",
    "df_group %>% head(10)\n"
   ]
  },
  {
   "cell_type": "markdown",
   "metadata": {},
   "source": [
    "#### Evalution of CPE distribution\n",
    "- CPE has skewed distribution and in this type of scenario probably is better to work with CPE in logarithm scale"
   ]
  },
  {
   "cell_type": "code",
   "execution_count": 11,
   "metadata": {},
   "outputs": [
    {
     "name": "stderr",
     "output_type": "stream",
     "text": [
      "`stat_bin()` using `bins = 30`. Pick better value with `binwidth`.\n"
     ]
    },
    {
     "data": {
      "image/png": "[encoded data removed]",
      "text/plain": [
       "plot without title"
      ]
     },
     "metadata": {},
     "output_type": "display_data"
    }
   ],
   "source": [
    "## CPE  distribution \n",
    "## CPE BY CAMPAIGN\n",
    "options(repr.plot.width = 11, repr.plot.height = 3)\n",
    "qplot(df$CPE, xlab = 'CPE distribution ')"
   ]
  },
  {
   "cell_type": "markdown",
   "metadata": {},
   "source": [
    "#### Quick recap until now\n",
    "\n",
    "- The top 3 influencers of CPE metric are channel ad id, interest and age\n",
    "- Campaign 936 and 916 have much lower CPE average\n",
    "- Gender Female with age between 25-34 tends to have higher CPE than others \n",
    "- Channel ad id (1,2 and 0) have lower CPE average and will probably provide higher margin profit in current campaign\n",
    "- Ages distribution 45-65+ and 18-25 have lower CPE than others to all genders (male and female)\n",
    "- Interest 31 and 36 will  also provide higher margin profit to the current campaign"
   ]
  },
  {
   "cell_type": "markdown",
   "metadata": {},
   "source": [
    "## Starting point to use AI and Machine Learning to predict CPE (Cost per Engagement) \n",
    "- After the prediction it is possible to identify and assing priority to respective Line Item\n",
    "- The metrics R2 (coeficient of determination) and evaluation metrics RMSE / MAE will be used to choose the best machine learning model\n",
    "- All executions will use cross validation strategy with 5 folds\n",
    "\n",
    "\n",
    "#### Preparation of the data to build ml models with h2o"
   ]
  },
  {
   "cell_type": "code",
   "execution_count": 12,
   "metadata": {},
   "outputs": [
    {
     "name": "stdout",
     "output_type": "stream",
     "text": [
      "  |======================================================================| 100%\n",
      "[1] \"H2O features\"\n"
     ]
    },
    {
     "data": {
      "text/html": [
       "<ol class=list-inline>\n",
       "\t<li>'xyz_campaign_id'</li>\n",
       "\t<li>'channel'</li>\n",
       "\t<li>'channel_ad_id'</li>\n",
       "\t<li>'gender'</li>\n",
       "\t<li>'age'</li>\n",
       "\t<li>'interest'</li>\n",
       "</ol>\n"
      ],
      "text/latex": [
       "\\begin{enumerate*}\n",
       "\\item 'xyz\\_campaign\\_id'\n",
       "\\item 'channel'\n",
       "\\item 'channel\\_ad\\_id'\n",
       "\\item 'gender'\n",
       "\\item 'age'\n",
       "\\item 'interest'\n",
       "\\end{enumerate*}\n"
      ],
      "text/markdown": [
       "1. 'xyz_campaign_id'\n",
       "2. 'channel'\n",
       "3. 'channel_ad_id'\n",
       "4. 'gender'\n",
       "5. 'age'\n",
       "6. 'interest'\n",
       "\n",
       "\n"
      ],
      "text/plain": [
       "[1] \"xyz_campaign_id\" \"channel\"         \"channel_ad_id\"   \"gender\"         \n",
       "[5] \"age\"             \"interest\"       "
      ]
     },
     "metadata": {},
     "output_type": "display_data"
    }
   ],
   "source": [
    "## h2o features and target\n",
    "h2o_features <- setdiff(features, 'CPE')\n",
    "df$logCPE <- log1p(df$CPE)\n",
    "target_CPE <- 'CPE'\n",
    "target_log_CPE <- 'logCPE'\n",
    "hdf <- as.h2o(df, destination_frame = 'hdf_CPE.hex')\n",
    "print('H2O features')\n",
    "h2o_features"
   ]
  },
  {
   "cell_type": "markdown",
   "metadata": {},
   "source": [
    "#### RF build and performance with default CPE"
   ]
  },
  {
   "cell_type": "code",
   "execution_count": 13,
   "metadata": {},
   "outputs": [
    {
     "name": "stdout",
     "output_type": "stream",
     "text": [
      "  |======================================================================| 100%\n"
     ]
    },
    {
     "data": {
      "text/plain": [
       "H2ORegressionMetrics: drf\n",
       "** Reported on training data. **\n",
       "** Metrics reported on Out-Of-Bag training samples **\n",
       "\n",
       "MSE:  0.2025541\n",
       "RMSE:  0.4500601\n",
       "MAE:  0.2534986\n",
       "RMSLE:  0.2036857\n",
       "Mean Residual Deviance :  0.2025541\n",
       "R^2 :  0.629772\n"
      ]
     },
     "metadata": {},
     "output_type": "display_data"
    }
   ],
   "source": [
    "## execution of Random Forest\n",
    "fit_rf_CPE <- h2o.randomForest(x = h2o_features,\n",
    "                   y = target_CPE,\n",
    "                   training_frame = hdf,\n",
    "                   model_id = 'RF_CPE.model',\n",
    "                   nfolds = 5,\n",
    "                   seed = 12345)\n",
    "h2o.performance(fit_rf_CPE)"
   ]
  },
  {
   "cell_type": "markdown",
   "metadata": {},
   "source": [
    "#### RF build model and performande with CPE in logarithmic scale\n",
    "- CPE in logarithmic scale have better results (higher R2 and lower RMSE/MAE) compared with default value\n",
    "- Use of log_CPE for prediction\n",
    "<br>\n",
    "<br>\n",
    "  Obs.: to work with default CPE again if necessary, use exponencial function (over logarithmic scale) to get CPE default value again. Example: expm1(log_CPE)"
   ]
  },
  {
   "cell_type": "code",
   "execution_count": 14,
   "metadata": {},
   "outputs": [
    {
     "name": "stdout",
     "output_type": "stream",
     "text": [
      "  |======================================================================| 100%\n"
     ]
    },
    {
     "data": {
      "text/plain": [
       "H2ORegressionMetrics: drf\n",
       "** Reported on training data. **\n",
       "** Metrics reported on Out-Of-Bag training samples **\n",
       "\n",
       "MSE:  0.04142841\n",
       "RMSE:  0.2035397\n",
       "MAE:  0.1374481\n",
       "RMSLE:  0.1311561\n",
       "Mean Residual Deviance :  0.04142841\n",
       "R^2 :  0.6999998\n"
      ]
     },
     "metadata": {},
     "output_type": "display_data"
    }
   ],
   "source": [
    "## execution of Random Forest\n",
    "fit_rf_log_CPE <- h2o.randomForest(x = h2o_features,\n",
    "                   y = target_log_CPE,\n",
    "                   training_frame = hdf,\n",
    "                   model_id = 'RF_log_CPE.model',\n",
    "                   nfolds = 5,\n",
    "                   seed = 12345)\n",
    "h2o.performance(fit_rf_log_CPE)"
   ]
  },
  {
   "cell_type": "markdown",
   "metadata": {},
   "source": [
    "### Build and evaluate second machine learning model\n",
    "\n",
    "### GLM - Generalized Linear Model\n",
    "\n",
    "- One interesting point of GLM using H2O is the automatic creation of One Hot Encoding for categorical features when build the model\n",
    "- All metrics (R2, RMSE and MAE) are worse with GLM compared to Random Forest as show below\n",
    "\n",
    "##### GLM build model and performande with default CPE"
   ]
  },
  {
   "cell_type": "code",
   "execution_count": 15,
   "metadata": {},
   "outputs": [
    {
     "name": "stdout",
     "output_type": "stream",
     "text": [
      "  |======================================================================| 100%\n"
     ]
    },
    {
     "data": {
      "text/plain": [
       "H2ORegressionMetrics: glm\n",
       "** Reported on training data. **\n",
       "\n",
       "MSE:  0.2998948\n",
       "RMSE:  0.5476265\n",
       "MAE:  0.3338792\n",
       "RMSLE:  0.2521584\n",
       "Mean Residual Deviance :  0.2998948\n",
       "R^2 :  0.4518528\n",
       "Null Deviance :507.1676\n",
       "Null D.o.F. :926\n",
       "Residual Deviance :278.0025\n",
       "Residual D.o.F. :915\n",
       "AIC :1540.304\n"
      ]
     },
     "metadata": {},
     "output_type": "display_data"
    }
   ],
   "source": [
    "## execution of GLM - cross validation with 5 folds and CPE\n",
    "fit_glm_CPE <- h2o.glm(x = h2o_features,\n",
    "                   y = target_CPE,\n",
    "                   training_frame = hdf,\n",
    "                   model_id = 'GLM_CPE.model',\n",
    "                   nfolds = 5,\n",
    "                   seed = 12345)\n",
    "h2o.performance(fit_glm_CPE)"
   ]
  },
  {
   "cell_type": "markdown",
   "metadata": {},
   "source": [
    "#### GLM build model and performande with CPE in logarithmic scale"
   ]
  },
  {
   "cell_type": "code",
   "execution_count": 16,
   "metadata": {},
   "outputs": [
    {
     "name": "stdout",
     "output_type": "stream",
     "text": [
      "  |======================================================================| 100%\n"
     ]
    },
    {
     "data": {
      "text/plain": [
       "H2ORegressionMetrics: glm\n",
       "** Reported on training data. **\n",
       "\n",
       "MSE:  0.06176227\n",
       "RMSE:  0.2485202\n",
       "MAE:  0.1748241\n",
       "RMSLE:  0.1576422\n",
       "Mean Residual Deviance :  0.06176227\n",
       "R^2 :  0.552754\n",
       "Null Deviance :128.0137\n",
       "Null D.o.F. :926\n",
       "Residual Deviance :57.25363\n",
       "Residual D.o.F. :916\n",
       "AIC :73.51525\n"
      ]
     },
     "metadata": {},
     "output_type": "display_data"
    }
   ],
   "source": [
    "## execution of GLM - cross validation with 5 folds and log of CPE (skewed distribution)\n",
    "fit_glm_log_CPE <- h2o.glm(x = h2o_features,\n",
    "                   y = target_log_CPE,\n",
    "                   training_frame = hdf,\n",
    "                   model_id = 'GLM_log_CPE.model',\n",
    "                   nfolds = 5,\n",
    "                   seed = 12345)\n",
    "h2o.performance(fit_glm_log_CPE)"
   ]
  },
  {
   "cell_type": "markdown",
   "metadata": {},
   "source": [
    "## Feature importance - GLM"
   ]
  },
  {
   "cell_type": "code",
   "execution_count": 17,
   "metadata": {},
   "outputs": [
    {
     "data": {
      "image/png": "[encoded data removed]",
      "text/plain": [
       "Plot with title \"Variable Importance: GLM\""
      ]
     },
     "metadata": {},
     "output_type": "display_data"
    }
   ],
   "source": [
    "options(repr.plot.width = 11, repr.plot.height = 6)\n",
    "h2o.varimp_plot(fit_glm_CPE)"
   ]
  },
  {
   "cell_type": "markdown",
   "metadata": {},
   "source": [
    "#### GLM results\n",
    "- The GLM algorithm shows the coeficient of determination (R2) worse than Random Forest\n",
    "- The RMSE and MAE are lower when working with CPE in logarithm scale (skewed distribution) as expected \n",
    "- Channel_ad_id.1 e channel_ad_id.2 have higher influence in the CPE (confirmation of explanation above)\n",
    "- Campaign 1178 has big negative impact on CPE\n",
    "- All others features/characterist of data were already explained the influence over CPE (positive and negative) and again presented above in the chart\n",
    "<br> age.25-34\n",
    "<br> gender.F\n",
    "<br> gender.M\n",
    "<br> campaign 936\n",
    "<br> age.45-65+\n",
    "- Interesting point to evaluate are channel 1 and channel 11 with higher influence also in CPE and presented below\n",
    "\n",
    "#### Top 10 channel with lowest CPE average\n",
    "\n",
    "- channel 12 has only one ocurrency and so without influence in CPE average\n",
    "- channel 1 and 11 have lower CPE average than others and below of \\$0.40\n",
    "- all other channel have the CPE average higher than \\$0.99"
   ]
  },
  {
   "cell_type": "code",
   "execution_count": 18,
   "metadata": {},
   "outputs": [
    {
     "data": {
      "text/html": [
       "<table>\n",
       "<thead><tr><th scope=col>channel</th><th scope=col>n</th><th scope=col>total_CPE</th><th scope=col>avg_CPE</th></tr></thead>\n",
       "<tbody>\n",
       "\t<tr><td>12       </td><td>  1      </td><td>  0.28   </td><td>0.2800000</td></tr>\n",
       "\t<tr><td>11       </td><td>417      </td><td>117.99   </td><td>0.2829496</td></tr>\n",
       "\t<tr><td>1        </td><td>334      </td><td>117.27   </td><td>0.3511078</td></tr>\n",
       "\t<tr><td>2        </td><td> 81      </td><td> 80.18   </td><td>0.9898765</td></tr>\n",
       "\t<tr><td>3        </td><td> 35      </td><td> 39.53   </td><td>1.1294286</td></tr>\n",
       "\t<tr><td>4        </td><td> 24      </td><td> 34.71   </td><td>1.4462500</td></tr>\n",
       "\t<tr><td>5        </td><td>  7      </td><td> 11.06   </td><td>1.5800000</td></tr>\n",
       "\t<tr><td>14       </td><td>  2      </td><td>  3.34   </td><td>1.6700000</td></tr>\n",
       "\t<tr><td>6        </td><td>  7      </td><td> 12.02   </td><td>1.7171429</td></tr>\n",
       "\t<tr><td>9        </td><td>  3      </td><td>  5.16   </td><td>1.7200000</td></tr>\n",
       "</tbody>\n",
       "</table>\n"
      ],
      "text/latex": [
       "\\begin{tabular}{r|llll}\n",
       " channel & n & total\\_CPE & avg\\_CPE\\\\\n",
       "\\hline\n",
       "\t 12        &   1       &   0.28    & 0.2800000\\\\\n",
       "\t 11        & 417       & 117.99    & 0.2829496\\\\\n",
       "\t 1         & 334       & 117.27    & 0.3511078\\\\\n",
       "\t 2         &  81       &  80.18    & 0.9898765\\\\\n",
       "\t 3         &  35       &  39.53    & 1.1294286\\\\\n",
       "\t 4         &  24       &  34.71    & 1.4462500\\\\\n",
       "\t 5         &   7       &  11.06    & 1.5800000\\\\\n",
       "\t 14        &   2       &   3.34    & 1.6700000\\\\\n",
       "\t 6         &   7       &  12.02    & 1.7171429\\\\\n",
       "\t 9         &   3       &   5.16    & 1.7200000\\\\\n",
       "\\end{tabular}\n"
      ],
      "text/markdown": [
       "\n",
       "| channel | n | total_CPE | avg_CPE |\n",
       "|---|---|---|---|\n",
       "| 12        |   1       |   0.28    | 0.2800000 |\n",
       "| 11        | 417       | 117.99    | 0.2829496 |\n",
       "| 1         | 334       | 117.27    | 0.3511078 |\n",
       "| 2         |  81       |  80.18    | 0.9898765 |\n",
       "| 3         |  35       |  39.53    | 1.1294286 |\n",
       "| 4         |  24       |  34.71    | 1.4462500 |\n",
       "| 5         |   7       |  11.06    | 1.5800000 |\n",
       "| 14        |   2       |   3.34    | 1.6700000 |\n",
       "| 6         |   7       |  12.02    | 1.7171429 |\n",
       "| 9         |   3       |   5.16    | 1.7200000 |\n",
       "\n"
      ],
      "text/plain": [
       "   channel n   total_CPE avg_CPE  \n",
       "1  12        1   0.28    0.2800000\n",
       "2  11      417 117.99    0.2829496\n",
       "3  1       334 117.27    0.3511078\n",
       "4  2        81  80.18    0.9898765\n",
       "5  3        35  39.53    1.1294286\n",
       "6  4        24  34.71    1.4462500\n",
       "7  5         7  11.06    1.5800000\n",
       "8  14        2   3.34    1.6700000\n",
       "9  6         7  12.02    1.7171429\n",
       "10 9         3   5.16    1.7200000"
      ]
     },
     "metadata": {},
     "output_type": "display_data"
    },
    {
     "data": {
      "image/png": "[encoded data removed]",
      "text/plain": [
       "plot without title"
      ]
     },
     "metadata": {},
     "output_type": "display_data"
    }
   ],
   "source": [
    "## CPE BY CHANNEL\n",
    "options(repr.plot.width = 11, repr.plot.height = 3)\n",
    "\n",
    "df_group <- df %>% group_by(channel) %>% summarise(n = n(), total_CPE = sum(CPE), avg_CPE = mean(CPE)) %>% \n",
    "  arrange(avg_CPE) %>% head(10)\n",
    "\n",
    "## Average\n",
    "gg1 <- qplot(data=df_group[1:10, ], x=reorder(channel,-avg_CPE), y=avg_CPE, geom='col', fill=avg_CPE, \n",
    "             main='    CPE average in $', xlab='channel_ad_id') + coord_flip()\n",
    "\n",
    "## Count\n",
    "gg2 <- qplot(data=df_group[1:10, ], x=reorder(channel,n), y=n, geom='col', fill=n, \n",
    "             main='    count LineItem' , xlab='channel_ad_id') + \n",
    "  coord_flip()\n",
    "\n",
    "gridExtra::grid.arrange(gg2, gg1, nrow = 1)\n",
    "\n",
    "df_group %>% head(10)\n"
   ]
  },
  {
   "cell_type": "markdown",
   "metadata": {},
   "source": [
    "### GBM ( Gradient Boosting Machine ) - build and  performance\n",
    "\n",
    "- GBM has the best results compared to Random Forest and GLM\n",
    "- GBM achieved\n",
    "<br> R^2 :  0.92\n",
    "<br> RMSE:  0.10\n",
    "<br> MAE:  0.07\n",
    "\n",
    "#### GBM build model and performande with CPE in logarithmic scale\n"
   ]
  },
  {
   "cell_type": "code",
   "execution_count": 19,
   "metadata": {},
   "outputs": [
    {
     "name": "stdout",
     "output_type": "stream",
     "text": [
      "  |======================================================================| 100%\n"
     ]
    },
    {
     "data": {
      "text/plain": [
       "H2ORegressionMetrics: gbm\n",
       "** Reported on training data. **\n",
       "\n",
       "MSE:  0.01096274\n",
       "RMSE:  0.1047031\n",
       "MAE:  0.07048631\n",
       "RMSLE:  0.07453724\n",
       "Mean Residual Deviance :  0.01096274\n",
       "R^2 :  0.9206143\n"
      ]
     },
     "metadata": {},
     "output_type": "display_data"
    }
   ],
   "source": [
    "## execution of GBM\n",
    "fit_gbm_log_CPE <- h2o.gbm(x = h2o_features,\n",
    "                   y = target_log_CPE,\n",
    "                   training_frame = hdf,\n",
    "                   model_id = 'GBM_log_CPE.model',\n",
    "                   nfolds = 5,\n",
    "                   seed = 12345)\n",
    "h2o.performance(fit_gbm_log_CPE)"
   ]
  },
  {
   "cell_type": "markdown",
   "metadata": {},
   "source": [
    "### Plot feature importance - GBM\n",
    "\n",
    "###### The 3 most important features that impact CPE in this historical data are exactly the same of Random Forest:\n",
    "- channel_ad_id\n",
    "- interest and\n",
    "- age\n",
    "\n"
   ]
  },
  {
   "cell_type": "code",
   "execution_count": 20,
   "metadata": {},
   "outputs": [
    {
     "data": {
      "image/png": "[encoded data removed]",
      "text/plain": [
       "Plot with title \"Variable Importance: GBM\""
      ]
     },
     "metadata": {},
     "output_type": "display_data"
    }
   ],
   "source": [
    "h2o.varimp_plot(fit_gbm_log_CPE)"
   ]
  },
  {
   "cell_type": "markdown",
   "metadata": {},
   "source": [
    "#### Considerations about machine learning model performance and possible improvements\n",
    "\n",
    "- These 3 machine learning models (Random Forest, GLM and GBM) could provide even better accuracy with hyper parameter tuning and Feature Engineering for example"
   ]
  },
  {
   "cell_type": "markdown",
   "metadata": {},
   "source": [
    "## Example to export model using command line"
   ]
  },
  {
   "cell_type": "markdown",
   "metadata": {},
   "source": [
    "<div class=\"alert alert-block alert-info\">\n",
    "<b>Info:</b> Save/export the GBM (best perfomance) model for deployment\n",
    "</div>"
   ]
  },
  {
   "cell_type": "code",
   "execution_count": 21,
   "metadata": {},
   "outputs": [
    {
     "data": {
      "text/html": [
       "'/home/userds1/H2O_JAR/GBM_MODEL/GBM_log_CPE.model'"
      ],
      "text/latex": [
       "'/home/userds1/H2O\\_JAR/GBM\\_MODEL/GBM\\_log\\_CPE.model'"
      ],
      "text/markdown": [
       "'/home/userds1/H2O_JAR/GBM_MODEL/GBM_log_CPE.model'"
      ],
      "text/plain": [
       "[1] \"/home/userds1/H2O_JAR/GBM_MODEL/GBM_log_CPE.model\""
      ]
     },
     "metadata": {},
     "output_type": "display_data"
    }
   ],
   "source": [
    "## Export model with command Line\n",
    "gbmmodel_Path <- h2o.saveModel(fit_gbm_log_CPE, 'GBM_MODEL')\n",
    "gbmmodel_Path\n"
   ]
  },
  {
   "cell_type": "markdown",
   "metadata": {},
   "source": [
    "### Prediction and deployment\n",
    "\n",
    "#### The model that achieve the best result was GBM - Gradient Boosting Machine\n",
    "\n",
    "The code below present one option do run the model with current campaing data and assing priority to each line item ID\n",
    "\n",
    "#### Rules applied for prediction and assign priority to Line Item ID\n",
    "- 1. Save the model for future use and backup\n",
    "- 2. Load the model again for prediction \n",
    "- 3. Load newdata and apply same and apply the same rules during the model building (training done with cross-validation)\n",
    "- 4. Run the prediction with current campaign data to get CPE prediction\n",
    "- 5. Convert CPE from logaritmic scale default CPE value\n",
    "- 6. Assing prioritty to each line item. This rule was implemented in 3 steps as shown below\n",
    "<br> 6.1: filter all Line Item ID with engagement higher than specific threshold (>= xxxx)\n",
    "<br> 6.2: sort the new data based on lowest CPE to highest CPE\n",
    "<br> 6.3: apply the rank from lowest CPE to highers CPE\n"
   ]
  },
  {
   "cell_type": "code",
   "execution_count": 22,
   "metadata": {},
   "outputs": [],
   "source": [
    "\n",
    "### CODE SAMPLE TO SAVE THE MODEL, PREDICT with NEW DATA AND ASSIGN PRIORITY TO Line Item ID\n",
    "\n",
    "## this demo data used engagement = xxx and for a real scenario choose engagement higher than specific threshold (>= xxxx)\n",
    "\n",
    "# # Code to predict and assing priority -------------------------------------\n",
    "# \n",
    "# getwd()\n",
    "# \n",
    "# ## Save the model for backup and future use\n",
    "# gbmmodel_Path <- h2o.saveModel(fit_gbm_log_CPE, 'GBM_MODEL')\n",
    "# \n",
    "# ## To load the model again to make prediction just use\n",
    "# fit_gbm_log_CPE <- h2o.loadModel(gbmmodel_Path)\n",
    "# \n",
    "# ## All metrics results still available for later evaluation for example\n",
    "# h2o.performance(fit_gbm_log_CPE)\n",
    "# \n",
    "# ## Load newdata\n",
    "# newdata <- fread('../data/CURRENT_CAMPAIGN_Smart_Exploration.csv')\n",
    "# head(newdata)\n",
    "# \n",
    "# ## Apply same rules used to buil the model\n",
    "# newdata$xyz_campaign_id <- as.factor(newdata$xyz_campaign_id)\n",
    "# newdata$channel <- as.factor(newdata$channel)\n",
    "# newdata$channel_ad_id <- as.factor(newdata$channel_ad_id)\n",
    "# newdata <- newdata %>% mutate_if(., is.character, as.factor)\n",
    "# summary(newdata)\n",
    "# \n",
    "# ## Make Predictions using H2O\n",
    "# h2o_newdata <- as.h2o(newdata, destination_frame = 'current_campaign')\n",
    "# predict_log_CPE <- h2o.predict(fit_gbm_log_CPE, newdata=h2o_newdata )\n",
    "# \n",
    "# ## Convert the Prediction to CPE default value and assing to each line item\n",
    "# log_CPE <- as.data.frame(predict_log_CPE)\n",
    "# newdata$CPE <- exp(df_predict_log_CPE$predict - 1)\n",
    "# summary(newdata$CPE)\n",
    "# \n",
    "# \n",
    "# ## Example of rule that could be used to assing priority\n",
    "# ##### 1. Filter current data with engagements higher than xxxx\n",
    "# ##### 2. Rank Line Item ID with lower CPE or lower than CPE average for example\n",
    "# \n",
    "# ## code to filter engagement higher than specific threshold\n",
    "# newdata %>% filter(engagement >= 'xxx')\n",
    "# \n",
    "# ## code to assing rank priority based on lower CPE\n",
    "# newdata <- newdata %>% arrange(CPE)\n",
    "# newdata$Rank <- rownames(newdata)\n",
    "# head(newdata)\n",
    "# \n",
    "# # final code --------------------------------------------------------------\n"
   ]
  },
  {
   "cell_type": "markdown",
   "metadata": {},
   "source": [
    "## Summary and considerations\n",
    "\n",
    "##### The top 3 influencers of CPE metric are channel ad id, interest and age\n",
    "- Campaign 936 and 916 have much lower CPE average\n",
    "- Gender Female with age between 25-34 tends to have higher CPE than others\n",
    "- Channel ad id (1,2 and 0) have lower CPE average and will probably provide higher margin profit in current campaign\n",
    "- Ages distribution 45-65+ and 18-25 have lower CPE than others to all genders (male and female)\n",
    "- Interest 31 and 36 will also provide higher margin profit in current campaign\n",
    "\n",
    "##### The machine learning model GBM achieved the best results compared to Random Forest and GLM\n",
    "GBM performance metrics\n",
    "- R^2 : 0.92\n",
    "- RMSE: 0.10\n",
    "- MAE: 0.07\n",
    "\n",
    "##### Deployment considerations\n",
    "- The GBM model build and already saved could be deployed to be used as a batch process (current campaign data) with predictions presented above and also as a java application or microservices architecture for online prediction for specific use cases for example\n",
    "\n",
    "###### The next and last notebook (Phase 3 - Deployment) will provide more information related to the deployment and predictions"
   ]
  },
  {
   "cell_type": "code",
   "execution_count": null,
   "metadata": {},
   "outputs": [],
   "source": []
  }
 ],
 "metadata": {
  "kernelspec": {
   "display_name": "R",
   "language": "R",
   "name": "ir"
  },
  "language_info": {
   "codemirror_mode": "r",
   "file_extension": ".r",
   "mimetype": "text/x-r-source",
   "name": "R",
   "pygments_lexer": "r",
   "version": "3.6.1"
  }
 },
 "nbformat": 4,
 "nbformat_minor": 2
}
