{
 "cells": [
  {
   "cell_type": "markdown",
   "metadata": {},
   "source": [
    "# Phase 2 - Evaluate the Recall metric and analyze the unbalanced class\n",
    "\n",
    "#### Summary of all steps executed in this notebook\n",
    "- Start loading the 3 exported models (xgb and gbm) with higher accuracy and run the predictions.\n",
    "<br> These models were exported in previous notebooks and were built using the ML frameworks sklearn and h2o.ai\n",
    "- Build new machine learning models with the additional techniques explained below and\n",
    "- Evaluate the machine learning model with higher RECALL metric for deployment\n",
    "<br> Recall metric is one good option to evaluate this type of scenario (customer churn) \n",
    "<br> Recall is also known as Sensitivity or True positive rate(TPR)\n",
    "\n",
    "#### Additional techniques trying to improve the performance of the ML model, such as:\n",
    "- Evaluation of unbalanced classification / class weight\n",
    "- Smote technique for oversampling the training dataset\n",
    "- Apply Standard Scale in the data before build the ML models, and compare with previous results using default data format\n",
    "\n",
    "## Quick recap of previous notebooks - Machine Learning with Python\n",
    "\n",
    "#### Build 15 machine learning using different frameworks -  XGBoost, LightGBM, Sklearn, H2O.ai and Apache Spark\n",
    "- 2 ML models in 1x5\n",
    "- 6 ML models in 2x6\n",
    "- 4 ML models in 3x6\n",
    "- 3 ML models in 4x6\n",
    "\n",
    "#### Model evaluation\n",
    "- Previous notebooks use the global metric accuracy for evaluation\n",
    "\n",
    "#### Starting process... load python modules and also connect to h2o cluster"
   ]
  },
  {
   "cell_type": "code",
   "execution_count": 1,
   "metadata": {},
   "outputs": [
    {
     "name": "stdout",
     "output_type": "stream",
     "text": [
      "Connecting to H2O server at http://192.168.56.102:54321 ... successful.\n"
     ]
    },
    {
     "data": {
      "text/html": [
       "<div style=\"overflow:auto\"><table style=\"width:50%\"><tr><td>H2O cluster uptime:</td>\n",
       "<td>5 hours 38 mins</td></tr>\n",
       "<tr><td>H2O cluster timezone:</td>\n",
       "<td>America/Sao_Paulo</td></tr>\n",
       "<tr><td>H2O data parsing timezone:</td>\n",
       "<td>UTC</td></tr>\n",
       "<tr><td>H2O cluster version:</td>\n",
       "<td>3.26.0.3</td></tr>\n",
       "<tr><td>H2O cluster version age:</td>\n",
       "<td>7 months and 23 days !!!</td></tr>\n",
       "<tr><td>H2O cluster name:</td>\n",
       "<td>userds1</td></tr>\n",
       "<tr><td>H2O cluster total nodes:</td>\n",
       "<td>1</td></tr>\n",
       "<tr><td>H2O cluster free memory:</td>\n",
       "<td>5.746 Gb</td></tr>\n",
       "<tr><td>H2O cluster total cores:</td>\n",
       "<td>1</td></tr>\n",
       "<tr><td>H2O cluster allowed cores:</td>\n",
       "<td>1</td></tr>\n",
       "<tr><td>H2O cluster status:</td>\n",
       "<td>locked, healthy</td></tr>\n",
       "<tr><td>H2O connection url:</td>\n",
       "<td>http://192.168.56.102:54321</td></tr>\n",
       "<tr><td>H2O connection proxy:</td>\n",
       "<td>None</td></tr>\n",
       "<tr><td>H2O internal security:</td>\n",
       "<td>False</td></tr>\n",
       "<tr><td>H2O API Extensions:</td>\n",
       "<td>Amazon S3, XGBoost, Algos, AutoML, Core V3, Core V4</td></tr>\n",
       "<tr><td>Python version:</td>\n",
       "<td>3.7.3 final</td></tr></table></div>"
      ],
      "text/plain": [
       "--------------------------  ---------------------------------------------------\n",
       "H2O cluster uptime:         5 hours 38 mins\n",
       "H2O cluster timezone:       America/Sao_Paulo\n",
       "H2O data parsing timezone:  UTC\n",
       "H2O cluster version:        3.26.0.3\n",
       "H2O cluster version age:    7 months and 23 days !!!\n",
       "H2O cluster name:           userds1\n",
       "H2O cluster total nodes:    1\n",
       "H2O cluster free memory:    5.746 Gb\n",
       "H2O cluster total cores:    1\n",
       "H2O cluster allowed cores:  1\n",
       "H2O cluster status:         locked, healthy\n",
       "H2O connection url:         http://192.168.56.102:54321\n",
       "H2O connection proxy:\n",
       "H2O internal security:      False\n",
       "H2O API Extensions:         Amazon S3, XGBoost, Algos, AutoML, Core V3, Core V4\n",
       "Python version:             3.7.3 final\n",
       "--------------------------  ---------------------------------------------------"
      ]
     },
     "metadata": {},
     "output_type": "display_data"
    }
   ],
   "source": [
    "import pandas as pd\n",
    "import seaborn as sns\n",
    "import matplotlib.pyplot as plt\n",
    "import numpy as np\n",
    "\n",
    "## Remove warnings\n",
    "import warnings\n",
    "warnings.filterwarnings(\"ignore\")\n",
    "\n",
    "## Machine Learning Models\n",
    "import h2o\n",
    "from h2o.estimators import H2OXGBoostEstimator, H2OGradientBoostingEstimator\n",
    "import xgboost as xgb\n",
    "from sklearn.ensemble import GradientBoostingClassifier\n",
    "\n",
    "## Sklearn Metrics - Classification and model selection\n",
    "from sklearn.metrics import (confusion_matrix, classification_report, accuracy_score, \n",
    "                             roc_auc_score, recall_score, roc_auc_score)\n",
    "\n",
    "from sklearn.model_selection import train_test_split\n",
    "\n",
    "## Scale data\n",
    "from sklearn.preprocessing import scale\n",
    "\n",
    "# import imblearn - SMOTE\n",
    "from imblearn.over_sampling import SMOTE\n",
    "\n",
    "## Load ML models\n",
    "import pickle\n",
    "\n",
    "## connect to h2o cluster and remove all object\n",
    "h2o.connect(ip='192.168.56.102')\n",
    "h2o.remove_all()"
   ]
  },
  {
   "cell_type": "markdown",
   "metadata": {},
   "source": [
    "### Load and prepare the dataset to build ML models\n",
    "- H2O - pandas Dataframe with raw data\n",
    "- Sklearn - Numpy arrays with One Hot Encode for categorical columns"
   ]
  },
  {
   "cell_type": "code",
   "execution_count": 2,
   "metadata": {},
   "outputs": [
    {
     "name": "stdout",
     "output_type": "stream",
     "text": [
      "Parse progress: |█████████████████████████████████████████████████████████| 100%\n",
      "Parse progress: |█████████████████████████████████████████████████████████| 100%\n"
     ]
    },
    {
     "data": {
      "text/html": [
       "<div>\n",
       "<style scoped>\n",
       "    .dataframe tbody tr th:only-of-type {\n",
       "        vertical-align: middle;\n",
       "    }\n",
       "\n",
       "    .dataframe tbody tr th {\n",
       "        vertical-align: top;\n",
       "    }\n",
       "\n",
       "    .dataframe thead th {\n",
       "        text-align: right;\n",
       "    }\n",
       "</style>\n",
       "<table border=\"1\" class=\"dataframe\">\n",
       "  <thead>\n",
       "    <tr style=\"text-align: right;\">\n",
       "      <th></th>\n",
       "      <th>tenure</th>\n",
       "      <th>MonthlyCharges</th>\n",
       "      <th>TotalCharges</th>\n",
       "      <th>Churn</th>\n",
       "      <th>gender_Female</th>\n",
       "      <th>gender_Male</th>\n",
       "      <th>PaymentMethod_Bank transfer (automatic)</th>\n",
       "      <th>PaymentMethod_Credit card (automatic)</th>\n",
       "      <th>PaymentMethod_Electronic check</th>\n",
       "      <th>PaymentMethod_Mailed check</th>\n",
       "      <th>Contract_Month-to-month</th>\n",
       "      <th>Contract_One year</th>\n",
       "      <th>Contract_Two year</th>\n",
       "    </tr>\n",
       "  </thead>\n",
       "  <tbody>\n",
       "    <tr>\n",
       "      <th>0</th>\n",
       "      <td>1</td>\n",
       "      <td>29.85</td>\n",
       "      <td>29.85</td>\n",
       "      <td>0</td>\n",
       "      <td>1</td>\n",
       "      <td>0</td>\n",
       "      <td>0</td>\n",
       "      <td>0</td>\n",
       "      <td>1</td>\n",
       "      <td>0</td>\n",
       "      <td>1</td>\n",
       "      <td>0</td>\n",
       "      <td>0</td>\n",
       "    </tr>\n",
       "    <tr>\n",
       "      <th>1</th>\n",
       "      <td>34</td>\n",
       "      <td>56.95</td>\n",
       "      <td>1889.50</td>\n",
       "      <td>0</td>\n",
       "      <td>0</td>\n",
       "      <td>1</td>\n",
       "      <td>0</td>\n",
       "      <td>0</td>\n",
       "      <td>0</td>\n",
       "      <td>1</td>\n",
       "      <td>0</td>\n",
       "      <td>1</td>\n",
       "      <td>0</td>\n",
       "    </tr>\n",
       "  </tbody>\n",
       "</table>\n",
       "</div>"
      ],
      "text/plain": [
       "   tenure  MonthlyCharges  TotalCharges  Churn  gender_Female  gender_Male  \\\n",
       "0       1           29.85         29.85      0              1            0   \n",
       "1      34           56.95       1889.50      0              0            1   \n",
       "\n",
       "   PaymentMethod_Bank transfer (automatic)  \\\n",
       "0                                        0   \n",
       "1                                        0   \n",
       "\n",
       "   PaymentMethod_Credit card (automatic)  PaymentMethod_Electronic check  \\\n",
       "0                                      0                               1   \n",
       "1                                      0                               0   \n",
       "\n",
       "   PaymentMethod_Mailed check  Contract_Month-to-month  Contract_One year  \\\n",
       "0                           0                        1                  0   \n",
       "1                           1                        0                  1   \n",
       "\n",
       "   Contract_Two year  \n",
       "0                  0  \n",
       "1                  0  "
      ]
     },
     "execution_count": 2,
     "metadata": {},
     "output_type": "execute_result"
    }
   ],
   "source": [
    "## Load and prepare the dataset to build ML models - Customer churn\n",
    "df = pd.read_csv('../data/WA_Fn-UseC_-Telco-Customer-Churn.csv')\n",
    "df.loc[(df.tenure==0) & (df.TotalCharges == ' '), ['TotalCharges', 'tenure']] = 0\n",
    "df['TotalCharges'] = df['TotalCharges'].astype('float')\n",
    "\n",
    "current_features = ['tenure', 'MonthlyCharges', 'TotalCharges', 'gender', 'PaymentMethod' , 'Churn', 'Contract']\n",
    "\n",
    "df = df[current_features]\n",
    "\n",
    "## H2O DATA - FORMAT AS DATA FRAME WITHOUT ONE HOT ENCODE\n",
    "target = 'Churn'\n",
    "features_h2o = df.columns.to_list()\n",
    "features = features_h2o.copy()\n",
    "features.remove(target)\n",
    "\n",
    "X = df[features].copy()\n",
    "y = df[target]\n",
    "\n",
    "SEED = 42\n",
    "X_train_h2o, X_test_h2o, y_train, y_test = train_test_split(X, y, test_size=0.33, random_state=SEED)\n",
    "\n",
    "X_train_h2o[target] = y_train\n",
    "X_test_h2o[target] = y_test\n",
    "\n",
    "## Convert to h2o Frame\n",
    "train_h2o = h2o.H2OFrame(X_train_h2o, destination_frame='train.hex')\n",
    "train_h2o[target] = train_h2o[target].asfactor()\n",
    "test_h2o = h2o.H2OFrame(X_test_h2o, destination_frame='test.hex')\n",
    "test_h2o[target] = test_h2o[target].asfactor()\n",
    "\n",
    "## SKLEARN with One  Hot Encode and format  as Numpy Array\n",
    "## One Hot Encode for categorical features - sklearn\n",
    "\n",
    "target_1_0 = lambda x: ['No', 'Yes'].index(x)\n",
    "df[target] = df[target].apply(target_1_0)\n",
    "\n",
    "OHE_cols = ['gender', 'PaymentMethod' , 'Contract']\n",
    "df = pd.get_dummies(data=df, columns=OHE_cols)\n",
    "\n",
    "features = df.columns.to_list()\n",
    "features.remove(target)\n",
    "\n",
    "X = df[features].values\n",
    "y = df[target].values\n",
    "\n",
    "X_train, X_test, y_train, y_test = train_test_split(X, y, test_size=0.33, random_state=SEED)\n",
    "\n",
    "df.head(2)"
   ]
  },
  {
   "cell_type": "markdown",
   "metadata": {},
   "source": [
    "### Export statistics information for new predictions"
   ]
  },
  {
   "cell_type": "code",
   "execution_count": 3,
   "metadata": {},
   "outputs": [],
   "source": [
    "## Export stats information from training data and 1 row as example  for new predictions\n",
    "df_stats = pd.DataFrame(X_train, columns=features)\n",
    "df_stats = df_stats.describe(include='all')\n",
    "# df_stats['idx_cols'] = df_stats.index\n",
    "df_stats.to_csv('./ML_models/stats_df_train.csv', sep=',')"
   ]
  },
  {
   "cell_type": "markdown",
   "metadata": {},
   "source": [
    "### Export samples of data for new predictions\n",
    "- First export will provide the data in the correct format expected by the GBM for prediction\n",
    "- The second example will provide in the standard format just to show how to build the entire data pipeline for prediction\n"
   ]
  },
  {
   "cell_type": "code",
   "execution_count": 4,
   "metadata": {},
   "outputs": [],
   "source": [
    "# ## Export 1 row as exmple for new predictions - all information\n",
    "# df_pred = pd.DataFrame(X_test[:1], columns=features)\n",
    "# df_pred.to_csv('./ML_models/pred_example.csv', sep=',', index=False)\n",
    "\n",
    "## 1 - Expected format by the GBM Model for prediction\n",
    "pd.DataFrame(X_test[:1], columns=features).to_csv('./ML_models/pred_example_correct_format.csv', sep=',', index=False)\n",
    "\n",
    "## 2 - Data in the standard format - must apply all rules to run the prediction with GBM model\n",
    "X_test_h2o.iloc[:1, X_test_h2o.columns != 'Churn'].to_csv('./ML_models/pred_baseline_example.csv', sep=',', index=False)"
   ]
  },
  {
   "cell_type": "markdown",
   "metadata": {},
   "source": [
    "### Machine Learning models\n",
    "- First let's create one aux function to help in the model evaluation"
   ]
  },
  {
   "cell_type": "code",
   "execution_count": 5,
   "metadata": {},
   "outputs": [],
   "source": [
    "## Function to print Confusion Matrix and metrics\n",
    "def rpt_metrics_report(y_true, y_pred, msg_model='MODEL XPTO', rpt_confusion_matrix=False):\n",
    "    \"\"\"Print metrics \"\"\"\n",
    "    \n",
    "    accuracy_score_rpt = accuracy_score(y_true, y_pred)\n",
    "    recall_score_rpt = recall_score(y_true, y_pred)\n",
    "    auc_rpt = roc_auc_score(y_true, y_pred)\n",
    "    \n",
    "    print('Model: ', msg_model)\n",
    "    print('--   Accuracy: ', accuracy_score_rpt)\n",
    "    print('--   AUC     : ', auc_rpt)\n",
    "    print('--   Recall  : ', recall_score_rpt)\n",
    "    print('')\n",
    "    if rpt_confusion_matrix:\n",
    "        report = classification_report(y_true, y_pred)\n",
    "        confusion_matrix_rpt = confusion_matrix(y_true, y_pred)\n",
    "        print('--   Confusion Matrix')\n",
    "        print('0   FP')\n",
    "        print('FN  1')\n",
    "        print('')\n",
    "        print(confusion_matrix_rpt)\n",
    "        print('')\n",
    "        print('')\n",
    "        print('--   Metrics report')\n",
    "        print(report)\n",
    "        print('')"
   ]
  },
  {
   "cell_type": "markdown",
   "metadata": {},
   "source": [
    "### Load the machine learning models already build and start the evaluation using the metric recall\n",
    "\n",
    "##### GBM and XBG (sklearn and h2o) \n",
    "- These 3 models presented below have similar accuracy score and were the ones that had the best results\n",
    "<br> exported previously in specific notebook"
   ]
  },
  {
   "cell_type": "code",
   "execution_count": 6,
   "metadata": {},
   "outputs": [
    {
     "name": "stdout",
     "output_type": "stream",
     "text": [
      "\n",
      "ML prediction - sklearn baseline models\n",
      "\n",
      "Model:  GBM\n",
      "--   Accuracy:  0.8\n",
      "--   AUC     :  0.7095220490261945\n",
      "--   Recall  :  0.5127388535031847\n",
      "\n",
      "Model:  XGB\n",
      "--   Accuracy:  0.7991397849462366\n",
      "--   AUC     :  0.7019112033599947\n",
      "--   Recall  :  0.49044585987261147\n",
      "\n",
      "xgboost prediction progress: |████████████████████████████████████████████| 100%\n",
      "Model:  H2O - XGB\n",
      "--   Accuracy:  0.7918279569892474\n",
      "--   AUC     :  0.7580903355115246\n",
      "--   Recall  :  0.6847133757961783\n",
      "\n"
     ]
    }
   ],
   "source": [
    "## Load models and validate \n",
    "print('')\n",
    "print('ML prediction - sklearn baseline models')\n",
    "print('')\n",
    "\n",
    "## GBM model \n",
    "file_export_model = './ML_models/model_GBM_baseline_v1.sav'\n",
    "gbm_model = pickle.load(open(file_export_model, 'rb'))\n",
    "y_pred_gbm = gbm_model.predict(X_test)\n",
    "rpt_metrics_report(y_test, y_pred_gbm, 'GBM')\n",
    "\n",
    "## XGB model \n",
    "file_export_model = './ML_models/model_XGB_baseline_v1.sav'\n",
    "xgb_model = pickle.load(open(file_export_model, 'rb'))\n",
    "y_pred_xgb = xgb_model.predict(X_test)\n",
    "rpt_metrics_report(y_test, y_pred_xgb, 'XGB')\n",
    "\n",
    "## H2O baseline models\n",
    "## get model exported - predict and generate target in numeric format\n",
    "\n",
    "## XGB model\n",
    "export_model_path = \"./ML_models/model_xgb_v1/fit_xgb.model\"\n",
    "h2o_model_xgb = h2o.load_model(export_model_path)\n",
    "# model_xgb.model_performance()\n",
    "ypred_XGB_df = h2o_model_xgb.predict(test_h2o).as_data_frame()\n",
    "y_pred_h2o = ypred_XGB_df['predict'].apply(target_1_0)\n",
    "y_true_test_h2o = X_test_h2o[target].apply(target_1_0).values\n",
    "rpt_metrics_report(y_true_test_h2o, y_pred_h2o, 'H2O - XGB')"
   ]
  },
  {
   "cell_type": "markdown",
   "metadata": {},
   "source": [
    "### 1st Machine learning model insight\n",
    "- The 3 models have similar accuracy between 79% and 80%, however the model with H2O (xgb) has an AUC 5% higher\n",
    "- Recall with xgb using H2O.ai framework is 68,47% => 17% higher than the others\n",
    "<br> The H2O XGB is currently the model that provide the best performance in general\n",
    "\n",
    "The difference between these 2 executions are mainly related to default hyper parameter used by each framework \n",
    "<br> (ML model and framework - sklearn vs. h2o.ai)\n",
    "<br> Some examples:\n",
    "- GBM with sklearn use learning rate = 0.1 and xgb with H2O.ai use eta/learning rate = 0.3 as can be seen below.\n",
    "- Number of trees, and so on...\n",
    "\n",
    "#### GBM with sklearn"
   ]
  },
  {
   "cell_type": "code",
   "execution_count": 7,
   "metadata": {},
   "outputs": [
    {
     "data": {
      "text/plain": [
       "GradientBoostingClassifier(ccp_alpha=0.0, criterion='friedman_mse', init=None,\n",
       "                           learning_rate=0.1, loss='deviance', max_depth=3,\n",
       "                           max_features=None, max_leaf_nodes=None,\n",
       "                           min_impurity_decrease=0.0, min_impurity_split=None,\n",
       "                           min_samples_leaf=1, min_samples_split=2,\n",
       "                           min_weight_fraction_leaf=0.0, n_estimators=100,\n",
       "                           n_iter_no_change=None, presort='deprecated',\n",
       "                           random_state=42, subsample=1.0, tol=0.0001,\n",
       "                           validation_fraction=0.1, verbose=0,\n",
       "                           warm_start=False)"
      ]
     },
     "execution_count": 7,
     "metadata": {},
     "output_type": "execute_result"
    }
   ],
   "source": [
    "gbm_model"
   ]
  },
  {
   "cell_type": "markdown",
   "metadata": {},
   "source": [
    "### XGB with H2O.ai"
   ]
  },
  {
   "cell_type": "code",
   "execution_count": 8,
   "metadata": {},
   "outputs": [
    {
     "data": {
      "text/plain": [
       "{'model_id': None,\n",
       " 'training_frame': None,\n",
       " 'validation_frame': None,\n",
       " 'nfolds': 0,\n",
       " 'keep_cross_validation_models': True,\n",
       " 'keep_cross_validation_predictions': False,\n",
       " 'keep_cross_validation_fold_assignment': False,\n",
       " 'score_each_iteration': False,\n",
       " 'fold_assignment': 'AUTO',\n",
       " 'fold_column': None,\n",
       " 'response_column': None,\n",
       " 'ignored_columns': None,\n",
       " 'ignore_const_cols': True,\n",
       " 'offset_column': None,\n",
       " 'weights_column': None,\n",
       " 'stopping_rounds': 0,\n",
       " 'stopping_metric': 'AUTO',\n",
       " 'stopping_tolerance': 0.001,\n",
       " 'max_runtime_secs': 0.0,\n",
       " 'seed': -1,\n",
       " 'distribution': 'AUTO',\n",
       " 'tweedie_power': 1.5,\n",
       " 'categorical_encoding': 'AUTO',\n",
       " 'quiet_mode': True,\n",
       " 'export_checkpoints_dir': None,\n",
       " 'ntrees': 50,\n",
       " 'max_depth': 6,\n",
       " 'min_rows': 1.0,\n",
       " 'min_child_weight': 1.0,\n",
       " 'learn_rate': 0.3,\n",
       " 'eta': 0.3,\n",
       " 'sample_rate': 1.0,\n",
       " 'subsample': 1.0,\n",
       " 'col_sample_rate': 1.0,\n",
       " 'colsample_bylevel': 1.0,\n",
       " 'col_sample_rate_per_tree': 1.0,\n",
       " 'colsample_bytree': 1.0,\n",
       " 'max_abs_leafnode_pred': 0.0,\n",
       " 'max_delta_step': 0.0,\n",
       " 'monotone_constraints': None,\n",
       " 'score_tree_interval': 0,\n",
       " 'min_split_improvement': 0.0,\n",
       " 'gamma': 0.0,\n",
       " 'nthread': -1,\n",
       " 'max_bins': 256,\n",
       " 'max_leaves': 0,\n",
       " 'min_sum_hessian_in_leaf': 100.0,\n",
       " 'min_data_in_leaf': 0.0,\n",
       " 'sample_type': 'uniform',\n",
       " 'normalize_type': 'tree',\n",
       " 'rate_drop': 0.0,\n",
       " 'one_drop': False,\n",
       " 'skip_drop': 0.0,\n",
       " 'tree_method': 'auto',\n",
       " 'grow_policy': 'depthwise',\n",
       " 'booster': 'gbtree',\n",
       " 'reg_lambda': 1.0,\n",
       " 'reg_alpha': 0.0,\n",
       " 'dmatrix_type': 'auto',\n",
       " 'backend': 'auto',\n",
       " 'gpu_id': 0}"
      ]
     },
     "execution_count": 8,
     "metadata": {},
     "output_type": "execute_result"
    }
   ],
   "source": [
    "h2o_model_xgb.default_params"
   ]
  },
  {
   "cell_type": "markdown",
   "metadata": {},
   "source": [
    "#### To finalize the evaluation and decide which model to deploy in production additional techniques will be applied\n",
    "- Apply Standard Scale in the data before build the machine learning model\n",
    "- Evaluate the balance of target class and optimize the model execution\n",
    "\n",
    "## Evaluation of target class distribution\n",
    "- Churn    : ~ 26%%\n",
    "- No churn : ~ 73%"
   ]
  },
  {
   "cell_type": "code",
   "execution_count": 9,
   "metadata": {},
   "outputs": [
    {
     "name": "stdout",
     "output_type": "stream",
     "text": [
      "Target class distribution - all data\n",
      "0    5174\n",
      "1    1869\n",
      "Name: Churn, dtype: int64\n",
      "0    0.73463\n",
      "1    0.26537\n",
      "Name: Churn, dtype: float64\n",
      "\n",
      "Target class distribution - train dataset\n",
      "0    3477\n",
      "1    1241\n",
      "dtype: int64\n",
      "0    0.736965\n",
      "1    0.263035\n",
      "dtype: float64\n"
     ]
    }
   ],
   "source": [
    "print('Target class distribution - all data')\n",
    "print(pd.value_counts(df[target]))\n",
    "print(pd.value_counts(df[target])/len(df[target]))\n",
    "print('')\n",
    "print('Target class distribution - train dataset')\n",
    "print(pd.value_counts(y_train))\n",
    "print(pd.value_counts(y_train)/len(y_train))"
   ]
  },
  {
   "cell_type": "markdown",
   "metadata": {},
   "source": [
    "### Machine learning models with scale and class weight\n",
    "#### XGB - sklearn\n",
    "- Standard Scale applied and scale_pos_weight = class weight\n",
    "- Recall achieved : 82,0%"
   ]
  },
  {
   "cell_type": "code",
   "execution_count": 10,
   "metadata": {},
   "outputs": [
    {
     "name": "stdout",
     "output_type": "stream",
     "text": [
      "Class weight:  2.8017727639000807\n"
     ]
    }
   ],
   "source": [
    "class_weight = sum(y_train == 0) / sum(y_train == 1) ## total 0:3477 / total 1: 1241 = 2.8017727639000807\n",
    "print('Class weight: ' , class_weight)"
   ]
  },
  {
   "cell_type": "code",
   "execution_count": 11,
   "metadata": {},
   "outputs": [
    {
     "name": "stdout",
     "output_type": "stream",
     "text": [
      "Model:  XGB - CLASS WEIGHT\n",
      "--   Accuracy:  0.7436559139784946\n",
      "--   AUC     :  0.7677218883830214\n",
      "--   Recall  :  0.8200636942675159\n",
      "\n"
     ]
    }
   ],
   "source": [
    "## XGB with class weight - scale_pos_weight\n",
    "\n",
    "## Scale data - only tenure and charges (numeric values)\n",
    "scale_trainX = scale(X_train[:, [0, 1, 2]])\n",
    "scale_trainX = np.concatenate((scale_trainX, X_train[:, 3:12 ]), axis = 1)\n",
    "\n",
    "scale_testX = scale(X_test[:, [0, 1, 2]])\n",
    "scale_testX = np.concatenate((scale_testX, X_test[:, 3:12 ]), axis = 1)\n",
    "\n",
    "model_xgb_scale = xgb.XGBClassifier(random_state=SEED, scale_pos_weight=class_weight)\n",
    "model_xgb_scale.fit(scale_trainX, y_train)\n",
    "\n",
    "y_pred_xgb_scale = model_xgb_scale.predict(scale_testX)\n",
    "rpt_metrics_report(y_test, y_pred_xgb_scale, 'XGB - CLASS WEIGHT')"
   ]
  },
  {
   "cell_type": "markdown",
   "metadata": {},
   "source": [
    "### 2nd Insight\n",
    "- The accuracy score is 5% worse however the recall metric is much higher\n",
    "- XGB with scale and class weight achieved 82% of recall\n",
    "\n",
    "## GBM execution with Standard Scale and SMOTE to balance the class - Churn\n",
    "- GBM with sklearn does not have the option to inform the class weight to the algorithm, so let´s balance the class with SMOTE\n",
    "\n",
    "#### GBM - model evaluation\n",
    "- Recall of 86,30%"
   ]
  },
  {
   "cell_type": "code",
   "execution_count": 12,
   "metadata": {},
   "outputs": [
    {
     "name": "stdout",
     "output_type": "stream",
     "text": [
      "Model:  GBM - scale and SMOTE \n",
      "--   Accuracy:  0.7290322580645161\n",
      "--   AUC     :  0.7712458103284553\n",
      "--   Recall  :  0.8630573248407644\n",
      "\n",
      "Balance class - Churn\n",
      "1    3477\n",
      "0    3477\n",
      "dtype: int64\n"
     ]
    }
   ],
   "source": [
    "# SMOTE with imblearn\n",
    "from imblearn.over_sampling import SMOTE\n",
    "smote_bal = SMOTE(random_state=SEED)\n",
    "X_smote, y_smote = smote_bal.fit_resample(scale_trainX, y_train)\n",
    "\n",
    "## GBM smote\n",
    "model_GBM_smote = GradientBoostingClassifier(random_state=SEED)\n",
    "model_GBM_smote.fit(X_smote, y_smote)\n",
    "\n",
    "y_pred_gbm_smote = model_GBM_smote.predict(scale_testX)\n",
    "rpt_metrics_report(y_test, y_pred_gbm_smote, 'GBM - scale and SMOTE ')\n",
    "\n",
    "print('Balance class - Churn')\n",
    "print(pd.value_counts(y_smote))"
   ]
  },
  {
   "cell_type": "markdown",
   "metadata": {},
   "source": [
    "### Execute the same process with XGB without class weight but with SMOTE and standard scale\n",
    "- Recall: 85,50% and a bit small than GBM"
   ]
  },
  {
   "cell_type": "code",
   "execution_count": 13,
   "metadata": {},
   "outputs": [
    {
     "name": "stdout",
     "output_type": "stream",
     "text": [
      "Model:  XGB - scale and SMOTE \n",
      "--   Accuracy:  0.7286021505376344\n",
      "--   AUC     :  0.7684434689917389\n",
      "--   Recall  :  0.8550955414012739\n",
      "\n"
     ]
    }
   ],
   "source": [
    "## GBM smote\n",
    "model_XGB_smote = xgb.XGBClassifier(random_state=SEED)\n",
    "model_XGB_smote.fit(X_smote, y_smote)\n",
    "\n",
    "y_pred_xgb_smote = model_XGB_smote.predict(scale_testX)\n",
    "rpt_metrics_report(y_test, y_pred_xgb_smote, 'XGB - scale and SMOTE ')"
   ]
  },
  {
   "cell_type": "markdown",
   "metadata": {},
   "source": [
    "#### GBM - model evaluation - sample with hyper parameter optimization\n",
    "- Recall: 88,05% => almost 2% higher compared to default GBM parameters\n",
    "- Export gbm model for deployment - best recall metric"
   ]
  },
  {
   "cell_type": "code",
   "execution_count": 14,
   "metadata": {},
   "outputs": [
    {
     "name": "stdout",
     "output_type": "stream",
     "text": [
      "Model:  GBM - scale and SMOTE \n",
      "--   Accuracy:  0.6619354838709678\n",
      "--   AUC     :  0.7307992936204393\n",
      "--   Recall  :  0.8805732484076433\n",
      "\n",
      "Model exported\n"
     ]
    }
   ],
   "source": [
    "## tune GBM sample\n",
    "model_GBM_smote = GradientBoostingClassifier(random_state=SEED, learning_rate=0.3, n_estimators=200, max_depth=5)\n",
    "model_GBM_smote.fit(X_smote, y_smote)\n",
    "\n",
    "y_pred_gbm_smote = model_GBM_smote.predict(scale_testX)\n",
    "rpt_metrics_report(y_test, y_pred_gbm_smote, 'GBM - scale and SMOTE ')\n",
    "\n",
    "## Export model for production deployment\n",
    "file_export_model = './ML_models/model_GBM_prod_v1.sav'\n",
    "pickle.dump(model_GBM_smote, open(file_export_model, 'wb'))\n",
    "print(\"Model exported\")"
   ]
  },
  {
   "cell_type": "markdown",
   "metadata": {},
   "source": [
    "### To finalize this process let's run the class imbalance with H2O\n",
    "- Xgb in h2o framework does not have in version 3.26 the option of scale weight or balance_class\n",
    "<br> however other ML algorithms have the option to inform balance_classes=True\n",
    "- Execution of GBM and GLM (2 models as example) just to evaluate the results with balance class = True"
   ]
  },
  {
   "cell_type": "code",
   "execution_count": 15,
   "metadata": {},
   "outputs": [],
   "source": [
    "from h2o.estimators import H2OGradientBoostingEstimator, H2OGeneralizedLinearEstimator, H2ODeepLearningEstimator"
   ]
  },
  {
   "cell_type": "code",
   "execution_count": 16,
   "metadata": {},
   "outputs": [
    {
     "name": "stdout",
     "output_type": "stream",
     "text": [
      "glm Model Build progress: |███████████████████████████████████████████████| 100%\n",
      "glm prediction progress: |████████████████████████████████████████████████| 100%\n",
      "Model:  H2O - GLM - SCALE AND BALANCE CLASS\n",
      "--   Accuracy:  0.7664516129032258\n",
      "--   AUC     :  0.7672883770160155\n",
      "--   Recall  :  0.7691082802547771\n",
      "\n"
     ]
    }
   ],
   "source": [
    "## H2O SMOTE AND BALANCE\n",
    "hfeatures = features_h2o.copy()\n",
    "hfeatures.remove(target)\n",
    "glm_h2o_smote_cw = H2OGeneralizedLinearEstimator(balance_classes=True, seed=SEED, family='binomial')\n",
    "glm_h2o_smote_cw.train(\n",
    "    x = hfeatures,\n",
    "    y = target,\n",
    "    training_frame = train_h2o)\n",
    "y_pred_glm_smote = glm_h2o_smote_cw.predict(test_h2o).as_data_frame()\n",
    "y_pred_glm_h2o = y_pred_glm_smote['predict'].apply(target_1_0)\n",
    "rpt_metrics_report(y_true_test_h2o, y_pred_glm_h2o, 'H2O - GLM - SCALE AND BALANCE CLASS')"
   ]
  },
  {
   "cell_type": "code",
   "execution_count": 17,
   "metadata": {},
   "outputs": [
    {
     "name": "stdout",
     "output_type": "stream",
     "text": [
      "gbm Model Build progress: |███████████████████████████████████████████████| 100%\n",
      "gbm prediction progress: |████████████████████████████████████████████████| 100%\n",
      "Model:  H2O - GBM - SCALE AND BALANCE CLASS\n",
      "--   Accuracy:  0.7131182795698925\n",
      "--   AUC     :  0.763855004522781\n",
      "--   Recall  :  0.8742038216560509\n",
      "\n"
     ]
    }
   ],
   "source": [
    "## GBM - H2O SMOTE AND BALANCE\n",
    "gbm_h2o_smote_cw = H2OGradientBoostingEstimator(balance_classes=True, seed=SEED)\n",
    "gbm_h2o_smote_cw.train(\n",
    "    x = hfeatures,\n",
    "    y = target,\n",
    "    training_frame = train_h2o)\n",
    "y_pred_gbm_smote = gbm_h2o_smote_cw.predict(test_h2o).as_data_frame()\n",
    "y_pred_gbm_h2o = y_pred_gbm_smote['predict'].apply(target_1_0)\n",
    "rpt_metrics_report(y_true_test_h2o, y_pred_gbm_h2o, 'H2O - GBM - SCALE AND BALANCE CLASS')"
   ]
  },
  {
   "cell_type": "markdown",
   "metadata": {},
   "source": [
    "- Resume with h2o: GLM recall is 10% worse than GBM, and GBM with balance_class achieved 87,42%\n",
    "\n",
    "## Confusion matrix - compare GBM model (baseline) vs GBM  with scale and SMOTE\n",
    "- Detailed evaluation between these 2 models already exported\n",
    "\n",
    "#### The GBM model using sklearn achieved the best result\n",
    "- Recall / TPR : 88,05%"
   ]
  },
  {
   "cell_type": "code",
   "execution_count": 18,
   "metadata": {},
   "outputs": [
    {
     "name": "stdout",
     "output_type": "stream",
     "text": [
      "Model:  GBM\n",
      "--   Accuracy:  0.8\n",
      "--   AUC     :  0.7095220490261945\n",
      "--   Recall  :  0.5127388535031847\n",
      "\n",
      "--   Confusion Matrix\n",
      "0   FP\n",
      "FN  1\n",
      "\n",
      "[[1538  159]\n",
      " [ 306  322]]\n",
      "\n",
      "\n",
      "--   Metrics report\n",
      "              precision    recall  f1-score   support\n",
      "\n",
      "           0       0.83      0.91      0.87      1697\n",
      "           1       0.67      0.51      0.58       628\n",
      "\n",
      "    accuracy                           0.80      2325\n",
      "   macro avg       0.75      0.71      0.72      2325\n",
      "weighted avg       0.79      0.80      0.79      2325\n",
      "\n",
      "\n",
      "Model:  GBM - scale and SMOTE \n",
      "--   Accuracy:  0.6619354838709678\n",
      "--   AUC     :  0.7307992936204393\n",
      "--   Recall  :  0.8805732484076433\n",
      "\n",
      "--   Confusion Matrix\n",
      "0   FP\n",
      "FN  1\n",
      "\n",
      "[[986 711]\n",
      " [ 75 553]]\n",
      "\n",
      "\n",
      "--   Metrics report\n",
      "              precision    recall  f1-score   support\n",
      "\n",
      "           0       0.93      0.58      0.72      1697\n",
      "           1       0.44      0.88      0.58       628\n",
      "\n",
      "    accuracy                           0.66      2325\n",
      "   macro avg       0.68      0.73      0.65      2325\n",
      "weighted avg       0.80      0.66      0.68      2325\n",
      "\n",
      "\n"
     ]
    }
   ],
   "source": [
    "## GBM model \n",
    "\n",
    "## Baseline model v1\n",
    "file_export_model = './ML_models/model_GBM_baseline_v1.sav'\n",
    "gbm_model = pickle.load(open(file_export_model, 'rb'))\n",
    "y_pred_gbm = gbm_model.predict(X_test)\n",
    "rpt_metrics_report(y_test, y_pred_gbm, 'GBM', rpt_confusion_matrix=True)\n",
    "\n",
    "## GBM Model for production\n",
    "file_export_model = './ML_models/model_GBM_prod_v1.sav'\n",
    "gbm_model_v2 = pickle.load(open(file_export_model, 'rb'))\n",
    "y_pred_gbm_smote = gbm_model_v2.predict(scale_testX)\n",
    "rpt_metrics_report(y_test, y_pred_gbm_smote, 'GBM - scale and SMOTE ', rpt_confusion_matrix=True)\n"
   ]
  },
  {
   "cell_type": "markdown",
   "metadata": {},
   "source": [
    "## 3rd Insight and feature importance\n",
    "- The global metric accuracy drop between these 2 models, however RECALL is more important to focus on -> Customer churn\n",
    "- The recall / True Positive Rate increase from 51,27% to 88,05%\n"
   ]
  },
  {
   "cell_type": "code",
   "execution_count": 19,
   "metadata": {},
   "outputs": [
    {
     "data": {
      "image/png": "[encoded data removed]",
      "text/plain": [
       "<Figure size 432x288 with 1 Axes>"
      ]
     },
     "metadata": {
      "needs_background": "light"
     },
     "output_type": "display_data"
    }
   ],
   "source": [
    "# Plot feature importance\n",
    "feature_importances = pd.DataFrame({'features': features, \n",
    "                            'importance': gbm_model_v2.feature_importances_}).sort_values('importance', ascending=False)\n",
    "\n",
    "ax = sns.barplot(x=\"importance\", y=\"features\", data=feature_importances, palette=\"coolwarm\")"
   ]
  },
  {
   "cell_type": "markdown",
   "metadata": {},
   "source": [
    "# Summary\n",
    "\n",
    "## Top 3 main important features related to churn (Yes) are:\n",
    "- Month-to-Month contract\n",
    "- Small to Medium Tenure and associated with\n",
    "- Higher Monthly Charges\n",
    "\n",
    "\n",
    "### Final considerations\n",
    "###### The recall metric was increased in 71,73% between baseline model and the final version -  (88,05% versus 51,27%) \n",
    "- Using the right technique it is possible to build machine learning models that really help in business. The current model chosen for deployment will provide higher customer base of possible churners to interact with focus on customer retention\n",
    "<br>\n",
    "<br> In this example of the final GBM model deployed the recall metric is 88,05% and much higher than the first GBM model\n",
    "\n",
    "###### The next and final notebook will resume all information provided by previous notebooks and build the final script for deployment"
   ]
  },
  {
   "cell_type": "code",
   "execution_count": 4,
   "metadata": {},
   "outputs": [],
   "source": [
    "# !jupyter nbconvert --to html Phase_2_Build_ML_models_with_Python_5x6_evaluation_using_RECALL_metric.ipynb"
   ]
  },
  {
   "cell_type": "code",
   "execution_count": null,
   "metadata": {},
   "outputs": [],
   "source": []
  }
 ],
 "metadata": {
  "kernelspec": {
   "display_name": "Python 3",
   "language": "python",
   "name": "python3"
  },
  "language_info": {
   "codemirror_mode": {
    "name": "ipython",
    "version": 3
   },
   "file_extension": ".py",
   "mimetype": "text/x-python",
   "name": "python",
   "nbconvert_exporter": "python",
   "pygments_lexer": "ipython3",
   "version": "3.7.3"
  }
 },
 "nbformat": 4,
 "nbformat_minor": 2
}
