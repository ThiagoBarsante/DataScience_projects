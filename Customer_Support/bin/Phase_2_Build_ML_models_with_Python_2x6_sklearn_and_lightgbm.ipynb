{
 "cells": [
  {
   "cell_type": "markdown",
   "metadata": {},
   "source": [
    "# Phase 2 - Machine Learning with Sklearn and LightGBM\n",
    "\n",
    "### This notebook will complement the previous notebook (ML_models_with_Python_1x6_xgb)\n",
    "\n",
    "##### Build - 6 new ML models using the framework sklearn and LightGBM\n",
    "- Logistic regression\n",
    "- Naive Bayes\n",
    "- Random Forest\n",
    "- GBM\n",
    "- Extra Tree Classifier\n",
    "- LightGBM\n",
    "\n",
    "#### Info about model evaluation - accuracy metric vs recall\n",
    "- The global metric accuracy will be used to evaluate the models between all frameworks (xgb, lgbm, sklearn, h2o.ai and Apache Spark)\n",
    "\n",
    "#### The last notebook build ml models using python will provide some additional techniques, such as:\n",
    "- Unbalanced classification and class weight\n",
    "- Smote technique for oversampling the training dataset\n",
    "- Standard Scale vs. default data and \n",
    "- Finally, exchange the global metric accuracy and use recall metric < recall or Sensitivity or True positive rate (TPR) > \n",
    "<br> Recall metric is a better metric than accuracy to evaluate this type of scenario (customer churn)\n",
    "\n",
    "\n",
    "### Sites for additional information\n",
    "\n",
    "- sklearn: https://scikit-learn.org\n",
    "- sklearn Ensemble methods: https://scikit-learn.org/stable/modules/classes.html#module-sklearn.ensemble\n"
   ]
  },
  {
   "cell_type": "code",
   "execution_count": 2,
   "metadata": {},
   "outputs": [],
   "source": [
    "import pandas as pd\n",
    "import seaborn as sns\n",
    "import matplotlib.pyplot as plt\n",
    "\n",
    "## Remove warnings\n",
    "import warnings\n",
    "warnings.filterwarnings(\"ignore\")\n",
    "\n",
    "## Sklearn Metrics - Classification and model selection\n",
    "from sklearn.metrics import confusion_matrix, classification_report, accuracy_score\n",
    "from sklearn.model_selection import train_test_split\n",
    "\n",
    "## Machine Learning Models\n",
    "from sklearn.ensemble import RandomForestClassifier, GradientBoostingClassifier, ExtraTreesClassifier\n",
    "from sklearn.linear_model import LogisticRegression\n",
    "from sklearn.naive_bayes import GaussianNB\n",
    "import lightgbm as lgb\n",
    "\n",
    "## export model\n",
    "import pickle"
   ]
  },
  {
   "cell_type": "markdown",
   "metadata": {},
   "source": [
    "### Load dataset"
   ]
  },
  {
   "cell_type": "code",
   "execution_count": 3,
   "metadata": {},
   "outputs": [
    {
     "data": {
      "text/html": [
       "<div>\n",
       "<style scoped>\n",
       "    .dataframe tbody tr th:only-of-type {\n",
       "        vertical-align: middle;\n",
       "    }\n",
       "\n",
       "    .dataframe tbody tr th {\n",
       "        vertical-align: top;\n",
       "    }\n",
       "\n",
       "    .dataframe thead th {\n",
       "        text-align: right;\n",
       "    }\n",
       "</style>\n",
       "<table border=\"1\" class=\"dataframe\">\n",
       "  <thead>\n",
       "    <tr style=\"text-align: right;\">\n",
       "      <th></th>\n",
       "      <th>customerID</th>\n",
       "      <th>gender</th>\n",
       "      <th>SeniorCitizen</th>\n",
       "      <th>Partner</th>\n",
       "      <th>Dependents</th>\n",
       "      <th>tenure</th>\n",
       "      <th>PhoneService</th>\n",
       "      <th>MultipleLines</th>\n",
       "      <th>InternetService</th>\n",
       "      <th>OnlineSecurity</th>\n",
       "      <th>...</th>\n",
       "      <th>DeviceProtection</th>\n",
       "      <th>TechSupport</th>\n",
       "      <th>StreamingTV</th>\n",
       "      <th>StreamingMovies</th>\n",
       "      <th>Contract</th>\n",
       "      <th>PaperlessBilling</th>\n",
       "      <th>PaymentMethod</th>\n",
       "      <th>MonthlyCharges</th>\n",
       "      <th>TotalCharges</th>\n",
       "      <th>Churn</th>\n",
       "    </tr>\n",
       "  </thead>\n",
       "  <tbody>\n",
       "    <tr>\n",
       "      <th>0</th>\n",
       "      <td>7590-VHVEG</td>\n",
       "      <td>Female</td>\n",
       "      <td>0</td>\n",
       "      <td>Yes</td>\n",
       "      <td>No</td>\n",
       "      <td>1</td>\n",
       "      <td>No</td>\n",
       "      <td>No phone service</td>\n",
       "      <td>DSL</td>\n",
       "      <td>No</td>\n",
       "      <td>...</td>\n",
       "      <td>No</td>\n",
       "      <td>No</td>\n",
       "      <td>No</td>\n",
       "      <td>No</td>\n",
       "      <td>Month-to-month</td>\n",
       "      <td>Yes</td>\n",
       "      <td>Electronic check</td>\n",
       "      <td>29.85</td>\n",
       "      <td>29.85</td>\n",
       "      <td>No</td>\n",
       "    </tr>\n",
       "    <tr>\n",
       "      <th>1</th>\n",
       "      <td>5575-GNVDE</td>\n",
       "      <td>Male</td>\n",
       "      <td>0</td>\n",
       "      <td>No</td>\n",
       "      <td>No</td>\n",
       "      <td>34</td>\n",
       "      <td>Yes</td>\n",
       "      <td>No</td>\n",
       "      <td>DSL</td>\n",
       "      <td>Yes</td>\n",
       "      <td>...</td>\n",
       "      <td>Yes</td>\n",
       "      <td>No</td>\n",
       "      <td>No</td>\n",
       "      <td>No</td>\n",
       "      <td>One year</td>\n",
       "      <td>No</td>\n",
       "      <td>Mailed check</td>\n",
       "      <td>56.95</td>\n",
       "      <td>1889.5</td>\n",
       "      <td>No</td>\n",
       "    </tr>\n",
       "    <tr>\n",
       "      <th>2</th>\n",
       "      <td>3668-QPYBK</td>\n",
       "      <td>Male</td>\n",
       "      <td>0</td>\n",
       "      <td>No</td>\n",
       "      <td>No</td>\n",
       "      <td>2</td>\n",
       "      <td>Yes</td>\n",
       "      <td>No</td>\n",
       "      <td>DSL</td>\n",
       "      <td>Yes</td>\n",
       "      <td>...</td>\n",
       "      <td>No</td>\n",
       "      <td>No</td>\n",
       "      <td>No</td>\n",
       "      <td>No</td>\n",
       "      <td>Month-to-month</td>\n",
       "      <td>Yes</td>\n",
       "      <td>Mailed check</td>\n",
       "      <td>53.85</td>\n",
       "      <td>108.15</td>\n",
       "      <td>Yes</td>\n",
       "    </tr>\n",
       "    <tr>\n",
       "      <th>3</th>\n",
       "      <td>7795-CFOCW</td>\n",
       "      <td>Male</td>\n",
       "      <td>0</td>\n",
       "      <td>No</td>\n",
       "      <td>No</td>\n",
       "      <td>45</td>\n",
       "      <td>No</td>\n",
       "      <td>No phone service</td>\n",
       "      <td>DSL</td>\n",
       "      <td>Yes</td>\n",
       "      <td>...</td>\n",
       "      <td>Yes</td>\n",
       "      <td>Yes</td>\n",
       "      <td>No</td>\n",
       "      <td>No</td>\n",
       "      <td>One year</td>\n",
       "      <td>No</td>\n",
       "      <td>Bank transfer (automatic)</td>\n",
       "      <td>42.30</td>\n",
       "      <td>1840.75</td>\n",
       "      <td>No</td>\n",
       "    </tr>\n",
       "    <tr>\n",
       "      <th>4</th>\n",
       "      <td>9237-HQITU</td>\n",
       "      <td>Female</td>\n",
       "      <td>0</td>\n",
       "      <td>No</td>\n",
       "      <td>No</td>\n",
       "      <td>2</td>\n",
       "      <td>Yes</td>\n",
       "      <td>No</td>\n",
       "      <td>Fiber optic</td>\n",
       "      <td>No</td>\n",
       "      <td>...</td>\n",
       "      <td>No</td>\n",
       "      <td>No</td>\n",
       "      <td>No</td>\n",
       "      <td>No</td>\n",
       "      <td>Month-to-month</td>\n",
       "      <td>Yes</td>\n",
       "      <td>Electronic check</td>\n",
       "      <td>70.70</td>\n",
       "      <td>151.65</td>\n",
       "      <td>Yes</td>\n",
       "    </tr>\n",
       "  </tbody>\n",
       "</table>\n",
       "<p>5 rows × 21 columns</p>\n",
       "</div>"
      ],
      "text/plain": [
       "   customerID  gender  SeniorCitizen Partner Dependents  tenure PhoneService  \\\n",
       "0  7590-VHVEG  Female              0     Yes         No       1           No   \n",
       "1  5575-GNVDE    Male              0      No         No      34          Yes   \n",
       "2  3668-QPYBK    Male              0      No         No       2          Yes   \n",
       "3  7795-CFOCW    Male              0      No         No      45           No   \n",
       "4  9237-HQITU  Female              0      No         No       2          Yes   \n",
       "\n",
       "      MultipleLines InternetService OnlineSecurity  ... DeviceProtection  \\\n",
       "0  No phone service             DSL             No  ...               No   \n",
       "1                No             DSL            Yes  ...              Yes   \n",
       "2                No             DSL            Yes  ...               No   \n",
       "3  No phone service             DSL            Yes  ...              Yes   \n",
       "4                No     Fiber optic             No  ...               No   \n",
       "\n",
       "  TechSupport StreamingTV StreamingMovies        Contract PaperlessBilling  \\\n",
       "0          No          No              No  Month-to-month              Yes   \n",
       "1          No          No              No        One year               No   \n",
       "2          No          No              No  Month-to-month              Yes   \n",
       "3         Yes          No              No        One year               No   \n",
       "4          No          No              No  Month-to-month              Yes   \n",
       "\n",
       "               PaymentMethod MonthlyCharges  TotalCharges Churn  \n",
       "0           Electronic check          29.85         29.85    No  \n",
       "1               Mailed check          56.95        1889.5    No  \n",
       "2               Mailed check          53.85        108.15   Yes  \n",
       "3  Bank transfer (automatic)          42.30       1840.75    No  \n",
       "4           Electronic check          70.70        151.65   Yes  \n",
       "\n",
       "[5 rows x 21 columns]"
      ]
     },
     "execution_count": 3,
     "metadata": {},
     "output_type": "execute_result"
    }
   ],
   "source": [
    "df = pd.read_csv('../data/WA_Fn-UseC_-Telco-Customer-Churn.csv')\n",
    "df.head()"
   ]
  },
  {
   "cell_type": "code",
   "execution_count": 4,
   "metadata": {},
   "outputs": [],
   "source": [
    "## Filter columns and set values\n",
    "df.loc[(df.tenure==0) & (df.TotalCharges == ' '), ['TotalCharges', 'tenure']] = 0\n",
    "df['TotalCharges'] = df['TotalCharges'].astype('float')\n",
    "\n",
    "target = 'Churn'\n",
    "current_features = ['tenure', 'MonthlyCharges', 'TotalCharges', 'gender', 'PaymentMethod' , 'Churn', 'Contract']\n",
    "\n",
    "df = df[current_features]"
   ]
  },
  {
   "cell_type": "code",
   "execution_count": 5,
   "metadata": {},
   "outputs": [],
   "source": [
    "## BACKUP FOR EXECUTION\n",
    "df_BACKUP = df.copy()\n",
    "df = df_BACKUP"
   ]
  },
  {
   "cell_type": "code",
   "execution_count": 6,
   "metadata": {},
   "outputs": [
    {
     "data": {
      "text/html": [
       "<div>\n",
       "<style scoped>\n",
       "    .dataframe tbody tr th:only-of-type {\n",
       "        vertical-align: middle;\n",
       "    }\n",
       "\n",
       "    .dataframe tbody tr th {\n",
       "        vertical-align: top;\n",
       "    }\n",
       "\n",
       "    .dataframe thead th {\n",
       "        text-align: right;\n",
       "    }\n",
       "</style>\n",
       "<table border=\"1\" class=\"dataframe\">\n",
       "  <thead>\n",
       "    <tr style=\"text-align: right;\">\n",
       "      <th></th>\n",
       "      <th>tenure</th>\n",
       "      <th>MonthlyCharges</th>\n",
       "      <th>TotalCharges</th>\n",
       "      <th>Churn</th>\n",
       "      <th>gender_Female</th>\n",
       "      <th>gender_Male</th>\n",
       "      <th>PaymentMethod_Bank transfer (automatic)</th>\n",
       "      <th>PaymentMethod_Credit card (automatic)</th>\n",
       "      <th>PaymentMethod_Electronic check</th>\n",
       "      <th>PaymentMethod_Mailed check</th>\n",
       "      <th>Contract_Month-to-month</th>\n",
       "      <th>Contract_One year</th>\n",
       "      <th>Contract_Two year</th>\n",
       "    </tr>\n",
       "  </thead>\n",
       "  <tbody>\n",
       "    <tr>\n",
       "      <th>0</th>\n",
       "      <td>1</td>\n",
       "      <td>29.85</td>\n",
       "      <td>29.85</td>\n",
       "      <td>No</td>\n",
       "      <td>1</td>\n",
       "      <td>0</td>\n",
       "      <td>0</td>\n",
       "      <td>0</td>\n",
       "      <td>1</td>\n",
       "      <td>0</td>\n",
       "      <td>1</td>\n",
       "      <td>0</td>\n",
       "      <td>0</td>\n",
       "    </tr>\n",
       "    <tr>\n",
       "      <th>1</th>\n",
       "      <td>34</td>\n",
       "      <td>56.95</td>\n",
       "      <td>1889.50</td>\n",
       "      <td>No</td>\n",
       "      <td>0</td>\n",
       "      <td>1</td>\n",
       "      <td>0</td>\n",
       "      <td>0</td>\n",
       "      <td>0</td>\n",
       "      <td>1</td>\n",
       "      <td>0</td>\n",
       "      <td>1</td>\n",
       "      <td>0</td>\n",
       "    </tr>\n",
       "    <tr>\n",
       "      <th>2</th>\n",
       "      <td>2</td>\n",
       "      <td>53.85</td>\n",
       "      <td>108.15</td>\n",
       "      <td>Yes</td>\n",
       "      <td>0</td>\n",
       "      <td>1</td>\n",
       "      <td>0</td>\n",
       "      <td>0</td>\n",
       "      <td>0</td>\n",
       "      <td>1</td>\n",
       "      <td>1</td>\n",
       "      <td>0</td>\n",
       "      <td>0</td>\n",
       "    </tr>\n",
       "  </tbody>\n",
       "</table>\n",
       "</div>"
      ],
      "text/plain": [
       "   tenure  MonthlyCharges  TotalCharges Churn  gender_Female  gender_Male  \\\n",
       "0       1           29.85         29.85    No              1            0   \n",
       "1      34           56.95       1889.50    No              0            1   \n",
       "2       2           53.85        108.15   Yes              0            1   \n",
       "\n",
       "   PaymentMethod_Bank transfer (automatic)  \\\n",
       "0                                        0   \n",
       "1                                        0   \n",
       "2                                        0   \n",
       "\n",
       "   PaymentMethod_Credit card (automatic)  PaymentMethod_Electronic check  \\\n",
       "0                                      0                               1   \n",
       "1                                      0                               0   \n",
       "2                                      0                               0   \n",
       "\n",
       "   PaymentMethod_Mailed check  Contract_Month-to-month  Contract_One year  \\\n",
       "0                           0                        1                  0   \n",
       "1                           1                        0                  1   \n",
       "2                           1                        1                  0   \n",
       "\n",
       "   Contract_Two year  \n",
       "0                  0  \n",
       "1                  0  \n",
       "2                  0  "
      ]
     },
     "execution_count": 6,
     "metadata": {},
     "output_type": "execute_result"
    }
   ],
   "source": [
    "## Target \n",
    "target = 'Churn'\n",
    "features = df.columns.to_list()\n",
    "# features.remove(target)\n",
    "\n",
    "current_features = ['tenure', 'MonthlyCharges', 'TotalCharges', 'gender', 'PaymentMethod' , 'Churn', 'Contract']\n",
    "current_features\n",
    "\n",
    "df = df[features]\n",
    "\n",
    "## One Hot Encode for categorical features\n",
    "OHE_cols = ['gender', 'PaymentMethod' , 'Contract']\n",
    "df = pd.get_dummies(data=df, columns=OHE_cols)\n",
    "df.head(3)"
   ]
  },
  {
   "cell_type": "markdown",
   "metadata": {},
   "source": [
    "## Data preparation to run the ML models"
   ]
  },
  {
   "cell_type": "code",
   "execution_count": 7,
   "metadata": {},
   "outputs": [],
   "source": [
    "target = 'Churn'\n",
    "features = df.columns.to_list()\n",
    "features.remove(target)\n",
    "\n",
    "target_label_encode = lambda x: ['No', 'Yes'].index(x)\n",
    "df[target] = df[target].apply(target_label_encode)\n",
    "X = df[features].values\n",
    "y = df[target].values\n",
    "\n",
    "SEED = 42\n",
    "X_train, X_test, y_train, y_test = train_test_split(X, y, test_size=0.33, random_state=SEED)"
   ]
  },
  {
   "cell_type": "code",
   "execution_count": 8,
   "metadata": {},
   "outputs": [
    {
     "data": {
      "text/plain": [
       "array([0, 1], dtype=int64)"
      ]
     },
     "execution_count": 8,
     "metadata": {},
     "output_type": "execute_result"
    }
   ],
   "source": [
    "df['Churn'].unique()"
   ]
  },
  {
   "cell_type": "markdown",
   "metadata": {},
   "source": [
    "### ML - Logistic Regression \n",
    "- Accuracy : 78,96%"
   ]
  },
  {
   "cell_type": "code",
   "execution_count": 9,
   "metadata": {},
   "outputs": [
    {
     "name": "stdout",
     "output_type": "stream",
     "text": [
      "\n",
      "REPORT : Logistic Regression\n",
      "\n",
      "Accuracy score:  0.7896774193548387\n"
     ]
    }
   ],
   "source": [
    "## Logistic Regression\n",
    "model_LG = LogisticRegression(random_state=SEED)\n",
    "model_LG.fit(X_train, y_train)\n",
    "\n",
    "predict_LG = model_LG.predict(X_test)\n",
    "\n",
    "## ML score\n",
    "print('')\n",
    "print('REPORT : Logistic Regression')\n",
    "print('')\n",
    "# print_confusion_matrix(y_test, predict_LG)\n",
    "print('Accuracy score: ', accuracy_score(y_test, predict_LG))\n"
   ]
  },
  {
   "cell_type": "markdown",
   "metadata": {},
   "source": [
    "### ML - Naive Bayes\n",
    "- Accuracy 68.90%"
   ]
  },
  {
   "cell_type": "code",
   "execution_count": 10,
   "metadata": {},
   "outputs": [
    {
     "name": "stdout",
     "output_type": "stream",
     "text": [
      "\n",
      "REPORT : Naive Bayes\n",
      "\n",
      "Accuracy score:  0.6890322580645162\n"
     ]
    }
   ],
   "source": [
    "## Naive Bayes\n",
    "\n",
    "model_NB = GaussianNB()\n",
    "model_NB.fit(X_train, y_train)\n",
    "\n",
    "predict_NB = model_NB.predict(X_test)\n",
    "\n",
    "## ML score\n",
    "print('')\n",
    "print('REPORT : Naive Bayes')\n",
    "print('')\n",
    "# print_confusion_matrix(y_test, predict_NB)\n",
    "print('Accuracy score: ', accuracy_score(y_test, predict_NB))\n"
   ]
  },
  {
   "cell_type": "markdown",
   "metadata": {},
   "source": [
    "### ML - Random Forest\n",
    "- Accuracy : 77,80%"
   ]
  },
  {
   "cell_type": "code",
   "execution_count": 11,
   "metadata": {},
   "outputs": [
    {
     "name": "stdout",
     "output_type": "stream",
     "text": [
      "\n",
      "REPORT : Random Forest\n",
      "\n",
      "Accuracy score:  0.7780645161290323\n"
     ]
    }
   ],
   "source": [
    "model_RF = RandomForestClassifier(n_estimators=100, oob_score=True, random_state=SEED)\n",
    "\n",
    "model_RF.fit(X_train, y_train)\n",
    "\n",
    "## Score - Out of Bags - training\n",
    "model_RF.score(X_train, y_train)\n",
    "\n",
    "predict_RF = model_RF.predict(X_test)\n",
    "\n",
    "## ML score\n",
    "print('')\n",
    "print('REPORT : Random Forest')\n",
    "print('')\n",
    "# print_confusion_matrix(y_test, predict_RF)\n",
    "print('Accuracy score: ', accuracy_score(y_test, predict_RF))\n"
   ]
  },
  {
   "cell_type": "markdown",
   "metadata": {},
   "source": [
    "### ML - Extra Tree Classifier\n",
    "- Accuracy : 75,91%"
   ]
  },
  {
   "cell_type": "code",
   "execution_count": 12,
   "metadata": {},
   "outputs": [
    {
     "name": "stdout",
     "output_type": "stream",
     "text": [
      "\n",
      "REPORT : Extra Tree Classifier\n",
      "\n",
      "Accuracy score:  0.7591397849462366\n"
     ]
    }
   ],
   "source": [
    "model_ExT = ExtraTreesClassifier(random_state=SEED)\n",
    "model_ExT.fit(X_train, y_train)\n",
    "\n",
    "predict_ExT = model_ExT.predict(X_test)\n",
    "\n",
    "\n",
    "## ML score\n",
    "print('')\n",
    "print('REPORT : Extra Tree Classifier')\n",
    "print('')\n",
    "# print_confusion_matrix(y_test, predict_ExT)\n",
    "print('Accuracy score: ', accuracy_score(y_test, predict_ExT))\n"
   ]
  },
  {
   "cell_type": "markdown",
   "metadata": {},
   "source": [
    "### ML - LightGBM\n",
    "- Accuracy: 79,82%"
   ]
  },
  {
   "cell_type": "code",
   "execution_count": 13,
   "metadata": {},
   "outputs": [
    {
     "name": "stdout",
     "output_type": "stream",
     "text": [
      "\n",
      "Starting training...\n",
      "\n",
      "REPORT : LightGBM\n",
      "\n",
      "The Accuracy of prediction is: 0.7982795698924732\n"
     ]
    }
   ],
   "source": [
    "## LGBM\n",
    "print('')\n",
    "print('Starting training...')\n",
    "\n",
    "# train\n",
    "model_lgb = lgb.LGBMClassifier()\n",
    "model_lgb.fit(X_train, y_train)\n",
    "\n",
    "# predict\n",
    "y_pred = model_lgb.predict(X_test, num_iteration=model_lgb.best_iteration_)\n",
    "\n",
    "## ML score\n",
    "print('')\n",
    "print('REPORT : LightGBM')\n",
    "print('')\n",
    "# eval\n",
    "print('The Accuracy of prediction is:', accuracy_score(y_test, y_pred) )"
   ]
  },
  {
   "cell_type": "markdown",
   "metadata": {},
   "source": [
    "### ML - GBM\n",
    "- Accuracy : 80,0%"
   ]
  },
  {
   "cell_type": "code",
   "execution_count": 14,
   "metadata": {},
   "outputs": [
    {
     "name": "stdout",
     "output_type": "stream",
     "text": [
      "\n",
      "REPORT : GBM\n",
      "\n",
      "Accuracy score:  0.8\n"
     ]
    }
   ],
   "source": [
    "## GBM\n",
    "model_GBM = GradientBoostingClassifier(random_state=SEED)\n",
    "model_GBM.fit(X_train, y_train)\n",
    "\n",
    "## Predict\n",
    "y_predict_GBM = model_GBM.predict(X_test)\n",
    "\n",
    "## ML score\n",
    "print('')\n",
    "print('REPORT : GBM')\n",
    "print('')\n",
    "# print_confusion_matrix(y_test, predict_GBM)\n",
    "print('Accuracy score: ', accuracy_score(y_test, y_predict_GBM))"
   ]
  },
  {
   "cell_type": "markdown",
   "metadata": {},
   "source": [
    "## Evaluation report \n",
    "\n",
    "### Confusion matrix - associated with GBM model \n",
    "\n",
    "- The GBM model was the first model that achieve 80,0% of accuracy\n",
    "- Until now, GBM have the best accuracy performance\n",
    "\n",
    "Additional info - Metrics: https://scikit-learn.org/stable/modules/model_evaluation.html"
   ]
  },
  {
   "cell_type": "code",
   "execution_count": 15,
   "metadata": {},
   "outputs": [
    {
     "name": "stdout",
     "output_type": "stream",
     "text": [
      "--   Confusion Matrix\n",
      "[[1538  159]\n",
      " [ 306  322]]\n",
      "\n",
      "--   Accuracy\n",
      "0.8\n",
      "\n",
      "--   Metrics report\n",
      "              precision    recall  f1-score   support\n",
      "\n",
      "           0       0.83      0.91      0.87      1697\n",
      "           1       0.67      0.51      0.58       628\n",
      "\n",
      "    accuracy                           0.80      2325\n",
      "   macro avg       0.75      0.71      0.72      2325\n",
      "weighted avg       0.79      0.80      0.79      2325\n",
      "\n"
     ]
    }
   ],
   "source": [
    "## Function to print Confusion Matrix and metrics\n",
    "def print_confusion_matrix(y_true, y_pred):\n",
    "    \"\"\"Print metrics\"\"\"\n",
    "    report = classification_report(y_true, y_pred)\n",
    "    confusion_matrix_rpt = confusion_matrix(y_true, y_pred)\n",
    "    accuracy_score_rpt = accuracy_score(y_true, y_pred)\n",
    "    \n",
    "    print('--   Confusion Matrix')\n",
    "    print(confusion_matrix_rpt)\n",
    "    print('')\n",
    "    print('--   Accuracy')\n",
    "    print(accuracy_score_rpt)\n",
    "    print('')\n",
    "    print('--   Metrics report')\n",
    "    print(report)\n",
    "\n",
    "print_confusion_matrix(y_test, y_predict_GBM)    "
   ]
  },
  {
   "cell_type": "markdown",
   "metadata": {},
   "source": [
    "## Example how to execute all 6 machine learning models using cross-validation at once\n",
    "- GBM is again the model with better accuracy - decrease of 1,4% (from 80,0% to 78,6%) but still the better one\n",
    "- Print and plot the accuracy score at the end"
   ]
  },
  {
   "cell_type": "code",
   "execution_count": 16,
   "metadata": {},
   "outputs": [
    {
     "name": "stdout",
     "output_type": "stream",
     "text": [
      "LR: 0.788046 (0.008409)\n",
      "NB: 0.681433 (0.015555)\n",
      "RF: 0.768546 (0.006914)\n",
      "ExT: 0.758584 (0.011594)\n",
      "GBM: 0.786774 (0.012879)\n",
      "LGBM: 0.772785 (0.016203)\n"
     ]
    }
   ],
   "source": [
    "## Run all model using Cross validation, check metrics and compare again vs train test split methodology\n",
    "from sklearn.model_selection import KFold\n",
    "from sklearn.model_selection import cross_val_score\n",
    "\n",
    "models = []\n",
    "models.append(('LR', LogisticRegression()))\n",
    "models.append(('NB', GaussianNB()))\n",
    "models.append(('RF', RandomForestClassifier()))\n",
    "models.append(('ExT', ExtraTreesClassifier()))\n",
    "models.append(('GBM', GradientBoostingClassifier()))\n",
    "models.append(('LGBM', lgb.LGBMClassifier()))\n",
    "\n",
    "score_models = []\n",
    "rpt_models = []\n",
    "\n",
    "for model_name, model in models:\n",
    "    kfold = KFold(n_splits = 7, random_state = SEED)\n",
    "    cv_results = cross_val_score(model, X_train, y_train, cv = kfold, scoring = 'accuracy')\n",
    "    score_models.append(cv_results)\n",
    "    rpt_models.append(model_name)\n",
    "    msg = \"%s: %f (%f)\" % (model_name, cv_results.mean(), cv_results.std())\n",
    "    print(msg)    \n"
   ]
  },
  {
   "cell_type": "markdown",
   "metadata": {},
   "source": [
    "### Plot results: Cross-Validation"
   ]
  },
  {
   "cell_type": "code",
   "execution_count": 17,
   "metadata": {},
   "outputs": [
    {
     "data": {
      "image/png": "[encoded data removed]",
      "text/plain": [
       "<Figure size 432x288 with 1 Axes>"
      ]
     },
     "metadata": {
      "needs_background": "light"
     },
     "output_type": "display_data"
    }
   ],
   "source": [
    "# Boxplot para comparar os algoritmos\n",
    "fig = plt.figure()\n",
    "fig.suptitle('Classification ML models')\n",
    "ax = fig.add_subplot(111)\n",
    "plt.boxplot(score_models)\n",
    "ax.set_xticklabels(rpt_models)\n",
    "plt.show()"
   ]
  },
  {
   "cell_type": "markdown",
   "metadata": {},
   "source": [
    "### Export baseline model GBM\n",
    "- GBM model achieved the highest accuracy between all models.\n",
    "- Accuracy: 80% "
   ]
  },
  {
   "cell_type": "code",
   "execution_count": 18,
   "metadata": {},
   "outputs": [
    {
     "name": "stdout",
     "output_type": "stream",
     "text": [
      "Model exported\n"
     ]
    }
   ],
   "source": [
    "# Salvando o modelo\n",
    "file_export_model = './ML_models/model_GBM_baseline_v1.sav'\n",
    "pickle.dump(model_GBM, open(file_export_model, 'wb'))\n",
    "print(\"Model exported\")"
   ]
  },
  {
   "cell_type": "markdown",
   "metadata": {},
   "source": [
    "### Test import and run the prediction again"
   ]
  },
  {
   "cell_type": "code",
   "execution_count": 19,
   "metadata": {},
   "outputs": [
    {
     "name": "stdout",
     "output_type": "stream",
     "text": [
      "--   Confusion Matrix\n",
      "[[1538  159]\n",
      " [ 306  322]]\n",
      "\n",
      "--   Accuracy\n",
      "0.8\n",
      "\n",
      "--   Metrics report\n",
      "              precision    recall  f1-score   support\n",
      "\n",
      "           0       0.83      0.91      0.87      1697\n",
      "           1       0.67      0.51      0.58       628\n",
      "\n",
      "    accuracy                           0.80      2325\n",
      "   macro avg       0.75      0.71      0.72      2325\n",
      "weighted avg       0.79      0.80      0.79      2325\n",
      "\n"
     ]
    }
   ],
   "source": [
    "GBM_model = pickle.load(open(file_export_model, 'rb'))\n",
    "print_confusion_matrix(y_test, GBM_model.predict(X_test))"
   ]
  },
  {
   "cell_type": "markdown",
   "metadata": {},
   "source": [
    "### Plot Feature importance - GBM\n",
    "\n",
    "#### The 3 most important features, characteristics that influence customer churn are:\n",
    "- Contract_Month-to_Month\n",
    "- MonthlyCharges and\n",
    "- tenure"
   ]
  },
  {
   "cell_type": "code",
   "execution_count": 20,
   "metadata": {},
   "outputs": [
    {
     "data": {
      "image/png": "[encoded data removed]",
      "text/plain": [
       "<Figure size 432x288 with 1 Axes>"
      ]
     },
     "metadata": {
      "needs_background": "light"
     },
     "output_type": "display_data"
    }
   ],
   "source": [
    "# Plot feature importance\n",
    "feature_importances = pd.DataFrame({'features': features, \n",
    "                            'importance': model_GBM.feature_importances_}).sort_values('importance', ascending=False)\n",
    "\n",
    "ax = sns.barplot(x=\"importance\", y=\"features\", data=feature_importances, palette=\"coolwarm\")"
   ]
  },
  {
   "cell_type": "markdown",
   "metadata": {},
   "source": [
    "# Summary\n",
    "\n",
    "### The top 3 most important features related to Churn (Yes) are:\n",
    "- Month-to-Month contract\n",
    "- Monthly Charges\n",
    "- and tenure\n",
    "\n",
    "### Let´s move on with ML model built using H2O.ai framework"
   ]
  },
  {
   "cell_type": "code",
   "execution_count": 23,
   "metadata": {},
   "outputs": [],
   "source": [
    "# !jupyter nbconvert --to html Phase_2_Build_ML_models_with_Python_2x6_sklearn_and_lightgbm.ipynb"
   ]
  },
  {
   "cell_type": "code",
   "execution_count": null,
   "metadata": {},
   "outputs": [],
   "source": []
  }
 ],
 "metadata": {
  "kernelspec": {
   "display_name": "Python 3",
   "language": "python",
   "name": "python3"
  },
  "language_info": {
   "codemirror_mode": {
    "name": "ipython",
    "version": 3
   },
   "file_extension": ".py",
   "mimetype": "text/x-python",
   "name": "python",
   "nbconvert_exporter": "python",
   "pygments_lexer": "ipython3",
   "version": "3.7.3"
  }
 },
 "nbformat": 4,
 "nbformat_minor": 2
}
