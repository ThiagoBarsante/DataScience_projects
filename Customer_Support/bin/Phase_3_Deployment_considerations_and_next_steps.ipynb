{
 "cells": [
  {
   "cell_type": "markdown",
   "metadata": {},
   "source": [
    "# Phase 3 - Deployment considerations and next steps\n",
    "- Detailed information in previous notebooks with one quick resume below\n",
    "\n",
    "### Resume\n",
    "- 23 machine learning models were built to identify the best one for deployment\n",
    "- The GBM model deployed achieved 88,05% of metric recall, and is much higher than the first GBM model (increase 71%)\n",
    "- Focus on recall metric is really important because an action plan could be triggered to more customers that likely to churn and will provide higher customer base of possible churners to interact with focus on customer retention\n",
    "\n",
    "## Top 3 main important features related to churn (Yes) are:\n",
    "- Month-to-Month contract\n",
    "- Small to Medium Tenure and associated with\n",
    "- Higher Monthly Charges\n",
    "\n",
    "#### Using the right technique it is possible to build machine learning models that really help in business, so move on to the deployment options\n",
    "\n",
    "\n",
    "# Deployment options\n",
    "\n",
    "The deployment of the solution could be done in many ways, such as\n",
    "\n",
    "- Apply the model to a new customer base, identify possible churners and start one marketing campaign to suggest other contract options for the customer\n",
    "\n",
    "\n",
    "- Integrate the machine learning model with the CRM and Call Center systems for a better interaction with the customer when the next call of these possible churners occurs. \n",
    "\n",
    "\n",
    "- 3rd option could be an application to provide small discounts for specific services and integrated with billing systems to try to maintain customer loyalty\n",
    "\n",
    "\n",
    "- And of course, setup one major project to implement all actions above and so on...\n",
    "\n",
    "### The process improvement to tackle here is basically decrease the numbers of customers churn\n",
    "The chart below shows 2 main important information to follow\n",
    "- Decrease the orange area (revenue associated with customer churners) and \n",
    "- Increase the blue area (revenue related to current customers)"
   ]
  },
  {
   "cell_type": "code",
   "execution_count": 2,
   "metadata": {},
   "outputs": [
    {
     "data": {
      "image/png": "[encoded data removed]",
      "text/plain": [
       "plot without title"
      ]
     },
     "metadata": {},
     "output_type": "display_data"
    }
   ],
   "source": [
    "library(tidyverse)\n",
    "df <- data.table::fread('../data/WA_Fn-UseC_-Telco-Customer-Churn.csv')\n",
    "df <- as_tibble(df)\n",
    "\n",
    "options(repr.plot.width = 8, repr.plot.height = 3)\n",
    "## Exclude Customer_ID and apply 0 to Total Charges -> First Bill\n",
    "df[is.na(df$TotalCharges) & df$tenure==0 , ]['TotalCharges'] <- 0\n",
    "# df$customerID <- NULL\n",
    "\n",
    "color_manual <- c('#2a39ff', '#ff8b24')\n",
    "\n",
    "df %>% filter(Contract=='Month-to-month') %>%   \n",
    "  group_by(Churn, tenure, Contract) %>% \n",
    "  summarise( MonthlyCharges=sum(MonthlyCharges), \n",
    "             TotalCharges=sum(TotalCharges))  %>% \n",
    "  qplot(data=. ,x=tenure, y=TotalCharges, \n",
    "        geom='area', fill=(Churn),\n",
    "        main='    Contract type: Month-to-month') + scale_fill_manual(values=color_manual)\n"
   ]
  },
  {
   "cell_type": "markdown",
   "metadata": {},
   "source": [
    "## Technical information - Batch process vs Online prediction\n",
    "- The final solution could be executed as a batch process - already presented\n",
    "- Another alternative can be the execution of online predictions. Concepts explained below:\n",
    "<br> &emsp; With few adjustments in the python script provided, the prediction can be executed using Micro services architecture\n",
    "<br> &emsp; &emsp; Example 1: AWS cloud provider: Use of Server less architecture such as AWS Lambda + API Gateway to run the predictions\n",
    "<br> &emsp; &emsp; Example 2: On-Premise solution integrated with Docker\n",
    "<br> &emsp; This slim docker image https://hub.docker.com/r/brincom/py_jdk8_uwsgi already have python/flask and uswsgi installed to run this type of solution\n",
    "\n",
    "\n",
    "# Summary and final comments\n",
    "\n",
    "- These 3 phases could be deployed in just one big document\n",
    "- For better understanding all steps involved in the project were split with one notebook related to specific task\n",
    "- Common data science projects follow this pipeline"
   ]
  },
  {
   "cell_type": "code",
   "execution_count": null,
   "metadata": {},
   "outputs": [],
   "source": []
  }
 ],
 "metadata": {
  "kernelspec": {
   "display_name": "R",
   "language": "R",
   "name": "ir"
  },
  "language_info": {
   "codemirror_mode": "r",
   "file_extension": ".r",
   "mimetype": "text/x-r-source",
   "name": "R",
   "pygments_lexer": "r",
   "version": "3.6.1"
  }
 },
 "nbformat": 4,
 "nbformat_minor": 2
}
