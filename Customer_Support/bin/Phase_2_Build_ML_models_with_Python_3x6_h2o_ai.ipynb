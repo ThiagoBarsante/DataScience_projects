{
 "cells": [
  {
   "cell_type": "markdown",
   "metadata": {},
   "source": [
    "# Phase 2 - Machine Learning with H2O.ai\n",
    "\n",
    "##### Build - 4 new ML models using H2O.ai framework\n",
    "- GLM - Generalized Linear Model\n",
    "- Random Forest\n",
    "- GBM\n",
    "- XGBoost\n",
    "\n",
    "## Recap\n",
    "#### Info about model evaluation - accuracy metric vs recall\n",
    "- The global metric accuracy will be used to evaluate the models between all frameworks (xgb, lgbm, sklearn, h2o.ai and Apache Spark)\n",
    "\n",
    "#### The last notebook build ml models using python will provide some additional techniques, such as:\n",
    "- Unbalanced classification and class weight\n",
    "- Smote technique for oversampling the training dataset\n",
    "- Standard Scale vs. default data and \n",
    "- Finally, exchange the global metric accuracy and use recall metric < recall or Sensitivity or True positive rate (TPR) > \n",
    "<br> Recall metric is a better metric than accuracy to evaluate this type of scenario (customer churn)\n",
    "\n",
    "##### Additional info: http://docs.h2o.ai/h2o/latest-stable/h2o-docs/performance-and-prediction.html\n",
    "\n",
    "#### Starting process..."
   ]
  },
  {
   "cell_type": "code",
   "execution_count": 2,
   "metadata": {},
   "outputs": [],
   "source": [
    "import pandas as pd\n",
    "import seaborn as sns\n",
    "\n",
    "from sklearn.model_selection import train_test_split\n",
    "\n",
    "## Metrics - Classification\n",
    "from sklearn.metrics import confusion_matrix, classification_report, accuracy_score\n",
    "\n",
    "## H2O\n",
    "import h2o\n",
    "\n",
    "## ML Models\n",
    "from h2o.estimators import (H2OGeneralizedLinearEstimator, H2OGradientBoostingEstimator, \n",
    "                            H2ORandomForestEstimator, H2OXGBoostEstimator)\n"
   ]
  },
  {
   "cell_type": "markdown",
   "metadata": {},
   "source": [
    "### H2O - connection to h2o cluster"
   ]
  },
  {
   "cell_type": "code",
   "execution_count": 3,
   "metadata": {},
   "outputs": [
    {
     "name": "stdout",
     "output_type": "stream",
     "text": [
      "Connecting to H2O server at http://192.168.56.102:54321 ... successful.\n"
     ]
    },
    {
     "data": {
      "text/html": [
       "<div style=\"overflow:auto\"><table style=\"width:50%\"><tr><td>H2O cluster uptime:</td>\n",
       "<td>1 hour 22 mins</td></tr>\n",
       "<tr><td>H2O cluster timezone:</td>\n",
       "<td>America/Sao_Paulo</td></tr>\n",
       "<tr><td>H2O data parsing timezone:</td>\n",
       "<td>UTC</td></tr>\n",
       "<tr><td>H2O cluster version:</td>\n",
       "<td>3.26.0.3</td></tr>\n",
       "<tr><td>H2O cluster version age:</td>\n",
       "<td>7 months and 22 days !!!</td></tr>\n",
       "<tr><td>H2O cluster name:</td>\n",
       "<td>userds1</td></tr>\n",
       "<tr><td>H2O cluster total nodes:</td>\n",
       "<td>1</td></tr>\n",
       "<tr><td>H2O cluster free memory:</td>\n",
       "<td>5.746 Gb</td></tr>\n",
       "<tr><td>H2O cluster total cores:</td>\n",
       "<td>1</td></tr>\n",
       "<tr><td>H2O cluster allowed cores:</td>\n",
       "<td>1</td></tr>\n",
       "<tr><td>H2O cluster status:</td>\n",
       "<td>locked, healthy</td></tr>\n",
       "<tr><td>H2O connection url:</td>\n",
       "<td>http://192.168.56.102:54321</td></tr>\n",
       "<tr><td>H2O connection proxy:</td>\n",
       "<td>None</td></tr>\n",
       "<tr><td>H2O internal security:</td>\n",
       "<td>False</td></tr>\n",
       "<tr><td>H2O API Extensions:</td>\n",
       "<td>Amazon S3, XGBoost, Algos, AutoML, Core V3, Core V4</td></tr>\n",
       "<tr><td>Python version:</td>\n",
       "<td>3.7.3 final</td></tr></table></div>"
      ],
      "text/plain": [
       "--------------------------  ---------------------------------------------------\n",
       "H2O cluster uptime:         1 hour 22 mins\n",
       "H2O cluster timezone:       America/Sao_Paulo\n",
       "H2O data parsing timezone:  UTC\n",
       "H2O cluster version:        3.26.0.3\n",
       "H2O cluster version age:    7 months and 22 days !!!\n",
       "H2O cluster name:           userds1\n",
       "H2O cluster total nodes:    1\n",
       "H2O cluster free memory:    5.746 Gb\n",
       "H2O cluster total cores:    1\n",
       "H2O cluster allowed cores:  1\n",
       "H2O cluster status:         locked, healthy\n",
       "H2O connection url:         http://192.168.56.102:54321\n",
       "H2O connection proxy:\n",
       "H2O internal security:      False\n",
       "H2O API Extensions:         Amazon S3, XGBoost, Algos, AutoML, Core V3, Core V4\n",
       "Python version:             3.7.3 final\n",
       "--------------------------  ---------------------------------------------------"
      ]
     },
     "metadata": {},
     "output_type": "display_data"
    }
   ],
   "source": [
    "## connect to h2o cluster and remove all object\n",
    "h2o.connect(ip='192.168.56.102')\n",
    "h2o.remove_all()"
   ]
  },
  {
   "cell_type": "markdown",
   "metadata": {},
   "source": [
    "### Load and prepare the dataset to build ML models"
   ]
  },
  {
   "cell_type": "code",
   "execution_count": 4,
   "metadata": {},
   "outputs": [
    {
     "data": {
      "text/html": [
       "<div>\n",
       "<style scoped>\n",
       "    .dataframe tbody tr th:only-of-type {\n",
       "        vertical-align: middle;\n",
       "    }\n",
       "\n",
       "    .dataframe tbody tr th {\n",
       "        vertical-align: top;\n",
       "    }\n",
       "\n",
       "    .dataframe thead th {\n",
       "        text-align: right;\n",
       "    }\n",
       "</style>\n",
       "<table border=\"1\" class=\"dataframe\">\n",
       "  <thead>\n",
       "    <tr style=\"text-align: right;\">\n",
       "      <th></th>\n",
       "      <th>tenure</th>\n",
       "      <th>MonthlyCharges</th>\n",
       "      <th>TotalCharges</th>\n",
       "      <th>gender</th>\n",
       "      <th>PaymentMethod</th>\n",
       "      <th>Churn</th>\n",
       "      <th>Contract</th>\n",
       "    </tr>\n",
       "  </thead>\n",
       "  <tbody>\n",
       "    <tr>\n",
       "      <th>0</th>\n",
       "      <td>1</td>\n",
       "      <td>29.85</td>\n",
       "      <td>29.85</td>\n",
       "      <td>Female</td>\n",
       "      <td>Electronic check</td>\n",
       "      <td>No</td>\n",
       "      <td>Month-to-month</td>\n",
       "    </tr>\n",
       "    <tr>\n",
       "      <th>1</th>\n",
       "      <td>34</td>\n",
       "      <td>56.95</td>\n",
       "      <td>1889.50</td>\n",
       "      <td>Male</td>\n",
       "      <td>Mailed check</td>\n",
       "      <td>No</td>\n",
       "      <td>One year</td>\n",
       "    </tr>\n",
       "    <tr>\n",
       "      <th>2</th>\n",
       "      <td>2</td>\n",
       "      <td>53.85</td>\n",
       "      <td>108.15</td>\n",
       "      <td>Male</td>\n",
       "      <td>Mailed check</td>\n",
       "      <td>Yes</td>\n",
       "      <td>Month-to-month</td>\n",
       "    </tr>\n",
       "  </tbody>\n",
       "</table>\n",
       "</div>"
      ],
      "text/plain": [
       "   tenure  MonthlyCharges  TotalCharges  gender     PaymentMethod Churn  \\\n",
       "0       1           29.85         29.85  Female  Electronic check    No   \n",
       "1      34           56.95       1889.50    Male      Mailed check    No   \n",
       "2       2           53.85        108.15    Male      Mailed check   Yes   \n",
       "\n",
       "         Contract  \n",
       "0  Month-to-month  \n",
       "1        One year  \n",
       "2  Month-to-month  "
      ]
     },
     "execution_count": 4,
     "metadata": {},
     "output_type": "execute_result"
    }
   ],
   "source": [
    "## Load dataset\n",
    "df = pd.read_csv('../data/WA_Fn-UseC_-Telco-Customer-Churn.csv')\n",
    "\n",
    "## Filter columns and set values\n",
    "df.loc[(df.tenure==0) & (df.TotalCharges == ' '), ['TotalCharges', 'tenure']] = 0\n",
    "df['TotalCharges'] = df['TotalCharges'].astype('float')\n",
    "\n",
    "target = 'Churn'\n",
    "current_features = ['tenure', 'MonthlyCharges', 'TotalCharges', 'gender', 'PaymentMethod' , 'Churn', 'Contract']\n",
    "\n",
    "df = df[current_features]\n",
    "df.head(3)\n"
   ]
  },
  {
   "cell_type": "markdown",
   "metadata": {},
   "source": [
    "#### Load dataset into H2O cluster"
   ]
  },
  {
   "cell_type": "code",
   "execution_count": 5,
   "metadata": {},
   "outputs": [
    {
     "name": "stdout",
     "output_type": "stream",
     "text": [
      "Parse progress: |█████████████████████████████████████████████████████████| 100%\n",
      "Parse progress: |█████████████████████████████████████████████████████████| 100%\n"
     ]
    }
   ],
   "source": [
    "target = 'Churn'\n",
    "features = df.columns.to_list()\n",
    "features.remove(target)\n",
    "\n",
    "X = df[features]\n",
    "y = df[target]\n",
    "\n",
    "SEED = 42\n",
    "X_train, X_test, y_train, y_test = train_test_split(X, y, test_size=0.33, random_state=SEED)\n",
    "\n",
    "## Label Encode - will be used later to evaluate model performance\n",
    "target_1_0 = lambda x: ['No', 'Yes'].index(x)\n",
    "y_true_test = y_test.apply(target_1_0).values\n",
    "\n",
    "train_X = X_train.copy()\n",
    "train_X[target] = y_train\n",
    "\n",
    "test_X = X_test.copy()\n",
    "test_X[target] = y_test\n",
    "\n",
    "## Convert to h2o Frame\n",
    "train_h2o = h2o.H2OFrame(train_X, destination_frame='train.hex')\n",
    "test_h2o = h2o.H2OFrame(test_X, destination_frame='test.hex')"
   ]
  },
  {
   "cell_type": "markdown",
   "metadata": {},
   "source": [
    "## H2O - Build Machine Learning Models\n",
    "\n",
    "#### H2O - RANDOM FOREST\n",
    "- Accuracy: 71,78%"
   ]
  },
  {
   "cell_type": "code",
   "execution_count": 6,
   "metadata": {},
   "outputs": [
    {
     "name": "stdout",
     "output_type": "stream",
     "text": [
      "drf Model Build progress: |███████████████████████████████████████████████| 100%\n",
      "drf prediction progress: |████████████████████████████████████████████████| 100%\n",
      "Random Forest\n",
      "Accuracy score:  0.7178494623655914\n"
     ]
    }
   ],
   "source": [
    "## Random Forest\n",
    "model_rf = H2ORandomForestEstimator(seed = SEED)\n",
    "model_rf.train(\n",
    "    x = features,\n",
    "    y = target,\n",
    "    training_frame = train_h2o,\n",
    "    model_id = 'fit_rf.model'\n",
    ")\n",
    "ypred_RF_df = model_rf.predict(test_h2o).as_data_frame()\n",
    "# model_rf.model_performance()\n",
    "\n",
    "print('Random Forest')\n",
    "y_pred_RF = ypred_RF_df['predict'].apply(target_1_0).values\n",
    "\n",
    "# print_confusion_matrix(y_true, y_pred)\n",
    "print('Accuracy score: ', accuracy_score(y_true_test, y_pred_RF))"
   ]
  },
  {
   "cell_type": "markdown",
   "metadata": {},
   "source": [
    "#### H2O GBM \n",
    "- Accuracy: 77,07%"
   ]
  },
  {
   "cell_type": "code",
   "execution_count": 7,
   "metadata": {},
   "outputs": [
    {
     "name": "stdout",
     "output_type": "stream",
     "text": [
      "gbm Model Build progress: |███████████████████████████████████████████████| 100%\n",
      "gbm prediction progress: |████████████████████████████████████████████████| 100%\n",
      "GBM\n",
      "Accuracy score:  0.770752688172043\n"
     ]
    }
   ],
   "source": [
    "model_gbm = H2OGradientBoostingEstimator(seed = SEED)\n",
    "model_gbm.train(\n",
    "    x = features,\n",
    "    y = target,\n",
    "    training_frame = train_h2o,\n",
    "    model_id = 'fit_gbm.model'\n",
    ")\n",
    "# model_gbm.model_performance()\n",
    "\n",
    "ypred_GBM_df = model_gbm.predict(test_h2o).as_data_frame()\n",
    "y_pred = ypred_GBM_df['predict'].copy().apply(target_1_0).values\n",
    "\n",
    "\n",
    "print('GBM')\n",
    "# print_confusion_matrix(y_true, y_pred)\n",
    "print('Accuracy score: ', accuracy_score(y_true_test, y_pred))"
   ]
  },
  {
   "cell_type": "markdown",
   "metadata": {},
   "source": [
    "#### H2O - GLM (generalized linear model)\n",
    "- Accuracy: 76,64%"
   ]
  },
  {
   "cell_type": "code",
   "execution_count": 8,
   "metadata": {},
   "outputs": [
    {
     "name": "stdout",
     "output_type": "stream",
     "text": [
      "glm Model Build progress: |███████████████████████████████████████████████| 100%\n",
      "glm prediction progress: |████████████████████████████████████████████████| 100%\n",
      "GLM\n",
      "Accuracy score:  0.7664516129032258\n"
     ]
    }
   ],
   "source": [
    "model_glm = H2OGeneralizedLinearEstimator(seed = SEED, family='binomial')\n",
    "model_glm.train(\n",
    "    x = features,\n",
    "    y = target,\n",
    "    training_frame = train_h2o,\n",
    "    model_id = 'fit_glm.model'\n",
    ")\n",
    "# model_glm.model_performance()\n",
    "ypred_GLM_df = model_glm.predict(test_h2o).as_data_frame()\n",
    "y_pred = ypred_GLM_df['predict'].copy().apply(target_1_0).values\n",
    "\n",
    "print('GLM')\n",
    "# print_confusion_matrix(y_true, y_pred)\n",
    "print('Accuracy score: ', accuracy_score(y_true_test, y_pred))\n"
   ]
  },
  {
   "cell_type": "markdown",
   "metadata": {},
   "source": [
    "#### H2O - XGB\n",
    "- Accuracy: 79,18%"
   ]
  },
  {
   "cell_type": "code",
   "execution_count": 9,
   "metadata": {},
   "outputs": [
    {
     "name": "stdout",
     "output_type": "stream",
     "text": [
      "xgboost Model Build progress: |███████████████████████████████████████████| 100%\n",
      "xgboost prediction progress: |████████████████████████████████████████████| 100%\n",
      "XGB\n",
      "Accuracy score:  0.7918279569892474\n"
     ]
    }
   ],
   "source": [
    "model_xgb = H2OXGBoostEstimator(seed = SEED)\n",
    "model_xgb.train(\n",
    "    x = features,\n",
    "    y = target,\n",
    "    training_frame = train_h2o,\n",
    "    model_id = 'fit_xgb.model'\n",
    ")\n",
    "# model_xgb.model_performance()\n",
    "ypred_XGB_df = model_xgb.predict(test_h2o).as_data_frame()\n",
    "y_pred = ypred_XGB_df['predict'].copy().apply(target_1_0).values\n",
    "\n",
    "print('XGB')\n",
    "# print_confusion_matrix(y_true, y_pred)\n",
    "print('Accuracy score: ', accuracy_score(y_true_test, y_pred))\n"
   ]
  },
  {
   "cell_type": "markdown",
   "metadata": {},
   "source": [
    "### Export model\n",
    "- H2O xgb have the highest accuracy score"
   ]
  },
  {
   "cell_type": "code",
   "execution_count": 10,
   "metadata": {},
   "outputs": [
    {
     "name": "stdout",
     "output_type": "stream",
     "text": [
      "Export done!\n"
     ]
    }
   ],
   "source": [
    "## H2O export model\n",
    "export_model_path = h2o.save_model(model=model_xgb, path=\"./ML_models/model_xgb_v1/\", force=True)\n",
    "print('Export done!')"
   ]
  },
  {
   "cell_type": "markdown",
   "metadata": {},
   "source": [
    "### Load the model and run prediction again to test the results"
   ]
  },
  {
   "cell_type": "code",
   "execution_count": 11,
   "metadata": {},
   "outputs": [
    {
     "name": "stdout",
     "output_type": "stream",
     "text": [
      "xgboost prediction progress: |████████████████████████████████████████████| 100%\n",
      "XGB\n",
      "Accuracy score:  0.7918279569892474\n"
     ]
    }
   ],
   "source": [
    "h2o_model_xgb = h2o.load_model(export_model_path)\n",
    "\n",
    "# model_xgb.model_performance()\n",
    "ypred_XGB_df = h2o_model_xgb.predict(test_h2o).as_data_frame()\n",
    "y_pred = ypred_XGB_df['predict'].copy().apply(target_1_0).values\n",
    "\n",
    "print('XGB')\n",
    "# print_confusion_matrix(y_true, y_pred)\n",
    "print('Accuracy score: ', accuracy_score(y_true_test, y_pred))"
   ]
  },
  {
   "cell_type": "markdown",
   "metadata": {},
   "source": [
    "### Evaluation report\n",
    "#### Confusion matrix - associated with XGB\n",
    "- Accuracy: 79,18%"
   ]
  },
  {
   "cell_type": "markdown",
   "metadata": {},
   "source": [
    "### Plot Feature importance - H2O - xgb"
   ]
  },
  {
   "cell_type": "code",
   "execution_count": 13,
   "metadata": {},
   "outputs": [
    {
     "data": {
      "image/png": "[encoded data removed]",
      "text/plain": [
       "<Figure size 1008x720 with 1 Axes>"
      ]
     },
     "metadata": {
      "needs_background": "light"
     },
     "output_type": "display_data"
    }
   ],
   "source": [
    "model_xgb.varimp_plot()"
   ]
  },
  {
   "cell_type": "markdown",
   "metadata": {},
   "source": [
    "## Summary with h2o\n",
    "- The xgb achieved the best accuracy and was exported to be used later\n",
    "\n",
    "#### The most important features, characteristics that influence customer churn are:\n",
    "- Contract_Month-to_Month\n",
    "- MonthlyCharges\n",
    "- TotalCharges and\n",
    "- tenure\n",
    "\n",
    "### Let´s move on with ML model built using Apache Spark framework in the next notebook"
   ]
  },
  {
   "cell_type": "code",
   "execution_count": 16,
   "metadata": {},
   "outputs": [],
   "source": [
    "# !jupyter nbconvert --to html Phase_2_Build_ML_models_with_Python_3x6_h2o_ai.ipynb"
   ]
  },
  {
   "cell_type": "code",
   "execution_count": null,
   "metadata": {},
   "outputs": [],
   "source": []
  }
 ],
 "metadata": {
  "kernelspec": {
   "display_name": "Python 3",
   "language": "python",
   "name": "python3"
  },
  "language_info": {
   "codemirror_mode": {
    "name": "ipython",
    "version": 3
   },
   "file_extension": ".py",
   "mimetype": "text/x-python",
   "name": "python",
   "nbconvert_exporter": "python",
   "pygments_lexer": "ipython3",
   "version": "3.7.3"
  }
 },
 "nbformat": 4,
 "nbformat_minor": 2
}
