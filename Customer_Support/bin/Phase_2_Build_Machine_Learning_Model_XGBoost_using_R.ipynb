{
 "cells": [
  {
   "cell_type": "markdown",
   "metadata": {},
   "source": [
    "# Phase 2\n",
    "\n",
    "- More information - Phase 0 (Business Requirement) and Phase 1 (EDA using Python)\n",
    "\n",
    "#### Exploratory Data Analysis (EDA) - customer support  +\n",
    "\n",
    "#### Deep investigation to identify why and which characteristics led the customers to churn\n",
    "\n"
   ]
  },
  {
   "cell_type": "markdown",
   "metadata": {},
   "source": [
    "#### Dataset\n",
    "the dataset used in this process can be accessed trought IBM website below\n",
    "\n",
    "https://www.ibm.com/communities/analytics/watson-analytics-blog/guide-to-sample-datasets/\n"
   ]
  },
  {
   "cell_type": "code",
   "execution_count": 1,
   "metadata": {},
   "outputs": [
    {
     "name": "stderr",
     "output_type": "stream",
     "text": [
      "-- Attaching packages --------------------------------------- tidyverse 1.2.1 --\n",
      "v ggplot2 3.0.0     v purrr   0.2.5\n",
      "v tibble  1.4.2     v dplyr   0.7.6\n",
      "v tidyr   0.8.1     v stringr 1.3.1\n",
      "v readr   1.1.1     v forcats 0.3.0\n",
      "-- Conflicts ------------------------------------------ tidyverse_conflicts() --\n",
      "x dplyr::filter() masks stats::filter()\n",
      "x dplyr::lag()    masks stats::lag()\n",
      "Loading required package: lattice\n",
      "\n",
      "Attaching package: 'caret'\n",
      "\n",
      "The following object is masked from 'package:purrr':\n",
      "\n",
      "    lift\n",
      "\n",
      "\n",
      "Attaching package: 'xgboost'\n",
      "\n",
      "The following object is masked from 'package:dplyr':\n",
      "\n",
      "    slice\n",
      "\n"
     ]
    }
   ],
   "source": [
    "## Load libraries used in the process\n",
    "library(tidyverse)\n",
    "library(caret)\n",
    "library(xgboost)"
   ]
  },
  {
   "cell_type": "code",
   "execution_count": 2,
   "metadata": {},
   "outputs": [
    {
     "name": "stderr",
     "output_type": "stream",
     "text": [
      "Parsed with column specification:\n",
      "cols(\n",
      "  .default = col_character(),\n",
      "  SeniorCitizen = col_integer(),\n",
      "  tenure = col_integer(),\n",
      "  MonthlyCharges = col_double(),\n",
      "  TotalCharges = col_double()\n",
      ")\n",
      "See spec(...) for full column specifications.\n"
     ]
    },
    {
     "data": {
      "text/html": [
       "<table>\n",
       "<thead><tr><th scope=col>customerID</th><th scope=col>gender</th><th scope=col>SeniorCitizen</th><th scope=col>Partner</th><th scope=col>Dependents</th><th scope=col>tenure</th><th scope=col>PhoneService</th><th scope=col>MultipleLines</th><th scope=col>InternetService</th><th scope=col>OnlineSecurity</th><th scope=col>...</th><th scope=col>DeviceProtection</th><th scope=col>TechSupport</th><th scope=col>StreamingTV</th><th scope=col>StreamingMovies</th><th scope=col>Contract</th><th scope=col>PaperlessBilling</th><th scope=col>PaymentMethod</th><th scope=col>MonthlyCharges</th><th scope=col>TotalCharges</th><th scope=col>Churn</th></tr></thead>\n",
       "<tbody>\n",
       "\t<tr><td>7590-VHVEG               </td><td>Female                   </td><td>0                        </td><td>Yes                      </td><td>No                       </td><td> 1                       </td><td>No                       </td><td>No phone service         </td><td>DSL                      </td><td>No                       </td><td>...                      </td><td>No                       </td><td>No                       </td><td>No                       </td><td>No                       </td><td>Month-to-month           </td><td>Yes                      </td><td>Electronic check         </td><td>29.85                    </td><td>  29.85                  </td><td>No                       </td></tr>\n",
       "\t<tr><td>5575-GNVDE               </td><td>Male                     </td><td>0                        </td><td>No                       </td><td>No                       </td><td>34                       </td><td>Yes                      </td><td>No                       </td><td>DSL                      </td><td>Yes                      </td><td>...                      </td><td>Yes                      </td><td>No                       </td><td>No                       </td><td>No                       </td><td>One year                 </td><td>No                       </td><td>Mailed check             </td><td>56.95                    </td><td>1889.50                  </td><td>No                       </td></tr>\n",
       "\t<tr><td>3668-QPYBK               </td><td>Male                     </td><td>0                        </td><td>No                       </td><td>No                       </td><td> 2                       </td><td>Yes                      </td><td>No                       </td><td>DSL                      </td><td>Yes                      </td><td>...                      </td><td>No                       </td><td>No                       </td><td>No                       </td><td>No                       </td><td>Month-to-month           </td><td>Yes                      </td><td>Mailed check             </td><td>53.85                    </td><td> 108.15                  </td><td>Yes                      </td></tr>\n",
       "\t<tr><td>7795-CFOCW               </td><td>Male                     </td><td>0                        </td><td>No                       </td><td>No                       </td><td>45                       </td><td>No                       </td><td>No phone service         </td><td>DSL                      </td><td>Yes                      </td><td>...                      </td><td>Yes                      </td><td>Yes                      </td><td>No                       </td><td>No                       </td><td>One year                 </td><td>No                       </td><td>Bank transfer (automatic)</td><td>42.30                    </td><td>1840.75                  </td><td>No                       </td></tr>\n",
       "\t<tr><td>9237-HQITU               </td><td>Female                   </td><td>0                        </td><td>No                       </td><td>No                       </td><td> 2                       </td><td>Yes                      </td><td>No                       </td><td>Fiber optic              </td><td>No                       </td><td>...                      </td><td>No                       </td><td>No                       </td><td>No                       </td><td>No                       </td><td>Month-to-month           </td><td>Yes                      </td><td>Electronic check         </td><td>70.70                    </td><td> 151.65                  </td><td>Yes                      </td></tr>\n",
       "</tbody>\n",
       "</table>\n"
      ],
      "text/latex": [
       "\\begin{tabular}{r|lllllllllllllllllllll}\n",
       " customerID & gender & SeniorCitizen & Partner & Dependents & tenure & PhoneService & MultipleLines & InternetService & OnlineSecurity & ... & DeviceProtection & TechSupport & StreamingTV & StreamingMovies & Contract & PaperlessBilling & PaymentMethod & MonthlyCharges & TotalCharges & Churn\\\\\n",
       "\\hline\n",
       "\t 7590-VHVEG                & Female                    & 0                         & Yes                       & No                        &  1                        & No                        & No phone service          & DSL                       & No                        & ...                       & No                        & No                        & No                        & No                        & Month-to-month            & Yes                       & Electronic check          & 29.85                     &   29.85                   & No                       \\\\\n",
       "\t 5575-GNVDE                & Male                      & 0                         & No                        & No                        & 34                        & Yes                       & No                        & DSL                       & Yes                       & ...                       & Yes                       & No                        & No                        & No                        & One year                  & No                        & Mailed check              & 56.95                     & 1889.50                   & No                       \\\\\n",
       "\t 3668-QPYBK                & Male                      & 0                         & No                        & No                        &  2                        & Yes                       & No                        & DSL                       & Yes                       & ...                       & No                        & No                        & No                        & No                        & Month-to-month            & Yes                       & Mailed check              & 53.85                     &  108.15                   & Yes                      \\\\\n",
       "\t 7795-CFOCW                & Male                      & 0                         & No                        & No                        & 45                        & No                        & No phone service          & DSL                       & Yes                       & ...                       & Yes                       & Yes                       & No                        & No                        & One year                  & No                        & Bank transfer (automatic) & 42.30                     & 1840.75                   & No                       \\\\\n",
       "\t 9237-HQITU                & Female                    & 0                         & No                        & No                        &  2                        & Yes                       & No                        & Fiber optic               & No                        & ...                       & No                        & No                        & No                        & No                        & Month-to-month            & Yes                       & Electronic check          & 70.70                     &  151.65                   & Yes                      \\\\\n",
       "\\end{tabular}\n"
      ],
      "text/markdown": [
       "\n",
       "customerID | gender | SeniorCitizen | Partner | Dependents | tenure | PhoneService | MultipleLines | InternetService | OnlineSecurity | ... | DeviceProtection | TechSupport | StreamingTV | StreamingMovies | Contract | PaperlessBilling | PaymentMethod | MonthlyCharges | TotalCharges | Churn | \n",
       "|---|---|---|---|---|\n",
       "| 7590-VHVEG                | Female                    | 0                         | Yes                       | No                        |  1                        | No                        | No phone service          | DSL                       | No                        | ...                       | No                        | No                        | No                        | No                        | Month-to-month            | Yes                       | Electronic check          | 29.85                     |   29.85                   | No                        | \n",
       "| 5575-GNVDE                | Male                      | 0                         | No                        | No                        | 34                        | Yes                       | No                        | DSL                       | Yes                       | ...                       | Yes                       | No                        | No                        | No                        | One year                  | No                        | Mailed check              | 56.95                     | 1889.50                   | No                        | \n",
       "| 3668-QPYBK                | Male                      | 0                         | No                        | No                        |  2                        | Yes                       | No                        | DSL                       | Yes                       | ...                       | No                        | No                        | No                        | No                        | Month-to-month            | Yes                       | Mailed check              | 53.85                     |  108.15                   | Yes                       | \n",
       "| 7795-CFOCW                | Male                      | 0                         | No                        | No                        | 45                        | No                        | No phone service          | DSL                       | Yes                       | ...                       | Yes                       | Yes                       | No                        | No                        | One year                  | No                        | Bank transfer (automatic) | 42.30                     | 1840.75                   | No                        | \n",
       "| 9237-HQITU                | Female                    | 0                         | No                        | No                        |  2                        | Yes                       | No                        | Fiber optic               | No                        | ...                       | No                        | No                        | No                        | No                        | Month-to-month            | Yes                       | Electronic check          | 70.70                     |  151.65                   | Yes                       | \n",
       "\n",
       "\n"
      ],
      "text/plain": [
       "  customerID gender SeniorCitizen Partner Dependents tenure PhoneService\n",
       "1 7590-VHVEG Female 0             Yes     No          1     No          \n",
       "2 5575-GNVDE Male   0             No      No         34     Yes         \n",
       "3 3668-QPYBK Male   0             No      No          2     Yes         \n",
       "4 7795-CFOCW Male   0             No      No         45     No          \n",
       "5 9237-HQITU Female 0             No      No          2     Yes         \n",
       "  MultipleLines    InternetService OnlineSecurity ... DeviceProtection\n",
       "1 No phone service DSL             No             ... No              \n",
       "2 No               DSL             Yes            ... Yes             \n",
       "3 No               DSL             Yes            ... No              \n",
       "4 No phone service DSL             Yes            ... Yes             \n",
       "5 No               Fiber optic     No             ... No              \n",
       "  TechSupport StreamingTV StreamingMovies Contract       PaperlessBilling\n",
       "1 No          No          No              Month-to-month Yes             \n",
       "2 No          No          No              One year       No              \n",
       "3 No          No          No              Month-to-month Yes             \n",
       "4 Yes         No          No              One year       No              \n",
       "5 No          No          No              Month-to-month Yes             \n",
       "  PaymentMethod             MonthlyCharges TotalCharges Churn\n",
       "1 Electronic check          29.85            29.85      No   \n",
       "2 Mailed check              56.95          1889.50      No   \n",
       "3 Mailed check              53.85           108.15      Yes  \n",
       "4 Bank transfer (automatic) 42.30          1840.75      No   \n",
       "5 Electronic check          70.70           151.65      Yes  "
      ]
     },
     "metadata": {},
     "output_type": "display_data"
    }
   ],
   "source": [
    "## Load the Dataset - Customer Churn\n",
    "df <- read_csv('../data/WA_Fn-UseC_-Telco-Customer-Churn.csv')\n",
    "head(df, 5)"
   ]
  },
  {
   "cell_type": "markdown",
   "metadata": {},
   "source": [
    "#### Info\n",
    "- One dataset related to a telco customer can have hundreds, sometimes thousand of features to analyse\n",
    "- To keep the process simple it is going to be used the top 5 features from Phase 1 + gender to add some context of analysis\n",
    "- - you will see later in this notebook that this 6 features will become 46 features to be analysed"
   ]
  },
  {
   "cell_type": "code",
   "execution_count": 3,
   "metadata": {},
   "outputs": [
    {
     "data": {
      "text/plain": [
       "     tenure      MonthlyCharges    TotalCharges       gender    \n",
       " Min.   : 0.00   Min.   : 18.25   Min.   :   0.0   Female:3488  \n",
       " 1st Qu.: 9.00   1st Qu.: 35.50   1st Qu.: 398.6   Male  :3555  \n",
       " Median :29.00   Median : 70.35   Median :1394.5                \n",
       " Mean   :32.37   Mean   : 64.76   Mean   :2279.7                \n",
       " 3rd Qu.:55.00   3rd Qu.: 89.85   3rd Qu.:3786.6                \n",
       " Max.   :72.00   Max.   :118.75   Max.   :8684.8                \n",
       "                   PaymentMethod  Churn                Contract   \n",
       " Bank transfer (automatic):1544   No :5174   Month-to-month:3875  \n",
       " Credit card (automatic)  :1522   Yes:1869   One year      :1473  \n",
       " Electronic check         :2365              Two year      :1695  \n",
       " Mailed check             :1612                                   \n",
       "                                                                  \n",
       "                                                                  "
      ]
     },
     "metadata": {},
     "output_type": "display_data"
    }
   ],
   "source": [
    "## Exclude Customer_ID and apply 0 to Total Charges -> First Bill\n",
    "df[is.na(df$TotalCharges) & df$tenure==0 , ]['TotalCharges'] <- 0\n",
    "df$customerID <- NULL\n",
    "\n",
    "target <- 'Churn'\n",
    "feature_categories <- df %>% keep(is.character) %>% colnames()\n",
    "feature_categories <- setdiff(feature_categories, target)\n",
    "\n",
    "## converte character to factor for analysis\n",
    "df <- df %>%  mutate_if(is.character, as.factor)\n",
    "\n",
    "current_features <- c('tenure', 'MonthlyCharges', 'TotalCharges', 'gender', 'PaymentMethod' , 'Churn', 'Contract')\n",
    "summary(df[current_features])\n"
   ]
  },
  {
   "cell_type": "markdown",
   "metadata": {},
   "source": [
    "## Analyse charges and churn by gender"
   ]
  },
  {
   "cell_type": "markdown",
   "metadata": {},
   "source": [
    "#### Info\n",
    "- The Monthly Charge, Total Charges and churn(yes/no) is well distributed between gender as showed by graphic below"
   ]
  },
  {
   "cell_type": "code",
   "execution_count": 4,
   "metadata": {},
   "outputs": [
    {
     "data": {
      "image/png": "[encoded data removed]",
      "text/plain": [
       "plot without title"
      ]
     },
     "metadata": {},
     "output_type": "display_data"
    }
   ],
   "source": [
    "options(repr.plot.width = 8, repr.plot.height = 3)\n",
    "gg1 <- qplot(data=df, x=Churn, y=MonthlyCharges, color=gender, geom='boxplot') + coord_flip()\n",
    "gg2 <- qplot(data=df, x=TotalCharges, y=MonthlyCharges, color=gender, geom='point')\n",
    "# gg3 <- qplot(data=df, x=TotalCharges, y=MonthlyCharges, color=Churn, geom='point')\n",
    "\n",
    "gridExtra::grid.arrange(gg1, gg2, nrow = 1)"
   ]
  },
  {
   "cell_type": "markdown",
   "metadata": {},
   "source": [
    "## Analyse the Payment Method and Charges associated with Churn (Yes or No)"
   ]
  },
  {
   "cell_type": "markdown",
   "metadata": {},
   "source": [
    "#### Note\n",
    "- The Payment Method (Eletronick check: biggest one) have quite the same proportion of Churn (Yes or No)\n",
    "    seems to not influence a lot. \n",
    "- Other types of payments can influence the customer churn but have less customers associated with it\n",
    "    \n",
    "\n",
    "## 1st Insight\n",
    "- The first important insight is the confirmation of a lot of Churners caused by Monthly Charges without correlation high Total Charges\n",
    "- Note that high Total Charges do not have so many churners also"
   ]
  },
  {
   "cell_type": "code",
   "execution_count": 5,
   "metadata": {},
   "outputs": [
    {
     "data": {
      "image/png": "[encoded data removed]",
      "text/plain": [
       "plot without title"
      ]
     },
     "metadata": {},
     "output_type": "display_data"
    }
   ],
   "source": [
    "## Payment Method\n",
    "pmnt <-  df %>% group_by(PaymentMethod, Churn) %>% summarise(customers_n = n())\n",
    "pmnt$PaymentMethod <-  str_remove(str_remove(str_remove(pmnt$PaymentMethod, 'automatic'), '\\\\('), '\\\\)')\n",
    "\n",
    "\n",
    "## plot de 4 graficos em conjunto\n",
    "color_manual <- c('#2a39ff', '#ff8b24')\n",
    "\n",
    "gg3 <- qplot(data=df, x=TotalCharges, y=MonthlyCharges, color=Churn, geom='point')\n",
    "gg3 <- gg3 + scale_color_manual(values=color_manual)\n",
    "gg4 <- qplot(data = pmnt, x= PaymentMethod , y=customers_n, fill=Churn,  geom='col') + coord_flip()\n",
    "gg4 <- gg4 + scale_fill_manual(values=color_manual)\n",
    "\n",
    "\n",
    "gridExtra::grid.arrange(gg4, gg3, nrow = 1)\n"
   ]
  },
  {
   "cell_type": "markdown",
   "metadata": {},
   "source": [
    "## Investigate monthly charges by contract type, by tenure and churners"
   ]
  },
  {
   "cell_type": "markdown",
   "metadata": {},
   "source": [
    "#### Note\n",
    "- The customer churners are not well distibuted between contract type\n",
    "- Long term contracts such as Two years and also One Year have much less churners\n",
    "    \n",
    "\n",
    "## 2nd Insight\n",
    "- The higher volume of churners are associated with Month-to-Month Contract with high Monthly Charges and usually small tenure"
   ]
  },
  {
   "cell_type": "code",
   "execution_count": 6,
   "metadata": {},
   "outputs": [
    {
     "data": {
      "image/png": "[encoded data removed]",
      "text/plain": [
       "plot without title"
      ]
     },
     "metadata": {},
     "output_type": "display_data"
    }
   ],
   "source": [
    "## Contract and tenure drives to Churn\n",
    "gg5 <- qplot(data=df, x=tenure, y=MonthlyCharges, color=Churn, geom='point', facets = .~Contract, main='   Contract Type')\n",
    "gg5 <- gg5 + scale_color_manual(values=color_manual)\n",
    "\n",
    "gridExtra::grid.arrange(gg5, nrow = 1)"
   ]
  },
  {
   "cell_type": "markdown",
   "metadata": {},
   "source": [
    "### Let´s run one machine learning algorithm to identify the relationship in the data\n",
    "\n",
    "\n",
    "- Run xgboost model and plot the feature importance \n",
    "- - the idea here is also to improve the model accuracy achieved with Random Forest in Phase 1\n",
    "    \n",
    "    \n",
    "- One trick: use of One Hot Encoding and not the Label Encoding used Phase 1\n",
    "- - the target with this trick is to see the detailed features that drives customers to churn\n",
    "- - and also to confirm if the analyse above can be susteined by the machine learning model"
   ]
  },
  {
   "cell_type": "code",
   "execution_count": 7,
   "metadata": {},
   "outputs": [],
   "source": [
    "## few steps before run the xgb model\n",
    "\n",
    "target <- 'Churn'\n",
    "feature_categories <- df %>% keep(is.factor) %>% colnames()\n",
    "feature_categories <- setdiff(feature_categories, target)\n",
    "\n",
    "## function to run the One Hot Enconding -> all features categories \n",
    "ffm_One_Hot_Encoding_dataframe <- function(dataframe, cols_OneHOtEncoding=c()){\n",
    "  # ONE HOT ENCODING --------------------------------------------------------\n",
    "  require(caret)  \n",
    "  \n",
    "  for (i in seq_along(cols_OneHOtEncoding)){\n",
    "    idx_col <- which(colnames(dataframe) == cols_OneHOtEncoding[i])\n",
    "    formula <- as.formula( paste0('~ ' , cols_OneHOtEncoding[i]))    \n",
    "    dummies <- predict(dummyVars(formula, data = dataframe), newdata = dataframe)\n",
    "    dataframe <- cbind(dataframe, dummies)\n",
    "    dataframe[, idx_col] <- NULL\n",
    "  }\n",
    "  return(dataframe)  \n",
    "}\n",
    "\n",
    "df_xgb <- ffm_One_Hot_Encoding_dataframe(df, feature_categories)\n",
    "\n",
    "df_xgb$Churn <- as.integer(as.factor(df_xgb$Churn)) -1L\n",
    "\n",
    "## Dataframe structure\n",
    "## str(df)"
   ]
  },
  {
   "cell_type": "markdown",
   "metadata": {},
   "source": [
    "#### The shape of the dataset/telco customer to be analysed have now 46 features"
   ]
  },
  {
   "cell_type": "code",
   "execution_count": 8,
   "metadata": {},
   "outputs": [
    {
     "data": {
      "text/html": [
       "46"
      ],
      "text/latex": [
       "46"
      ],
      "text/markdown": [
       "46"
      ],
      "text/plain": [
       "[1] 46"
      ]
     },
     "metadata": {},
     "output_type": "display_data"
    }
   ],
   "source": [
    "dim(df_xgb)[2]"
   ]
  },
  {
   "cell_type": "markdown",
   "metadata": {},
   "source": [
    "## Execution of the machine learning model"
   ]
  },
  {
   "cell_type": "code",
   "execution_count": 9,
   "metadata": {},
   "outputs": [
    {
     "name": "stdout",
     "output_type": "stream",
     "text": [
      "[1]\ttrain-auc:0.859149\teval-auc:0.828259 \n",
      "Multiple eval metrics are present. Will use eval_auc for early stopping.\n",
      "Will train until eval_auc hasn't improved in 5 rounds.\n",
      "\n",
      "[11]\ttrain-auc:0.903985\teval-auc:0.841185 \n",
      "Stopping. Best iteration:\n",
      "[15]\ttrain-auc:0.910813\teval-auc:0.842038\n",
      "\n"
     ]
    },
    {
     "data": {
      "text/plain": [
       "Confusion Matrix and Statistics\n",
       "\n",
       "          Reference\n",
       "Prediction   0   1\n",
       "         0 912 161\n",
       "         1 118 217\n",
       "                                          \n",
       "               Accuracy : 0.8018          \n",
       "                 95% CI : (0.7801, 0.8224)\n",
       "    No Information Rate : 0.7315          \n",
       "    P-Value [Acc > NIR] : 5.033e-10       \n",
       "                                          \n",
       "                  Kappa : 0.4767          \n",
       " Mcnemar's Test P-Value : 0.01192         \n",
       "                                          \n",
       "            Sensitivity : 0.5741          \n",
       "            Specificity : 0.8854          \n",
       "         Pos Pred Value : 0.6478          \n",
       "         Neg Pred Value : 0.8500          \n",
       "             Prevalence : 0.2685          \n",
       "         Detection Rate : 0.1541          \n",
       "   Detection Prevalence : 0.2379          \n",
       "      Balanced Accuracy : 0.7298          \n",
       "                                          \n",
       "       'Positive' Class : 1               \n",
       "                                          "
      ]
     },
     "metadata": {},
     "output_type": "display_data"
    }
   ],
   "source": [
    "## Finally let's run the model\n",
    "## \n",
    "\n",
    "set.seed(458)\n",
    "idx <- createDataPartition(df_xgb$Churn, p=0.80, list = FALSE)\n",
    "train <- df_xgb[idx, ]\n",
    "test <- df_xgb[-idx, ]\n",
    "idx_target <- which(colnames(df_xgb)==target)\n",
    "\n",
    "dtrain <- xgb.DMatrix(as.matrix(train[, -idx_target]), label=train[[target]])\n",
    "dtest <-  xgb.DMatrix(as.matrix(test[, -idx_target]), label=test[[target]])\n",
    "\n",
    "\n",
    "parameters <- list(objective = \"binary:logistic\", \n",
    "                   eval_metric = \"auc\")\n",
    "\n",
    "nrounds_xgb <- 100\n",
    "set.seed(458)\n",
    "fit.xgb <- xgb.train(params = parameters,\n",
    "                     data = dtrain,\n",
    "                     watchlist = list(train = dtrain, eval = dtest),\n",
    "                     early_stopping_rounds = 5,\n",
    "                     nrounds = nrounds_xgb,\n",
    "                     print_every_n = 10,\n",
    "                     nthread = 2)\n",
    "\n",
    "\n",
    "xgb_predict <- predict(fit.xgb, as.matrix(test[, -idx_target]))\n",
    "xgb_predict <- round(xgb_predict)\n",
    "\n",
    "confusionMatrix(factor(xgb_predict), factor(test$Churn), positive = '1')\n"
   ]
  },
  {
   "cell_type": "markdown",
   "metadata": {},
   "source": [
    "## Improvement of 3% of accuracy with xgboost\n",
    "\n",
    "- The accuracy now is 80.18% instead of 77% (Phase 1 with Random Forest)\n",
    "\n",
    "#### Save / store the xgb model (accuracy of 80 percent)"
   ]
  },
  {
   "cell_type": "code",
   "execution_count": 10,
   "metadata": {},
   "outputs": [
    {
     "data": {
      "text/html": [
       "TRUE"
      ],
      "text/latex": [
       "TRUE"
      ],
      "text/markdown": [
       "TRUE"
      ],
      "text/plain": [
       "[1] TRUE"
      ]
     },
     "metadata": {},
     "output_type": "display_data"
    }
   ],
   "source": [
    "## Save the model -> 80% of accuracy\n",
    "xgb.save(fit.xgb, '../data/xgb_model_acc_80p.model')\n",
    "\n",
    "## obs. to load the model later just run the command below\n",
    "## model_xgb <- xgb.load('./data/xgb_model_acc_80p.model')"
   ]
  },
  {
   "cell_type": "markdown",
   "metadata": {},
   "source": [
    "## Plot of feature importance"
   ]
  },
  {
   "cell_type": "code",
   "execution_count": 11,
   "metadata": {},
   "outputs": [
    {
     "data": {
      "image/png": "[encoded data removed]",
      "text/plain": [
       "plot without title"
      ]
     },
     "metadata": {},
     "output_type": "display_data"
    }
   ],
   "source": [
    "## importance matrix\n",
    "importance_matrix <- xgb.importance(colnames(dtrain), \n",
    "                                    model = fit.xgb)\n",
    "\n",
    "options(repr.plot.width = 6, repr.plot.height = 4)\n",
    "xgb.plot.importance(importance_matrix, top_n = 10)\n"
   ]
  },
  {
   "cell_type": "markdown",
   "metadata": {},
   "source": [
    "## 3rd Insight\n",
    "\n",
    "- Contract type is really important and Month to Month contract is the most important feature along wiht tenure and monthly charges\n",
    "\n",
    "\n",
    "- Note that the most important feature related to payment method (eletronic check) are just the top 10"
   ]
  },
  {
   "cell_type": "markdown",
   "metadata": {},
   "source": [
    "### Evaluate the distribution of churners by contract type"
   ]
  },
  {
   "cell_type": "code",
   "execution_count": 12,
   "metadata": {},
   "outputs": [
    {
     "data": {
      "image/png": "[encoded data removed]",
      "text/plain": [
       "plot without title"
      ]
     },
     "metadata": {},
     "output_type": "display_data"
    }
   ],
   "source": [
    "options(repr.plot.width = 5, repr.plot.height = 3)\n",
    "gg6 <- qplot(data=df, Contract, fill=Churn, ylab='Number of Contracts') + coord_flip()\n",
    "gg6 <- gg6 + scale_fill_manual(values=color_manual)\n",
    "\n",
    "print(gg6)"
   ]
  },
  {
   "cell_type": "markdown",
   "metadata": {},
   "source": [
    "## How much revenue will be lost by contract type ? \n",
    "\n",
    "- May be the charges are quite similar between contract type and tenure ... let's see...\n",
    "\n",
    "#### Revenue stopped because the customer churn"
   ]
  },
  {
   "cell_type": "code",
   "execution_count": 15,
   "metadata": {},
   "outputs": [
    {
     "data": {},
     "metadata": {},
     "output_type": "display_data"
    },
    {
     "data": {
      "image/png": "[encoded data removed]",
      "text/plain": [
       "plot without title"
      ]
     },
     "metadata": {},
     "output_type": "display_data"
    }
   ],
   "source": [
    "df %>% filter(Churn=='Yes') %>%   \n",
    "  group_by(tenure, Contract) %>% \n",
    "  summarise( MonthlyCharges=sum(MonthlyCharges), \n",
    "             TotalCharges=sum(TotalCharges))  %>% \n",
    "  qplot(data=. ,x=tenure, y=MonthlyCharges, \n",
    "        geom='area', alpha=0.5, fill=Contract,\n",
    "        main='    Revenue stopped: Customer Churn = Yes') "
   ]
  },
  {
   "cell_type": "markdown",
   "metadata": {},
   "source": [
    "# Summary\n",
    "\n",
    "### The top 3 most important features related to churn (Yes) are:\n",
    "\n",
    "- Higher Monthly Charges\n",
    "- Small to Medium Tenure and associated with\n",
    "- Month-to-Month contract\n",
    "\n",
    "##### Well done... better clear picture of why customers churn\n",
    "\n",
    "- Next notebooks will use python to build machine learning models and apply additional techniques to improve performance"
   ]
  }
 ],
 "metadata": {
  "kernelspec": {
   "display_name": "R",
   "language": "R",
   "name": "ir"
  },
  "language_info": {
   "codemirror_mode": "r",
   "file_extension": ".r",
   "mimetype": "text/x-r-source",
   "name": "R",
   "pygments_lexer": "r",
   "version": "3.6.1"
  }
 },
 "nbformat": 4,
 "nbformat_minor": 2
}
